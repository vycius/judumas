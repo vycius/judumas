{
 "cells": [
  {
   "cell_type": "markdown",
   "metadata": {
    "pycharm": {
     "name": "#%% md\n"
    }
   },
   "source": [
    "# MBS (Mobility Data Specification)\n",
    "\n",
    "Mobility Data Specification (MDS) yra vienas iš standartų paspirtukų kompanijų kontrolei yra. Šis standartas naudojamas daugiau nei 130 miestų {cite}`open_mobily_foundation_mds_countries` ir jau dabar palaikomas Bolt, Lime, Lyft ir kt.\n",
    "\n",
    "\n",
    "MDS suteikia galimybę kontroliuojančiai institucijai iš kompanijų gauti duomenis, kurie gali padėti:\n",
    "- Nagrinėjant skundus (paspirtukų palikimą neleistinose vietose, važiavimo greitį ir pnš.);\n",
    "- Incidentų tyrimui: eismo įvykio priežasčių nustatymas, traumos ir pnš;\n",
    "- Drausti palikti paspirtukus konkrečiose vietose;\n",
    "- Planuoti infrastruktūrą atsižvelgdami į naudojimą ir paklausą, paspirtukų pasiėmimą ir palikimą bei nuvažiuotas keliones;\n",
    "\n",
    "Pilnesnis galimų naudų sąrašas https://github.com/openmobilityfoundation/governance/wiki/MDS-Use-Cases#extracted-list"
   ]
  },
  {
   "cell_type": "code",
   "execution_count": null,
   "metadata": {
    "pycharm": {
     "name": "#%%\n"
    },
    "tags": [
     "hide-input"
    ]
   },
   "outputs": [],
   "source": [
    "import json\n",
    "import pandas as pd\n",
    "import plotly.express as px\n",
    "\n",
    "mapbox_access_token = open(\"../.mapbox_token\").read()\n",
    "px.set_mapbox_access_token(mapbox_access_token)\n",
    "\n",
    "europe_center = {'lat': 55, 'lon': 10}\n",
    "\n",
    "\n",
    "with open('../data/geojson/world.geojson', 'r') as world_geojson_file:\n",
    "    world_geojson = json.load(world_geojson_file)\n",
    "\n",
    "mds_cities_df = pd.read_csv(\"../data/mds/MDS-supported-cities.csv\")\n",
    "\n",
    "\n",
    "fig = px.scatter_mapbox(\n",
    "    data_frame=mds_cities_df,\n",
    "    lat='Latitude',\n",
    "    lon='Longitude',\n",
    "    mapbox_style=\"light\",\n",
    "    zoom=1,\n",
    "    center=europe_center,\n",
    "    title='Mobility Data Specification palaikymas',\n",
    "    hover_name='City',\n",
    ")\n",
    "\n",
    "fig.update_traces(showlegend=False)\n",
    "\n",
    "fig.update_layout(\n",
    "    mapbox_layers=[\n",
    "        {\n",
    "            \"sourceattribution\": '© <a href=\"https://judumas.vycius.lt\" target=\"_blank\">Karolis Vyčius</a> © <a href=\"https://www.openmobilityfoundation.org/mds-users/\" target=\"_blank\">Open Mobility Foundation</a>'\n",
    "        }\n",
    "    ])\n",
    "fig.update_layout(margin={\"r\":0,\"l\":0,\"b\":0})\n",
    "fig.show()"
   ]
  },
  {
   "cell_type": "code",
   "execution_count": null,
   "metadata": {
    "pycharm": {
     "name": "#%%\n"
    }
   },
   "outputs": [],
   "source": []
  },
  {
   "cell_type": "code",
   "execution_count": null,
   "metadata": {
    "pycharm": {
     "name": "#%%\n"
    }
   },
   "outputs": [],
   "source": []
  }
 ],
 "metadata": {
  "celltoolbar": "Tags",
  "kernelspec": {
   "display_name": "Python 3 (ipykernel)",
   "language": "python",
   "name": "python3"
  },
  "language_info": {
   "codemirror_mode": {
    "name": "ipython",
    "version": 3
   },
   "file_extension": ".py",
   "mimetype": "text/x-python",
   "name": "python",
   "nbconvert_exporter": "python",
   "pygments_lexer": "ipython3",
   "version": "3.9.7"
  }
 },
 "nbformat": 4,
 "nbformat_minor": 1
}
