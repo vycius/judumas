{
 "cells": [
  {
   "cell_type": "markdown",
   "metadata": {
    "pycharm": {
     "name": "#%% md\n"
    }
   },
   "source": [
    "# GTFS Realtime (General Transit Feed Specification Realtime)\n",
    "\n",
    "## GTFS Realtime dalys\n",
    "GTFS Realtime susideda iš trijų informacijos dalių.\n",
    "https://opentransportdata.swiss/en/cookbook/gtfs-rt/\n",
    "\n",
    "### Kelionės eiga\n",
    "Pavyzdys: \"7 troleibusas vėluos atvažiuoti į Centro poliklinikos stotelę 6 minutes\"\n",
    "\n",
    "Skelbiami transporto priemonės vėlavimai / skubėjimai maršrute, informacija apie pakeistus maršrutus, pakaitines transporto priemonės ar atskirų maršrutų atšaukimus.\n",
    "\n",
    "\n",
    "- Eiga: transporto priemonės eiga maršrute (pvz., vėlavimas, skubėjimas, )\n",
    "\n",
    "- Transporto priemonių koordinates\n",
    "- Trikdžiai: pranešimai naudotojams apie transporto sutrikimus (pvz., avariją, šventę, statybų darbus, kurie gali turėti įtakos maršrutui).\n",
    "\n",
    "## Programos naudojančios GTFS realtime duomenis\n",
    "- Google Maps\n",
    "- OpenTripPlanner\n",
    "- OneBusAway\n",
    "- Bing Maps\n",
    "- Transit App\n",
    "- Traze.app\n",
    "- CityMapper\n",
    "\n",
    "Sudaryta pagal {cite}`transitwiki_gtfs_realtime_apps`"
   ]
  },
  {
   "cell_type": "markdown",
   "metadata": {
    "pycharm": {
     "name": "#%% md\n"
    }
   },
   "source": []
  }
 ],
 "metadata": {
  "kernelspec": {
   "display_name": "Python 3",
   "language": "python",
   "name": "python3"
  },
  "language_info": {
   "codemirror_mode": {
    "name": "ipython",
    "version": 2
   },
   "file_extension": ".py",
   "mimetype": "text/x-python",
   "name": "python",
   "nbconvert_exporter": "python",
   "pygments_lexer": "ipython2",
   "version": "2.7.6"
  }
 },
 "nbformat": 4,
 "nbformat_minor": 0
}
