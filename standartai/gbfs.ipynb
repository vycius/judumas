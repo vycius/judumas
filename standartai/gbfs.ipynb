{
 "cells": [
  {
   "cell_type": "markdown",
   "metadata": {
    "pycharm": {
     "name": "#%% md\n"
    }
   },
   "source": [
    "# GBFS (General Bikeshare Feed Specification)\n",
    "\n",
    "GBFS (General Bikeshare Feed Specification) yra atvirų duomenų standartas suteikiantis galimybę darnaus judumo paslaugų teikėjams perduoti realaus laiko informacija apie transporto priemones (dviračius, motorolerius, mopedus ir automobilius), jų stoteles, kainodarą ir kita{cite}`mobility_data_gbfs`:\n",
    "- Transporto priemonių, jų stotelių vietos ir prieinamumas;\n",
    "- Transporto priemonės būklė: modelis, galia, galimas nuvažiuoti atstumas;\n",
    "- Paslaugos kainos ir nuomos sąlygos;\n",
    "- Taisyklės, susijusios su maksimaliu greičiu, transporto priemonės palikimu ir draudžiamomis zonomis.\n",
    "\n",
    "Platesnė informacija apie [GBFS specifikaciją](https://github.com/NABSA/gbfs/blob/master/gbfs.md)\n",
    "\n",
    "GBFS duomenys gali būti ne tik naudojami kelionių planavimo ir Mobility as a Service (MaaS) programų, tačiau gali suteikti galimybę savivaldybėms ir transporto agentūroms  analizuoti, planuoti, vizualizuoti ir palyginti darnaus judumo paslaugų teikėjų duomenis standartizuotu būdu.\n",
    "\n",
    "\n",
    "# Standarto paplitimas\n",
    "2022 m. GBFS buvo naudojamas daugiau nei 600 dviračių, paspirtukų motorolerių dalijimosi paslaugų teikėju pasaulyje{cite}`nabsa_about_gbfs`. Taip pat 2020 m. 69% Šiaurės Amerikos miestų iš judumo paslaugų teikėjų reikalauja duomenų GBFS formatu{cite}`nabsa_shared_mobility_report`."
   ]
  },
  {
   "cell_type": "code",
   "execution_count": null,
   "metadata": {
    "pycharm": {
     "name": "#%%\n"
    }
   },
   "outputs": [],
   "source": [
    "import json\n",
    "import pandas as pd\n",
    "import plotly.express as px\n",
    "\n",
    "mapbox_access_token = open(\"../.mapbox_token\").read()\n",
    "px.set_mapbox_access_token(mapbox_access_token)\n",
    "\n",
    "europe_center = {'lat': 55, 'lon': 10}\n",
    "\n",
    "with open('../data/geojson/world.geojson', 'r') as world_geojson_file:\n",
    "    world_geojson = json.load(world_geojson_file)\n",
    "\n",
    "gbfs_cities_df = pd.read_csv(\"../data/gbfs/gbfs-systems.csv\")\n",
    "\n",
    "fig = px.scatter_mapbox(\n",
    "    data_frame=gbfs_cities_df,\n",
    "    lat='Latitude',\n",
    "    lon='Longitude',\n",
    "    mapbox_style=\"light\",\n",
    "    zoom=2,\n",
    "    center=europe_center,\n",
    "    title='GBFS paplitimas pasaulyje',\n",
    "    hover_name='Name',\n",
    "    hover_data=['Location', 'System ID', 'URL'],\n",
    ")\n",
    "\n",
    "fig.update_traces(showlegend=False)\n",
    "\n",
    "fig.update_layout(\n",
    "    mapbox_layers=[\n",
    "        {\n",
    "            \"sourceattribution\": '© <a href=\"https://judumas.vycius.lt\" target=\"_blank\">Karolis Vyčius</a> © <a href=\"https://raw.githubusercontent.com/NABSA/gbfs/master/systems.csv\" target=\"_blank\">NABSA</a>'\n",
    "        }\n",
    "    ])\n",
    "fig.update_layout(margin={\"r\": 0, \"l\": 0, \"b\": 0})\n",
    "fig.show()"
   ]
  },
  {
   "cell_type": "markdown",
   "metadata": {},
   "source": [
    "## Duomenų panaudojimas\n",
    "### Google Maps\n",
    "\n",
    "```{figure} ../images/standartai/gbfs/google-maps-bikes-in-london.png\n",
    ":height: 500px\n",
    ":name: google-maps-bikes\n",
    "\n",
    "Google Maps realaus laiko informacija apie dviračius Londone, Jungtinėje Karalystėje\n",
    "```\n"
   ]
  }
 ],
 "metadata": {
  "kernelspec": {
   "display_name": "Python 3",
   "language": "python",
   "name": "python3"
  },
  "language_info": {
   "codemirror_mode": {
    "name": "ipython",
    "version": 2
   },
   "file_extension": ".py",
   "mimetype": "text/x-python",
   "name": "python",
   "nbconvert_exporter": "python",
   "pygments_lexer": "ipython2",
   "version": "2.7.6"
  }
 },
 "nbformat": 4,
 "nbformat_minor": 0
}
