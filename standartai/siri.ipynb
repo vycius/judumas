{
 "cells": [
  {
   "cell_type": "markdown",
   "metadata": {
    "pycharm": {
     "name": "#%% md\n"
    }
   },
   "source": [
    "# SIRI\n",
    "\n",
    "SIRI (Service Interface for Real Time Information)\n",
    "\n",
    "> (16) [...] Dėl keitimosi dinaminiais viešojo transporto duomenimis pasakytina, kad, valstybėms narėms nutarus į nacionalinį prieigos punktą **įtraukti dinaminius duomenis, tokiems duomenims turėtų būti naudojamos atitinkamos keitimosi viešojo transporto duomenimis standarto SIRI CEN/TS 15531**, kurį nustatė Europos standartizacijos komitetas, dalys ir paskesnės atnaujintos jų redakcijos arba kitas visiškai suderintas kompiuterio skaitomas formatas. Valstybės narės gali nuspręsti valstybės narės lygmens nacionaliniam transportui toliau taikyti nacionalinius viešojo transporto duomenų standartus, tačiau nacionaliniame prieigos punkte turi būti naudojami nurodyti ES standartai, kad paslaugų sąveikumas ir ištisinis veikimas būtų užtikrintas visoje Europos Sąjungoje. Laikydamosi Europos standartizavimo reikalavimų, valstybės narės gali taikyti transliavimo ir konvertavimo metodus. Turėtų būti laikomasi nurodytų taikymo dieną aktualios redakcijos standartų. Turėtų būti atsižvelgiama į visus aktualius atnaujinimus, kuriais išplečiama standartų taikymo sritis arba į ją įtraukiami naujų rūšių duomenys;\n",
    "\n",
    ">\n",
    "> -- <cite>Europos Parlamento ir Tarybos direktyvos 2010/40/ES nuostatos dėl informacijos apie keliavimą daugiarūšiu transportu paslaugų teikimo{cite}`directive_multimodal_travel_information_services`</cite>\n"
   ]
  }
 ],
 "metadata": {
  "kernelspec": {
   "display_name": "Python 3",
   "language": "python",
   "name": "python3"
  },
  "language_info": {
   "codemirror_mode": {
    "name": "ipython",
    "version": 2
   },
   "file_extension": ".py",
   "mimetype": "text/x-python",
   "name": "python",
   "nbconvert_exporter": "python",
   "pygments_lexer": "ipython2",
   "version": "2.7.6"
  }
 },
 "nbformat": 4,
 "nbformat_minor": 0
}
