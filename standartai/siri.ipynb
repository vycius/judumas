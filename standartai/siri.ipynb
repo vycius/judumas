{
 "cells": [
  {
   "cell_type": "markdown",
   "metadata": {
    "pycharm": {
     "name": "#%% md\n"
    }
   },
   "source": [
    "# SIRI\n",
    "\n",
    "SIRI (Service Interface for Real Time Information)\n",
    "\n",
    "> (16) [...] Dėl keitimosi dinaminiais viešojo transporto duomenimis pasakytina, kad, valstybėms narėms nutarus į nacionalinį prieigos punktą **įtraukti dinaminius duomenis, tokiems duomenims turėtų būti naudojamos atitinkamos keitimosi viešojo transporto duomenimis standarto SIRI CEN/TS 15531**, kurį nustatė Europos standartizacijos komitetas, dalys ir paskesnės atnaujintos jų redakcijos arba kitas visiškai suderintas kompiuterio skaitomas formatas. Valstybės narės gali nuspręsti valstybės narės lygmens nacionaliniam transportui toliau taikyti nacionalinius viešojo transporto duomenų standartus, tačiau nacionaliniame prieigos punkte turi būti naudojami nurodyti ES standartai, kad paslaugų sąveikumas ir ištisinis veikimas būtų užtikrintas visoje Europos Sąjungoje. Laikydamosi Europos standartizavimo reikalavimų, valstybės narės gali taikyti transliavimo ir konvertavimo metodus. Turėtų būti laikomasi nurodytų taikymo dieną aktualios redakcijos standartų. Turėtų būti atsižvelgiama į visus aktualius atnaujinimus, kuriais išplečiama standartų taikymo sritis arba į ją įtraukiami naujų rūšių duomenys;\n",
    "\n",
    ">\n",
    "> -- <cite>Europos Parlamento ir Tarybos direktyvos 2010/40/ES nuostatos dėl informacijos apie keliavimą daugiarūšiu transportu paslaugų teikimo{cite}`directive_multimodal_travel_information_services`</cite>"
   ]
  },
  {
   "cell_type": "markdown",
   "metadata": {
    "pycharm": {
     "name": "#%% md\n"
    }
   },
   "source": []
  },
  {
   "cell_type": "markdown",
   "metadata": {
    "pycharm": {
     "name": "#%% md\n"
    }
   },
   "source": [
    "SIRI defines a standard for exchanging dynamic public transport passenger information data in XML format. SIRI (Service Interface for Real-time Information) is divided into five parts:\n",
    "Part 1 describes the context and the framework including the different organisations involved, public transport vehicle control centres, fleet of public transport vehicles, network information, information provision systems, passenger information services or devices.\n",
    "Part 2 describes the communication infrastructures and mechanism to exchange real time information. Part 3 specifies individual application interface of functional modules on real-time tables (production,\n",
    "estimated, at stop, for connection) or on monitoring of vehicles with current position and travel time.\n",
    "Part 4, named Facility Monitoring, enables the exchange of information on the current status of available facilities.\n",
    "Part 5 is linked with DATEX II to provide real-time information on situation and incident that appends along the road network and which impacts the journey of the public transport vehicles.\n",
    "To give some simple examples, SIRI provides:\n",
    " •\n",
    "• •\n",
    "EU EIP\n",
    "real-time departure which could be different from the departure announced in the time table provided by NeTEx,\n",
    "real-time information about the position along the route to an individual vehicle,\n",
    "synchronisation between arrival and departure to guarantee the connection, if connections are needed for a journey\n",
    " EU EIP A2/2021/N°1\n",
    "EU EIP A2 WG NAP - Annual NAP Report 2020 38\n",
    "  A SIRI-Lite version is also available which is a profile of SIRI to make it simpler to implement and deploy according to the usage of Representational state transfer (REST) than SIRI uses SOAP.\n",
    "\n",
    "https://www.its-platform.eu/wp-content/uploads/ITS-Platform/AchievementsDocuments/NAP/EU%20EIP%20-%20National%20Access%20Points%20-%20annual%20report%202020.pdf"
   ]
  }
 ],
 "metadata": {
  "kernelspec": {
   "display_name": "Python 3",
   "language": "python",
   "name": "python3"
  },
  "language_info": {
   "codemirror_mode": {
    "name": "ipython",
    "version": 2
   },
   "file_extension": ".py",
   "mimetype": "text/x-python",
   "name": "python",
   "nbconvert_exporter": "python",
   "pygments_lexer": "ipython2",
   "version": "2.7.6"
  }
 },
 "nbformat": 4,
 "nbformat_minor": 0
}
