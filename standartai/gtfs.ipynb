{
 "cells": [
  {
   "cell_type": "markdown",
   "metadata": {
    "pycharm": {
     "name": "#%% md\n"
    }
   },
   "source": [
    "# GTFS\n",
    "\n",
    "GTFS (*General Transit Feed Specification*) yra ypač plačiai naudojamas standartas skirtas pateikti viešojo transporto statinę informaciją. Šis formatas yra naudojamas ne tik daugybės transporto paslaugų teikėjų visame pasaulyje, tačiau ir visų populiariausių kelionių planavimo priemonių (pvz., Google Maps Transit, Apple Maps Transit).\n",
    "\n",
    "## Struktrūa\n",
    "\n",
    "GTFS duomenų rinkinys būna suspaustas į `.zip` failą susidedantį iš keleto `.csv` kablelių atskirtų failų. Kiekviename iš failų saugoma informacija apie konkretų transporto sistemos elementą pvz., stoteles, maršrutus, reisus, tvarkaraštį ir pnš.\n",
    "\n",
    "Toliau detaliau aprašomas kiekvienas GTFS duomenų rinkinio failas{cite}`google_gtfs_reference`.\n",
    "\n",
    "| Failas                                                                                           | Privalomumas         | Aprašymas                                                          |\n",
    "|--------------------------------------------------------------------------------------------------|----------------------|--------------------------------------------------------------------|\n",
    "| [`agency.txt`](https://developers.google.com/transit/gtfs/reference#agencytxt)                   | Privalomas           | Informacija apie transporto paslaugų teikėjus.                     |\n",
    "| [`stops.txt`](https://developers.google.com/transit/gtfs/reference#stopstxt)                     | Privalomas           | Stotelių informacija.                                              |\n",
    "| [`routes.txt`](https://developers.google.com/transit/gtfs/reference#routestxt)                   | Privalomas           | Maršrutų informacija.                                              |\n",
    "| [`trips.txt`](https://developers.google.com/transit/gtfs/reference#tripstxt)                     | Privalomas           | Reisų informacija.                                                 |\n",
    "| [`stop_times.txt`](https://developers.google.com/transit/gtfs/reference#stop_timestxt)           | Provalomas           | Laikai, kada transporto priemonė atvyksta ir išvyksta iš stotelių. |\n",
    "| [`calendar.txt`](https://developers.google.com/transit/gtfs/reference#calendartxt)               | Sąlyginai privalomas | Informacija kada paslauga yra teikiama.                            |\n",
    "| [`calendar_dates.txt`](https://developers.google.com/transit/gtfs/reference#calendar_datestxt)   | Sąlyginai privalomas | Aprašo kada transporto paslaugos nėra teikiamos.                   |\n",
    "| [`feed_info.txt`](https://developers.google.com/transit/gtfs/reference#feed_infotxt)             | Sąlyginai privalomas | Duomenų šaltinio informacija.                                      |\n",
    "| [`fare_attributes.txt`](https://developers.google.com/transit/gtfs/reference#fare_attributestxt) | Neprivalomas         | Bilietų kainodaros informacija.                                    |\n",
    "| [`fare_rules.txt`](https://developers.google.com/transit/gtfs/reference#fare_rulestxt)           | Neprivalomas         | Taisyklės aprašančios kainodaros taikymą.                          |\n",
    "| [`shapes.txt`](https://developers.google.com/transit/gtfs/reference#shapestxt)                   | Neprivalomas         | Maršruto nubrėžimui žemėlapyje reikalinga informacija.             |\n",
    "| [`frequencies.txt`](https://developers.google.com/transit/gtfs/reference#frequenciestxt)         | Neprivalomas         | Aprašo intervalinius maršrutus.                                    |\n",
    "| [`transfers.txt`](https://developers.google.com/transit/gtfs/reference#transferstxt)             | Neprivalomas         | Taisyklės aprašančios persėdimus tarp maršrutų.                    |\n",
    "| [`pathways.txt`](https://developers.google.com/transit/gtfs/reference#pathwaystxt)               | Neprivalomas         | Aprašo kelius jungiančius stoteles.                                |\n",
    "| [`levels.txt`](https://developers.google.com/transit/gtfs/reference#levelstxt)                   | Neprivalomas         | Aprašo skirtingi stoties lygiai.                                   |\n",
    "| [`translations.txt`](https://developers.google.com/transit/gtfs/reference#translationstxt)       | Neprivalomas         | Vertimai į kitas kalbas.                                           |\n",
    "| [`attributions.txt`](https://developers.google.com/transit/gtfs/reference#attributionstxt)       | Neprivalomas         | Nurodo papildomus duomenų rinkinio atributus.                      |\n",
    "\n",
    "### Ryšiai tarp failų\n"
   ]
  }
 ],
 "metadata": {
  "kernelspec": {
   "display_name": "Python 3",
   "language": "python",
   "name": "python3"
  },
  "language_info": {
   "codemirror_mode": {
    "name": "ipython",
    "version": 2
   },
   "file_extension": ".py",
   "mimetype": "text/x-python",
   "name": "python",
   "nbconvert_exporter": "python",
   "pygments_lexer": "ipython2",
   "version": "2.7.6"
  }
 },
 "nbformat": 4,
 "nbformat_minor": 0
}
