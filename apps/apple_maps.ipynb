{
 "cells": [
  {
   "cell_type": "markdown",
   "metadata": {
    "pycharm": {
     "name": "#%% md\n"
    }
   },
   "source": [
    "# Apple Maps\n",
    "\n",
    "## Apple Maps Transit\n",
    "\n",
    "### Palaikymas skirtingose šalyse\n",
    "TODO neveikia\n",
    "Bulgaria\n",
    "Croatia\n",
    "Republic of Cyprus\n",
    "Greece\n",
    "Latvia\n",
    "Malta\n",
    "Romania\n",
    "Slovenia\n",
    "Poland\n",
    "Lithuania"
   ]
  },
  {
   "cell_type": "code",
   "execution_count": null,
   "metadata": {
    "pycharm": {
     "name": "#%%\n"
    },
    "tags": [
     "hide-input"
    ]
   },
   "outputs": [],
   "source": [
    "import json\n",
    "import pandas as pd\n",
    "import plotly.express as px\n",
    "\n",
    "mapbox_access_token = open(\"../.mapbox_token\").read()\n",
    "px.set_mapbox_access_token(mapbox_access_token)\n",
    "\n",
    "europe_center = {'lat': 55, 'lon': 10}\n",
    "\n",
    "\n",
    "with open('../data/geojson/world.geojson', 'r') as world_geojson_file:\n",
    "    world_geojson = json.load(world_geojson_file)\n",
    "\n",
    "df = pd.read_csv(\"../data/apps/apple-maps.csv\", delimiter=';')\n",
    "\n",
    "df_apple_transit = df[df['Transit'] == 'Yes']\n",
    "\n",
    "fig = px.choropleth_mapbox(\n",
    "    data_frame=df_apple_transit,\n",
    "    geojson=world_geojson,\n",
    "    featureidkey='properties.NAME_LONG',\n",
    "    locations='Country',\n",
    "    color='Transit',\n",
    "    mapbox_style=\"light\",\n",
    "    zoom=2,\n",
    "    center=europe_center,\n",
    "    title='Apple Maps Transit palaikymas',\n",
    "    color_discrete_sequence=['#ee7762']\n",
    ")\n",
    "\n",
    "fig.update_traces(showlegend=False)\n",
    "\n",
    "fig.update_layout(\n",
    "    mapbox_layers=[\n",
    "        {\n",
    "            \"sourceattribution\": '© <a href=\"https://judumas.vycius.lt\" target=\"_blank\">Karolis Vyčius</a> © <a href=\"https://en.wikipedia.org/wiki/Apple_Maps\" target=\"_blank\">Wikipedia</a>'\n",
    "        }\n",
    "    ])\n",
    "fig.update_layout(margin={\"r\":0,\"l\":0,\"b\":0})\n",
    "fig.show()"
   ]
  },
  {
   "cell_type": "markdown",
   "metadata": {
    "pycharm": {
     "name": "#%% md\n"
    }
   },
   "source": [
    "## Apple Maps Cycling\n",
    "### Palaikymas skirtingose šalyse"
   ]
  },
  {
   "cell_type": "code",
   "execution_count": null,
   "metadata": {
    "pycharm": {
     "name": "#%%\n"
    },
    "tags": [
     "hide-input"
    ]
   },
   "outputs": [],
   "source": [
    "df_apple_cycling= df[df['Cycling'] == 'Yes']\n",
    "\n",
    "fig = px.choropleth_mapbox(\n",
    "    data_frame=df_apple_cycling,\n",
    "    geojson=world_geojson,\n",
    "    featureidkey='properties.NAME_LONG',\n",
    "    locations='Country',\n",
    "    color='Cycling',\n",
    "    mapbox_style=\"light\",\n",
    "    zoom=2,\n",
    "    center=europe_center,\n",
    "    title='Apple Maps Cycling palaikymas',\n",
    "    color_discrete_sequence=['#ee7762']\n",
    ")\n",
    "\n",
    "fig.update_traces(showlegend=False)\n",
    "\n",
    "fig.update_layout(\n",
    "    mapbox_layers=[\n",
    "        {\n",
    "            \"sourceattribution\": '© <a href=\"https://judumas.vycius.lt\" target=\"_blank\">Karolis Vyčius</a> © <a href=\"https://en.wikipedia.org/wiki/Apple_Maps\" target=\"_blank\">Wikipedia</a>'\n",
    "        }\n",
    "    ])\n",
    "fig.update_layout(margin={\"r\":0,\"l\":0,\"b\":0})\n",
    "fig.show()"
   ]
  }
 ],
 "metadata": {
  "celltoolbar": "Tags",
  "kernelspec": {
   "display_name": "Python 3 (ipykernel)",
   "language": "python",
   "name": "python3"
  },
  "language_info": {
   "codemirror_mode": {
    "name": "ipython",
    "version": 3
   },
   "file_extension": ".py",
   "mimetype": "text/x-python",
   "name": "python",
   "nbconvert_exporter": "python",
   "pygments_lexer": "ipython3",
   "version": "3.9.7"
  }
 },
 "nbformat": 4,
 "nbformat_minor": 1
}
