{
 "cells": [
  {
   "cell_type": "markdown",
   "metadata": {
    "pycharm": {
     "name": "#%% md\n"
    }
   },
   "source": [
    "# Statiniai duomenys\n",
    "\n",
    "## VINTRA\n",
    "\n"
   ]
  },
  {
   "cell_type": "markdown",
   "metadata": {
    "pycharm": {
     "name": "#%% md\n"
    }
   },
   "source": [
    "## Stops.lt\n",
    "\n",
    "| Apimtis                                                    | GTFS                                                            |\n",
    "|------------------------------------------------------------|-----------------------------------------------------------------|\n",
    "| [Vilniaus m. sav.](https://www.stops.lt/vilnius/)          | [GTFS](https://www.stops.lt/vilnius/vilnius/gtfs.zip)           |\n",
    "| [Kauno m. sav.](https://www.stops.lt/kaunas/)              | [GTFS](https://www.stops.lt/kaunas/kaunas/gtfs.zip)             |\n",
    "| [Klaipėdos m. sav.](https://www.stops.lt/klaipeda/)        | [GTFS](https://www.stops.lt/klaipeda/klaipeda/gtfs.zip)         |\n",
    "| [Šiaulių m. sav.](https://www.stops.lt/siauliai/)          | [GTFS](https://www.stops.lt/siauliai/siauliai/gtfs.zip)         |\n",
    "| [Panevėžio m. sav.](https://www.stops.lt/panevezys/)       | [GTFS](https://www.stops.lt/panevezys/panevezys/gtfs.zip)       |\n",
    "| [Alytaus m. sav.](https://www.stops.lt/alytus/)            | [GTFS](https://www.stops.lt/alytus/alytus/gtfs.zip)             |\n",
    "| [Druskininkų sav.](https://www.stops.lt/druskininkai/)     | [GTFS](https://www.stops.lt/druskininkai/druskininkai/gtfs.zip) |\n",
    "| [Tauragės regionas](https://www.stops.lt/taurage/)         | [GTFS](https://www.stops.lt/taurage/taurage/gtfs.zip)           |\n",
    "| [Lietuvos geležinkeliai](https://www.stops.lt/traukiniai/) | [GTFS](https://www.stops.lt/traukiniai/traukiniai/gtfs.zip)     |\n",
    "\n",
    "### Stops.lt naudojamumas"
   ]
  },
  {
   "cell_type": "code",
   "execution_count": null,
   "metadata": {
    "pycharm": {
     "name": "#%%\n"
    }
   },
   "outputs": [],
   "source": [
    "import json\n",
    "import pandas as pd\n",
    "import plotly.express as px\n",
    "\n",
    "mapbox_access_token = open(\"../.mapbox_token\").read()\n",
    "px.set_mapbox_access_token(mapbox_access_token)\n",
    "\n",
    "lithuania_center = {'lat': 55.169438, 'lon': 23.881275}\n",
    "\n",
    "with open('../data/geojson/municipalities.geojson', 'r') as municipalities_geojson_file:\n",
    "    municipalities_geojson = json.load(municipalities_geojson_file)\n",
    "\n",
    "df = pd.read_csv(\"../data/saltiniai/savivaldybiu-naudojamos-sistemos.csv\")\n",
    "\n",
    "fig = px.choropleth_mapbox(\n",
    "    df,\n",
    "    geojson=municipalities_geojson,\n",
    "    locations=\"Savivaldybe\",\n",
    "    featureidkey=\"properties.name\",\n",
    "    color='Sistema',\n",
    "    center=lithuania_center,\n",
    "    mapbox_style=\"light\",\n",
    "    zoom=6,\n",
    "    title='Stops.lt naudojamumas Lietuvos savivaldybėse',\n",
    ")\n",
    "fig.update_layout(margin={\"r\": 0, \"t\": 0, \"l\": 0, \"b\": 0})\n",
    "fig.show()"
   ]
  }
 ],
 "metadata": {
  "kernelspec": {
   "display_name": "Python 3",
   "language": "python",
   "name": "python3"
  },
  "language_info": {
   "codemirror_mode": {
    "name": "ipython",
    "version": 2
   },
   "file_extension": ".py",
   "mimetype": "text/x-python",
   "name": "python",
   "nbconvert_exporter": "python",
   "pygments_lexer": "ipython2",
   "version": "2.7.6"
  }
 },
 "nbformat": 4,
 "nbformat_minor": 0
}
