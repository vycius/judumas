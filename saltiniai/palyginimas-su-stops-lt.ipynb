{
 "cells": [
  {
   "cell_type": "markdown",
   "metadata": {
    "pycharm": {
     "name": "#%% md\n"
    }
   },
   "source": [
    "# Palyginimas su pirminiu šaltiniu\n",
    "\n"
   ]
  },
  {
   "cell_type": "code",
   "execution_count": null,
   "metadata": {
    "pycharm": {
     "name": "#%%\n"
    }
   },
   "outputs": [],
   "source": [
    "import json\n",
    "import os\n",
    "from zipfile import ZipFile\n",
    "from typing import Optional\n",
    "\n",
    "import pandas as pd\n",
    "import plotly.express as px\n",
    "import requests\n",
    "\n",
    "working_directory = f'{os.getcwd()}/../data/saltiniai/vintra/'\n",
    "stops_lt_directory = f'{os.getcwd()}/../data/saltiniai/stops-lt/'\n",
    "gtfs_files_directory = os.path.join(working_directory, 'gtfs')\n",
    "stops_lt_gtfs_directory = os.path.join(stops_lt_directory, 'gtfs')\n",
    "netex_directory = os.path.join(working_directory, 'netex')\n",
    "\n",
    "mapbox_access_token = open(\"../.mapbox_token\").read()\n",
    "px.set_mapbox_access_token(mapbox_access_token)\n",
    "\n",
    "lithuania_center = {'lat': 55.169438, 'lon': 23.881275}\n",
    "\n",
    "municipalities_gtfs_file_mapping = pd.read_csv(\n",
    "    os.path.join(working_directory, 'vintra-gtfs-file-mapping.csv'),\n",
    "    na_filter=False)\n",
    "vintra_netex_mapping = pd.read_csv(os.path.join(working_directory, 'vintra-netex-file-mapping.csv'), na_filter=False)\n",
    "stops_lt_gtfs_mapping = pd.read_csv(os.path.join(stops_lt_directory, 'stops-lt-file-mapping.csv'), na_filter=False)\n",
    "\n",
    "with open('../data/geojson/municipalities.geojson', 'r') as municipalities_geojson_file:\n",
    "    municipalities_geojson = json.load(municipalities_geojson_file)"
   ]
  },
  {
   "cell_type": "code",
   "execution_count": null,
   "metadata": {
    "pycharm": {
     "name": "#%%\n"
    }
   },
   "outputs": [],
   "source": [
    "gtfs_files_by_specification = [\n",
    "    'agency.txt',\n",
    "    'stops.txt',\n",
    "    'routes.txt',\n",
    "    'trips.txt',\n",
    "    'stop_times.txt',\n",
    "    'routes.txt',\n",
    "    'trips.txt',\n",
    "    'stop_times.txt',\n",
    "    'calendar.txt',\n",
    "    'calendar_dates.txt',\n",
    "    'shapes.txt',\n",
    "    'feed_info.txt',\n",
    "    'fare_rules.txt',\n",
    "    'fare_attributes.txt',\n",
    "    'translations.txt',\n",
    "    'frequencies.txt',\n",
    "    'transfers.txt',\n",
    "    'pathways.txt',\n",
    "    'levels.txt',\n",
    "    'attributions.txt',\n",
    "]\n",
    "\n",
    "stops_lt_file_stats = stops_lt_gtfs_mapping[stops_lt_gtfs_mapping['Failas'] != '']\n",
    "\n",
    "\n",
    "def calculate_rows_in_gtfs_file(full_file: str, gtfs_file: str):\n",
    "    with ZipFile(full_file) as gtfs_zip:\n",
    "        gtfs_zip_files = gtfs_zip.namelist()\n",
    "        if gtfs_file not in gtfs_zip_files:\n",
    "            return -1\n",
    "\n",
    "        df = pd.read_csv(gtfs_zip.open(gtfs_file))\n",
    "\n",
    "        return len(df)\n",
    "\n",
    "\n",
    "for gtfs_file in gtfs_files_by_specification:\n",
    "    stops_lt_file_stats[gtfs_file] = stops_lt_file_stats['Failas'].apply(\n",
    "        lambda f: calculate_rows_in_gtfs_file(os.path.join(stops_lt_gtfs_directory, f), gtfs_file),\n",
    "    )"
   ]
  },
  {
   "cell_type": "markdown",
   "metadata": {
    "pycharm": {
     "name": "#%% md\n"
    }
   },
   "source": [
    "Dalis Lietuvos savivaldybių naudoja Stops.lt sistemą, kurios duomenys GTFS formatu yra viešai prieinami bei automatiniu būdu importuojami į VINTRA.\n",
    "\n",
    "Toliau pateikiama lentelė vaizduoja kiekvienos savivaldybės naudojančios Stops.lt sistemą GTFS rinkinio failus bei eilučių skaičių juose.\n",
    "\n",
    "```{table} Stops.lt sistemą naudojančių savivaldybių GTFS duomenų rinkinio failai ir juose esančių eilučių skaičius\n",
    ":name: municipalities-stops-lt-stats\n",
    "| Savivaldybė                  | agency.txt | stops.txt | routes.txt | trips.txt | stop\\_times.txt | calendar.txt | calendar\\_dates.txt | shapes.txt | fare\\_rules.txt | fare\\_attributes.txt | attributions.txt |\n",
    "|------------------------------|------------|-----------|------------|-----------|-----------------|--------------|---------------------|------------|-----------------|----------------------|------------------|\n",
    "| Alytaus miesto savivaldybė   | 1          | 196       | 19         | 955       | 21483           | 26           | 200                 | 12663      | 0               | 0                    | 0                |\n",
    "| Druskininkų savivaldybė      | 1          | 149       | 27         | 709       | 9043            | 18           | 216                 | 9793       | 0               | 0                    | 0                |\n",
    "| Kauno miesto savivaldybė     | 1          | 885       | 63         | 7320      | 190006          | 99           | 1287                | 84486      | 126             | 4                    | 0                |\n",
    "| Klaipėdos miesto savivaldybė | 6          | 635       | 55         | 6976      | 164451          | 107          | 1365                | 24253      | 0               | 0                    | 0                |\n",
    "| Panevėžio miesto savivaldybė | 1          | 241       | 20         | 1687      | 28846           | 29           | 37                  | 20378      | 0               | 0                    | 0                |\n",
    "| Šiaulių miesto savivaldybė   | 1          | 517       | 56         | 2922      | 59738           | 75           | 150                 | 36184      | 0               | 0                    | 0                |\n",
    "| Vilniaus miesto savivaldybė  | 1          | 1432      | 99         | 25290     | 508956          | 271          | 3510                | 110484     | 0               | 0                    | 99               |\n",
    "```"
   ]
  },
  {
   "cell_type": "code",
   "execution_count": null,
   "metadata": {
    "pycharm": {
     "name": "#%%\n"
    }
   },
   "outputs": [],
   "source": [
    "vintra_and_stops_lt_files = stops_lt_gtfs_mapping[stops_lt_gtfs_mapping['Failas'] != ''].merge(\n",
    "    municipalities_gtfs_file_mapping, suffixes=('_stops', '_vintra'), on='Savivaldybe')\n",
    "\n",
    "\n",
    "for gtfs_file in gtfs_files_by_specification:\n",
    "    vintra_and_stops_lt_files[gtfs_file] = vintra_and_stops_lt_files['Failas_vintra'].apply(\n",
    "        lambda f: calculate_rows_in_gtfs_file(os.path.join(gtfs_files_directory, f), gtfs_file),\n",
    "    )\n",
    "\n",
    "vintra_and_stops_lt_files.to_excel('vintra-files.xlsx')"
   ]
  },
  {
   "cell_type": "markdown",
   "metadata": {
    "pycharm": {
     "name": "#%% md\n"
    }
   },
   "source": [
    "Kai šių savivaldybių GTFS duomenų rinkinio failai importuojami į Stops.lt turėtų išlikti\n",
    "\n",
    "```{table} Atitinkamų Stops.lt savivaldybių VINTRA esantys GTFS duomenų rinkinio failai ir eilučių skaičius juose\n",
    ":name: municipalities-stops-lt-vintra-stats\n",
    "\n",
    "| Savivaldybė                  | agency.txt | stops.txt | routes.txt | trips.txt | stop\\_times.txt | calendar.txt | calendar\\_dates.txt | shapes.txt |\n",
    "|------------------------------|------------|-----------|------------|-----------|-----------------|--------------|---------------------|------------|\n",
    "| Alytaus miesto savivaldybė   | 1          | 196       | 19         | 955       | 21483           | 31           | 200                 | 12663      |\n",
    "| Druskininkų savivaldybė      | 1          | 146       | 27         | 709       | 9043            | 18           | 216                 | 9793       |\n",
    "| Kauno miesto savivaldybė     | 1          | 885       | 63         | 7320      | 190006          | 302          | 1287                | 84486      |\n",
    "| Klaipėdos miesto savivaldybė | 1          | 635       | 55         | 6986      | 164636          | 335          | 1272                | 24581      |\n",
    "| Panevėžio miesto savivaldybė | 1          | 240       | 20         | 1694      | 28929           | 80           | 208                 | 20390      |\n",
    "| Šiaulių miesto savivaldybė   | 1          | 418       | 45         | 3089      | 62861           | 121          | 92                  | 19311      |\n",
    "| Vilniaus miesto savivaldybė  | 1          | 1429      | 99         | 25307     | 508844          | 2035         | 3510                | 110281     |\n",
    "```"
   ]
  }
 ],
 "metadata": {
  "kernelspec": {
   "display_name": "Python 3",
   "language": "python",
   "name": "python3"
  },
  "language_info": {
   "codemirror_mode": {
    "name": "ipython",
    "version": 2
   },
   "file_extension": ".py",
   "mimetype": "text/x-python",
   "name": "python",
   "nbconvert_exporter": "python",
   "pygments_lexer": "ipython2",
   "version": "2.7.6"
  }
 },
 "nbformat": 4,
 "nbformat_minor": 0
}
