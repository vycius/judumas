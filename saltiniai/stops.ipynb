{
 "cells": [
  {
   "cell_type": "markdown",
   "metadata": {
    "pycharm": {
     "name": "#%% md\n"
    }
   },
   "source": [
    "# Stops.lt\n",
    "\n",
    "| Apimtis | GTFS  | Transporto priemonių pozicijos |\n",
    "|-------------|-------|--|\n",
    "| [Vilnius](https://www.stops.lt/vilnius/)      | [Nuoroda](https://www.stops.lt/vilnius/vilnius/gtfs.zip) | [Nuoroda](https://www.stops.lt/vilnius/gps_full.txt) |\n",
    "| [Kaunas](https://www.stops.lt/kaunas/)   | [Nuoroda](https://www.stops.lt/kaunas/kaunas/gtfs.zip)  | [Nuoroda](https://www.stops.lt/kaunas/gps_full.txt) |\n",
    "| [Klaipėda](https://www.stops.lt/klaipeda/)   | [Nuoroda](https://www.stops.lt/klaipeda/klaipeda/gtfs.zip)  | [Nuoroda](https://www.stops.lt/klaipeda/gps_full.txt) |\n",
    "| [Šiauliai](https://www.stops.lt/siauliai/)   | [Nuoroda](https://www.stops.lt/siauliai/siauliai/gtfs.zip)  | - |\n",
    "| [Panevėžys](https://www.stops.lt/panevezys/)   | [Nuoroda](https://www.stops.lt/panevezys/panevezys/gtfs.zip)  | [Nuoroda](https://www.stops.lt/panevezys/gps.txt) |\n",
    "| [Alytus](https://www.stops.lt/alytus/)   | [Nuoroda](https://www.stops.lt/alytus/alytus/gtfs.zip)  | [Nuoroda](https://www.stops.lt/alytus/gps_full.txt) |\n",
    "| [Druskininkai](https://www.stops.lt/druskininkai/)   | [Nuoroda](https://www.stops.lt/druskininkai/druskininkai/gtfs.zip)  | [Nuoroda](https://www.stops.lt/druskininkai/gps_full.txt) |\n",
    "| [Tauragės regionas](https://www.stops.lt/taurage/)  | [Nuoroda](https://www.stops.lt/taurage/taurage/gtfs.zip)  | - |\n",
    "| [Lietuvos geležinkeliai](https://www.stops.lt/traukiniai/)   | [Nuoroda](https://www.stops.lt/traukiniai/traukiniai/gtfs.zip)  | - |"
   ]
  },
  {
   "cell_type": "code",
   "execution_count": null,
   "metadata": {
    "pycharm": {
     "name": "#%%\n"
    }
   },
   "outputs": [],
   "source": [
    "import json\n",
    "import pandas as pd\n",
    "import plotly.express as px\n",
    "\n",
    "mapbox_access_token = open(\"../.mapbox_token\").read()\n",
    "px.set_mapbox_access_token(mapbox_access_token)\n",
    "\n",
    "lithuania_center = {'lat': 55.169438, 'lon': 23.881275}\n",
    "\n",
    "with open('../data/geojson/municipalities.geojson', 'r') as municipalities_geojson_file:\n",
    "    municipalities_geojson = json.load(municipalities_geojson_file)\n",
    "\n",
    "df = pd.read_csv(\"../data/saltiniai/savivaldybiu-naudojamos-sistemos.csv\")\n",
    "\n",
    "fig = px.choropleth_mapbox(\n",
    "    df,\n",
    "    geojson=municipalities_geojson,\n",
    "    locations=\"Savivaldybe\",\n",
    "    featureidkey=\"properties.name\",\n",
    "    color='Sistema',\n",
    "    center=lithuania_center,\n",
    "    mapbox_style=\"light\",\n",
    "    zoom=6,\n",
    "    title='Savivaldybių naudojamos viešojo transporto planavimo sistemos',\n",
    ")\n",
    "fig.update_layout(margin={\"r\": 0, \"t\": 0, \"l\": 0, \"b\": 0})\n",
    "fig.show()"
   ]
  },
  {
   "cell_type": "code",
   "execution_count": null,
   "metadata": {
    "pycharm": {
     "name": "#%%\n"
    }
   },
   "outputs": [],
   "source": []
  }
 ],
 "metadata": {
  "kernelspec": {
   "display_name": "Python 3",
   "language": "python",
   "name": "python3"
  },
  "language_info": {
   "codemirror_mode": {
    "name": "ipython",
    "version": 2
   },
   "file_extension": ".py",
   "mimetype": "text/x-python",
   "name": "python",
   "nbconvert_exporter": "python",
   "pygments_lexer": "ipython2",
   "version": "2.7.6"
  }
 },
 "nbformat": 4,
 "nbformat_minor": 0
}
