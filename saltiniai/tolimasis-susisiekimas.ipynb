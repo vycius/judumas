{
 "cells": [
  {
   "cell_type": "markdown",
   "metadata": {
    "pycharm": {
     "name": "#%% md\n"
    }
   },
   "source": [
    "# Tolimasis ir tarptautinis reguliarusis susisiekimas\n",
    "\n",
    "## VINTRA GTFS duomenų rinkinys\n",
    "\n",
    "```{admonition} GTFS faile nepateikiami tolimojo ir tarptautinio reguliariojo susisiekimo vežėjai\n",
    ":class: warning\n",
    "Tolimojo ir tarptautinio reguliariojo susisiekimo GTFS duomenų rinkinyje nėra pateikiami keleivių vežimą vykdantys vežėjai nors tokia informacija yra kaupiama pagal duomenų kaupimo tvarkos aprašą{cite}`sumin_vintra_duomenu_kaupimo_tvarka`. Duomenų rinkinyje pateikiama tik organizatoriaus (Lietuvos transporto saugos administracijos) informacija. Priklausomai nuo vežėjo skiriasi bilieto įsigijimo būdas (pvz., per autobusubilietai.lt), o tokios informacijos nebuvimas sumažina duomenų panaudojimo atvejų kiekį.\n",
    "```\n",
    "\n",
    "```{table} Tolimojo ir tarptautinio reguliariojo susisiekimo GTFS duomenų rinkinio struktūra\n",
    ":name: vintra-ltsa-file-stats\n",
    "| GTFS failas         | Eilučių skaičius faile |\n",
    "|---------------------|------------------------|\n",
    "| agency.txt          | 1                      |\n",
    "| stops.txt           | 2442                   |\n",
    "| routes.txt          | 283                    |\n",
    "| trips.txt           | 844                    |\n",
    "| stop\\_times.txt     | 16910                  |\n",
    "| calendar.txt        | 105                    |\n",
    "| calendar\\_dates.txt | 2925                   |\n",
    "| shapes.txt          | 1921030                |\n",
    "```\n",
    "\n"
   ]
  },
  {
   "cell_type": "code",
   "execution_count": null,
   "metadata": {
    "pycharm": {
     "name": "#%%\n"
    }
   },
   "outputs": [],
   "source": [
    "import json\n",
    "import os\n",
    "from zipfile import ZipFile\n",
    "from typing import Optional\n",
    "\n",
    "import pandas as pd\n",
    "import plotly.express as px\n",
    "import requests\n",
    "\n",
    "working_directory = f'{os.getcwd()}/../data/saltiniai/vintra/'\n",
    "gtfs_files_directory = os.path.join(working_directory, 'gtfs')\n",
    "netex_directory = os.path.join(working_directory, 'netex')\n",
    "\n",
    "mapbox_access_token = open(\"../.mapbox_token\").read()\n",
    "px.set_mapbox_access_token(mapbox_access_token)\n",
    "\n",
    "lithuania_center = {'lat': 55.169438, 'lon': 23.881275}\n",
    "\n",
    "with open('../data/geojson/municipalities.geojson', 'r') as municipalities_geojson_file:\n",
    "    municipalities_geojson = json.load(municipalities_geojson_file)\n"
   ]
  }
 ],
 "metadata": {
  "kernelspec": {
   "display_name": "Python 3",
   "language": "python",
   "name": "python3"
  },
  "language_info": {
   "codemirror_mode": {
    "name": "ipython",
    "version": 2
   },
   "file_extension": ".py",
   "mimetype": "text/x-python",
   "name": "python",
   "nbconvert_exporter": "python",
   "pygments_lexer": "ipython2",
   "version": "2.7.6"
  }
 },
 "nbformat": 4,
 "nbformat_minor": 0
}
