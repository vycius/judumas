{
 "cells": [
  {
   "cell_type": "markdown",
   "metadata": {
    "pycharm": {
     "name": "#%% md\n"
    }
   },
   "source": [
    "# MaaS"
   ]
  },
  {
   "cell_type": "code",
   "execution_count": 7,
   "outputs": [
    {
     "name": "stdout",
     "output_type": "stream",
     "text": [
      "User Guide: https://docs.kepler.gl/docs/keplergl-jupyter\n",
      "Map saved to my_keplergl_map.html!\n"
     ]
    }
   ],
   "source": [
    "from keplergl import KeplerGl\n",
    "import gtfs_functions as gtfs\n",
    "\n",
    "routes, stops, stop_times, trips, shapes = gtfs.import_gtfs(\"data/gtfs/gtfs-lt-all.zip\", busiest_date = True)\n",
    "\n",
    "map_1 = KeplerGl()\n",
    "\n",
    "map_1.add_data(data=stops, name='stops')\n",
    "\n",
    "map_1"
   ],
   "metadata": {
    "collapsed": false,
    "pycharm": {
     "name": "#%%\n"
    }
   }
  },
  {
   "cell_type": "code",
   "execution_count": 4,
   "outputs": [
    {
     "data": {
      "text/plain": "     agency_id      route_id route_short_name                route_long_name  \\\n0           33  1710_5320485              M91             Ukmergė_Kančiškiai   \n1           33  1710_5209264              M91             Ukmergė_Kančiškiai   \n2           33  1710_5209263              M91             Ukmergė_Kančiškiai   \n3           33  1710_5209261              M91             Ukmergė_Kančiškiai   \n4           33  1710_5209259              M91             Ukmergė_Kančiškiai   \n...        ...           ...              ...                            ...   \n1465         8          2355               71    Mažeikiai-Laižuva-Mažeikiai   \n1466         8          2360               75      Mažeikiai-K.s. Kurmaičiai   \n1467         8          2359               95           Mažeikiai- S.B. Rasa   \n1468         8          9145               82    Mažeikiai-Viekšniai-Kapėnai   \n1469        59          9181       SU–MENĖK\"\"  Antano Tumėno st.–Senamiestis   \n\n      route_type route_desc                    route_url route_color  \\\n0              3        NaN  http://www.visimarsrutai.lt         NaN   \n1              3        NaN  http://www.visimarsrutai.lt         NaN   \n2              3        NaN  http://www.visimarsrutai.lt         NaN   \n3              3        NaN  http://www.visimarsrutai.lt         NaN   \n4              3        NaN  http://www.visimarsrutai.lt         NaN   \n...          ...        ...                          ...         ...   \n1465           3        NaN  http://www.visimarsrutai.lt         NaN   \n1466           3        NaN  http://www.visimarsrutai.lt         NaN   \n1467           3        NaN  http://www.visimarsrutai.lt         NaN   \n1468           3        NaN  http://www.visimarsrutai.lt         NaN   \n1469           3        NaN  http://www.visimarsrutai.lt      0073AC   \n\n     route_text_color route_bikes_allowed bikes_allowed route_sort_order  \n0                 NaN                 NaN           NaN              NaN  \n1                 NaN                 NaN           NaN              NaN  \n2                 NaN                 NaN           NaN              NaN  \n3                 NaN                 NaN           NaN              NaN  \n4                 NaN                 NaN           NaN              NaN  \n...               ...                 ...           ...              ...  \n1465              NaN                 NaN           NaN              NaN  \n1466              NaN                 NaN           NaN              NaN  \n1467              NaN                 NaN           NaN              NaN  \n1468              NaN                 NaN           NaN              NaN  \n1469           FFFFFF                 NaN           NaN              NaN  \n\n[1470 rows x 12 columns]",
      "text/html": "<div>\n<style scoped>\n    .dataframe tbody tr th:only-of-type {\n        vertical-align: middle;\n    }\n\n    .dataframe tbody tr th {\n        vertical-align: top;\n    }\n\n    .dataframe thead th {\n        text-align: right;\n    }\n</style>\n<table border=\"1\" class=\"dataframe\">\n  <thead>\n    <tr style=\"text-align: right;\">\n      <th></th>\n      <th>agency_id</th>\n      <th>route_id</th>\n      <th>route_short_name</th>\n      <th>route_long_name</th>\n      <th>route_type</th>\n      <th>route_desc</th>\n      <th>route_url</th>\n      <th>route_color</th>\n      <th>route_text_color</th>\n      <th>route_bikes_allowed</th>\n      <th>bikes_allowed</th>\n      <th>route_sort_order</th>\n    </tr>\n  </thead>\n  <tbody>\n    <tr>\n      <th>0</th>\n      <td>33</td>\n      <td>1710_5320485</td>\n      <td>M91</td>\n      <td>Ukmergė_Kančiškiai</td>\n      <td>3</td>\n      <td>NaN</td>\n      <td>http://www.visimarsrutai.lt</td>\n      <td>NaN</td>\n      <td>NaN</td>\n      <td>NaN</td>\n      <td>NaN</td>\n      <td>NaN</td>\n    </tr>\n    <tr>\n      <th>1</th>\n      <td>33</td>\n      <td>1710_5209264</td>\n      <td>M91</td>\n      <td>Ukmergė_Kančiškiai</td>\n      <td>3</td>\n      <td>NaN</td>\n      <td>http://www.visimarsrutai.lt</td>\n      <td>NaN</td>\n      <td>NaN</td>\n      <td>NaN</td>\n      <td>NaN</td>\n      <td>NaN</td>\n    </tr>\n    <tr>\n      <th>2</th>\n      <td>33</td>\n      <td>1710_5209263</td>\n      <td>M91</td>\n      <td>Ukmergė_Kančiškiai</td>\n      <td>3</td>\n      <td>NaN</td>\n      <td>http://www.visimarsrutai.lt</td>\n      <td>NaN</td>\n      <td>NaN</td>\n      <td>NaN</td>\n      <td>NaN</td>\n      <td>NaN</td>\n    </tr>\n    <tr>\n      <th>3</th>\n      <td>33</td>\n      <td>1710_5209261</td>\n      <td>M91</td>\n      <td>Ukmergė_Kančiškiai</td>\n      <td>3</td>\n      <td>NaN</td>\n      <td>http://www.visimarsrutai.lt</td>\n      <td>NaN</td>\n      <td>NaN</td>\n      <td>NaN</td>\n      <td>NaN</td>\n      <td>NaN</td>\n    </tr>\n    <tr>\n      <th>4</th>\n      <td>33</td>\n      <td>1710_5209259</td>\n      <td>M91</td>\n      <td>Ukmergė_Kančiškiai</td>\n      <td>3</td>\n      <td>NaN</td>\n      <td>http://www.visimarsrutai.lt</td>\n      <td>NaN</td>\n      <td>NaN</td>\n      <td>NaN</td>\n      <td>NaN</td>\n      <td>NaN</td>\n    </tr>\n    <tr>\n      <th>...</th>\n      <td>...</td>\n      <td>...</td>\n      <td>...</td>\n      <td>...</td>\n      <td>...</td>\n      <td>...</td>\n      <td>...</td>\n      <td>...</td>\n      <td>...</td>\n      <td>...</td>\n      <td>...</td>\n      <td>...</td>\n    </tr>\n    <tr>\n      <th>1465</th>\n      <td>8</td>\n      <td>2355</td>\n      <td>71</td>\n      <td>Mažeikiai-Laižuva-Mažeikiai</td>\n      <td>3</td>\n      <td>NaN</td>\n      <td>http://www.visimarsrutai.lt</td>\n      <td>NaN</td>\n      <td>NaN</td>\n      <td>NaN</td>\n      <td>NaN</td>\n      <td>NaN</td>\n    </tr>\n    <tr>\n      <th>1466</th>\n      <td>8</td>\n      <td>2360</td>\n      <td>75</td>\n      <td>Mažeikiai-K.s. Kurmaičiai</td>\n      <td>3</td>\n      <td>NaN</td>\n      <td>http://www.visimarsrutai.lt</td>\n      <td>NaN</td>\n      <td>NaN</td>\n      <td>NaN</td>\n      <td>NaN</td>\n      <td>NaN</td>\n    </tr>\n    <tr>\n      <th>1467</th>\n      <td>8</td>\n      <td>2359</td>\n      <td>95</td>\n      <td>Mažeikiai- S.B. Rasa</td>\n      <td>3</td>\n      <td>NaN</td>\n      <td>http://www.visimarsrutai.lt</td>\n      <td>NaN</td>\n      <td>NaN</td>\n      <td>NaN</td>\n      <td>NaN</td>\n      <td>NaN</td>\n    </tr>\n    <tr>\n      <th>1468</th>\n      <td>8</td>\n      <td>9145</td>\n      <td>82</td>\n      <td>Mažeikiai-Viekšniai-Kapėnai</td>\n      <td>3</td>\n      <td>NaN</td>\n      <td>http://www.visimarsrutai.lt</td>\n      <td>NaN</td>\n      <td>NaN</td>\n      <td>NaN</td>\n      <td>NaN</td>\n      <td>NaN</td>\n    </tr>\n    <tr>\n      <th>1469</th>\n      <td>59</td>\n      <td>9181</td>\n      <td>SU–MENĖK\"\"</td>\n      <td>Antano Tumėno st.–Senamiestis</td>\n      <td>3</td>\n      <td>NaN</td>\n      <td>http://www.visimarsrutai.lt</td>\n      <td>0073AC</td>\n      <td>FFFFFF</td>\n      <td>NaN</td>\n      <td>NaN</td>\n      <td>NaN</td>\n    </tr>\n  </tbody>\n</table>\n<p>1470 rows × 12 columns</p>\n</div>"
     },
     "execution_count": 4,
     "metadata": {},
     "output_type": "execute_result"
    }
   ],
   "source": [
    "routes"
   ],
   "metadata": {
    "collapsed": false,
    "pycharm": {
     "name": "#%%\n"
    }
   }
  },
  {
   "cell_type": "code",
   "execution_count": 6,
   "outputs": [
    {
     "name": "stdout",
     "output_type": "stream",
     "text": [
      "User Guide: https://docs.kepler.gl/docs/keplergl-jupyter\n",
      "Map saved to my_keplergl_map.html!\n"
     ]
    }
   ],
   "source": [
    "from keplergl import KeplerGl\n",
    "map_2 = KeplerGl()\n",
    "\n"
   ],
   "metadata": {
    "collapsed": false,
    "pycharm": {
     "name": "#%%\n"
    }
   }
  },
  {
   "cell_type": "code",
   "execution_count": null,
   "outputs": [],
   "source": [],
   "metadata": {
    "collapsed": false,
    "pycharm": {
     "name": "#%%\n"
    }
   }
  }
 ],
 "metadata": {
  "kernelspec": {
   "display_name": "Python 3 (ipykernel)",
   "language": "python",
   "name": "python3"
  },
  "language_info": {
   "codemirror_mode": {
    "name": "ipython",
    "version": 3
   },
   "file_extension": ".py",
   "mimetype": "text/x-python",
   "name": "python",
   "nbconvert_exporter": "python",
   "pygments_lexer": "ipython3",
   "version": "3.9.7"
  }
 },
 "nbformat": 4,
 "nbformat_minor": 1
}