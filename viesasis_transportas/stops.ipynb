{
 "cells": [
  {
   "cell_type": "markdown",
   "metadata": {
    "pycharm": {
     "name": "#%% md\n"
    }
   },
   "source": [
    "# Stops.lt\n",
    "\n",
    "| Savivaldybė | GTFS  | Transporto priemonių pozicijos |\n",
    "|-------------|-------|--|\n",
    "| Vilnius      | https://www.stops.lt/vilnius/vilnius/gtfs.zip | https://www.stops.lt/vilnius/gps_full.txt |\n",
    "| Kaunas   | https://www.stops.lt/kaunas/kaunas/gtfs.zip  | https://www.stops.lt/kaunas/gps_full.txt |\n",
    "| Klaipėda   | https://www.stops.lt/klaipeda/klaipeda/gtfs.zip  | https://www.stops.lt/klaipeda/gps_full.txt |\n",
    "| Šiauliai   | bu  | https://www.stops.lt/klaipeda/gps_full.txt |\n",
    "| Panevėžys   | https://www.stops.lt/panevezys/panevezys/gtfs.zip  | https://www.stops.lt/panevezys/gps.txt |\n",
    "| Alytus   | https://www.stops.lt/alytus/alytus/gtfs.zip  | https://www.stops.lt/alytus/gps_full.txt |\n",
    "| Druskininkai   | https://www.stops.lt/druskininkai/druskininkai/gtfs.zip  | https://www.stops.lt/druskininkai/gps_full.txt |\n",
    "| Tauragės regionas   | https://www.stops.lt/taurage/taurage/gtfs.zip  | - |"
   ]
  }
 ],
 "metadata": {
  "kernelspec": {
   "display_name": "Python 3",
   "language": "python",
   "name": "python3"
  },
  "language_info": {
   "codemirror_mode": {
    "name": "ipython",
    "version": 2
   },
   "file_extension": ".py",
   "mimetype": "text/x-python",
   "name": "python",
   "nbconvert_exporter": "python",
   "pygments_lexer": "ipython2",
   "version": "2.7.6"
  }
 },
 "nbformat": 4,
 "nbformat_minor": 0
}
