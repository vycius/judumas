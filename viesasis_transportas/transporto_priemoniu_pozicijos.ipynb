{
 "cells": [
  {
   "cell_type": "markdown",
   "metadata": {
    "pycharm": {
     "name": "#%% md\n"
    }
   },
   "source": [
    "# Transporto priemonių pozicijos\n",
    "\n",
    "Šiuo metu Lietuvoje informacija apie viešojo transporto priemonių pozicijas atvirų duomenų pavidalu prieinama 4 Lietuvos miestuose.\n",
    "\n",
    "| Miestas      | Realaus laiko duomenų .csv formatu nuoroda |\n",
    "|--------------|--------------------------------------------|\n",
    "| Vilnius      | https://www.stops.lt/vilnius/gps_full.txt  |\n",
    "| Kaunas       | https://www.stops.lt/kaunas/gps_full.txt   |\n",
    "| Klaipėda     | https://www.stops.lt/klaipeda/gps_full.txt |\n",
    "| Šiauliai     | https://kis.busturas.lt:4431               |\n",
    "| Panevėžys    | https://www.stops.lt/panevezys/gps.txt     |\n",
    "| Alytus       | https://www.stops.lt/alytus/gps.txt        |\n",
    "| Druskininkai | https://www.stops.lt/druskininkai/gps.txt  |\n",
    "\n",
    "\n",
    "```{admonition} Nestandartinio formato naudojimas\n",
    ":class: warning\n",
    "Realaus laiko transporto priemonių pozicijų duomenys pateikiami nestandartizuotu formatu dėl šios priežasties nėra galimybės juos integruoti į jau egzistuojančias priemones pvz., Google Maps.\n",
    "```\n",
    "\n",
    "```{admonition} Duomenų licenzijos nepateikimas\n",
    ":class: warning\n",
    "Nepateikiama duomenų naudojimo licenzija dėl šios priežasties nėra aišku, ką duomenų naudotojai gali ir ko negali daryti su duomenimis.\n",
    "```\n",
    "\n",
    "```{admonition} Nepateikiami metaduomenys\n",
    ":class: warning\n",
    "Nepateikiami metaduomenys dėl to duomenų naudotojas priverstas spėlioti kokia yra duomenų struktūra, stulpelių reikmės ir kokiais atvejais duomenų gali trūkti.\n",
    "```\n",
    "\n",
    "```{admonition} Skirtingų duomenų formatų pateikimas\n",
    ":class: warning\n",
    "Pateikiami miestų duomenys skiriasi savo formatu ir pateikia skirtinga informaciją (pvz., Vilniuje pateikiamas reisoID, Kaune ne) dėl to organizacijai norinčiai naudoti duomenis reikia skirtingai apdoroti kiekvieno miesto duomenis.\n",
    "```"
   ]
  },
  {
   "cell_type": "markdown",
   "metadata": {},
   "source": [
    "## Duomenų pavyzdžiai\n",
    "### Vilnius\n",
    "\n",
    "```{admonition} Pateikiamas reiso identifikatorius nesisieja su GTFS duomenimis\n",
    ":class: warning\n",
    "Realaus laiko transporto priemonių pozicijų duomenys pateikiami nestandartizuotu formatu dėl šios priežasties nėra galimybės juos integruoti į jau egzistuojančias priemones pvz., Google Maps.\n",
    "```"
   ]
  },
  {
   "cell_type": "code",
   "execution_count": null,
   "metadata": {
    "pycharm": {
     "name": "#%%\n"
    }
   },
   "outputs": [],
   "source": [
    "import pandas as pd\n",
    "\n",
    "vilnius_gps_df = pd.read_csv(\n",
    "    '../data/vehicle_positions/vilnius_gps_full.csv',\n",
    "    dtype={\n",
    "        'Transportas': pd.CategoricalDtype(),\n",
    "        'Marsrutas': pd.StringDtype(),\n",
    "        'ReisoID': pd.StringDtype(),\n",
    "        'MasinosNumeris': pd.StringDtype(),\n",
    "        'Ilguma': pd.Int64Dtype(),\n",
    "        'Platuma': pd.Int64Dtype(),\n",
    "        'Greitis': pd.Int64Dtype(),\n",
    "        'Azimutas': pd.Int64Dtype(),\n",
    "        'ReisoPradziaMinutemis': pd.Int64Dtype(),\n",
    "        'NuokrypisSekundemis': pd.Int64Dtype(),\n",
    "        'MatavimoLaikas': pd.Int64Dtype(),\n",
    "        'MasinosTipas': pd.CategoricalDtype(),\n",
    "    })\n",
    "vilnius_gps_df"
   ]
  },
  {
   "cell_type": "code",
   "execution_count": null,
   "metadata": {
    "pycharm": {
     "name": "#%%\n"
    }
   },
   "outputs": [],
   "source": [
    "### Kaunas"
   ]
  },
  {
   "cell_type": "code",
   "execution_count": null,
   "metadata": {
    "pycharm": {
     "name": "#%%\n"
    }
   },
   "outputs": [],
   "source": [
    "kaunas_gps_df = pd.read_csv(\n",
    "    '../data/vehicle_positions/kaunas_gps_full.csv',\n",
    "    dtype={\n",
    "        'Transportas': pd.CategoricalDtype(),\n",
    "        'Marsrutas': pd.StringDtype(),\n",
    "        'ReisoID': pd.StringDtype(),\n",
    "        'MasinosNumeris': pd.StringDtype(),\n",
    "        'Ilguma': pd.Int64Dtype(),\n",
    "        'Platuma': pd.Int64Dtype(),\n",
    "        'Greitis': pd.Int64Dtype(),\n",
    "        'Azimutas': pd.Int64Dtype(),\n",
    "        'AtvykimoLaikasSekundemis': pd.Int64Dtype(),\n",
    "        'ReisoPradziaMinutemis': pd.Int64Dtype(),\n",
    "        'NuokrypisSekundemis': pd.Int64Dtype(),\n",
    "        'MatavimoLaikas': pd.Int64Dtype(),\n",
    "        'MasinosTipas': pd.CategoricalDtype(),\n",
    "    })\n",
    "kaunas_gps_df"
   ]
  },
  {
   "cell_type": "markdown",
   "metadata": {
    "pycharm": {
     "name": "#%% md\n"
    }
   },
   "source": [
    "### Klaipėda"
   ]
  },
  {
   "cell_type": "markdown",
   "metadata": {},
   "source": []
  },
  {
   "cell_type": "code",
   "execution_count": null,
   "metadata": {
    "pycharm": {
     "name": "#%%\n"
    }
   },
   "outputs": [],
   "source": [
    "klaipeda_gps_df = pd.read_csv('../data/vehicle_positions/klaipeda_gps_full.csv', dtype={\n",
    "    'Transportas': pd.CategoricalDtype(),\n",
    "    'Marsrutas': pd.StringDtype(),\n",
    "    'ReisoID': pd.StringDtype(),\n",
    "    'MasinosNumeris': pd.StringDtype(),\n",
    "    'Ilguma': pd.Int64Dtype(),\n",
    "    'Platuma': pd.Int64Dtype(),\n",
    "    'Greitis': pd.Int64Dtype(),\n",
    "    'Azimutas': pd.Int64Dtype(),\n",
    "    'ReisoPradziaMinutemis': pd.Int64Dtype(),\n",
    "    'NuokrypisSekundemis': pd.Int64Dtype(),\n",
    "})\n",
    "klaipeda_gps_df"
   ]
  },
  {
   "cell_type": "markdown",
   "metadata": {},
   "source": [
    "### Panevėžys\n"
   ]
  },
  {
   "cell_type": "code",
   "execution_count": null,
   "metadata": {
    "pycharm": {
     "name": "#%%\n"
    }
   },
   "outputs": [],
   "source": [
    "panevezys_gps_df = pd.read_csv('../data/vehicle_positions/panevezys_gps_no_header.csv', header=None)\n",
    "panevezys_gps_df"
   ]
  },
  {
   "cell_type": "code",
   "execution_count": null,
   "metadata": {
    "pycharm": {
     "name": "#%%\n"
    }
   },
   "outputs": [],
   "source": []
  }
 ],
 "metadata": {
  "kernelspec": {
   "display_name": "Python 3",
   "language": "python",
   "name": "python3"
  },
  "language_info": {
   "codemirror_mode": {
    "name": "ipython",
    "version": 2
   },
   "file_extension": ".py",
   "mimetype": "text/x-python",
   "name": "python",
   "nbconvert_exporter": "python",
   "pygments_lexer": "ipython2",
   "version": "2.7.6"
  }
 },
 "nbformat": 4,
 "nbformat_minor": 0
}
