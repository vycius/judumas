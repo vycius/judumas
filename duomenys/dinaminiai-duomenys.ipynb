{
 "cells": [
  {
   "cell_type": "markdown",
   "metadata": {
    "pycharm": {
     "name": "#%% md\n"
    }
   },
   "source": [
    "# Dinaminiai duomenys"
   ]
  },
  {
   "cell_type": "code",
   "execution_count": null,
   "metadata": {
    "pycharm": {
     "name": "#%%\n"
    }
   },
   "outputs": [],
   "source": [
    "import json\n",
    "from zipfile import ZipFile\n",
    "import os\n",
    "\n",
    "import plotly.express as px\n",
    "import pandas as pd\n",
    "\n",
    "working_directory = f'{os.getcwd()}/../data/saltiniai/vintra/'\n",
    "gtfs_files_directory = os.path.join(working_directory, 'gtfs')\n",
    "\n",
    "mapbox_access_token = open(\"../.mapbox_token\").read()\n",
    "px.set_mapbox_access_token(mapbox_access_token)\n",
    "\n",
    "lithuania_center = {'lat': 55.169438, 'lon': 23.881275}\n",
    "\n",
    "with open('../data/geojson/municipalities.geojson', 'r') as municipalities_geojson_file:\n",
    "    municipalities_geojson = json.load(municipalities_geojson_file)"
   ]
  },
  {
   "cell_type": "markdown",
   "metadata": {
    "pycharm": {
     "name": "#%% md\n"
    }
   },
   "source": [
    "## Duomenų teikimo privalomumas\n",
    "Kokioms transporto rūšims turėtų būti teikiami transporto priemonių geografinių pozizijų duomenys į VINTRA? Pagal viešojo transporto kelionių duomenų kaupimo tvarkos aprašą šie duomenys turėtų turi apimti{cite}`sumin_vintra_duomenu_kaupimo_tvarka`:\n",
    "- Vietinio (miesto ar priemiestinio) reguliarųjį susisiekimą;\n",
    "- Tolimąjį reguliarųjį susisiekimą;\n",
    "- Tarptautinį reguliarųjį susisiekimą;\n",
    "- Keleivių vežimą geležinkeliais;\n",
    "\n",
    "## Duomenys teikiami į VINTRA\n",
    "\n",
    "Transporto priemonių pozicijų duomenis VINTRA periodiškai pasiima iš operatorių / vežėjų `.csv` formatu.\n",
    "\n",
    "Toliau pateikiamas duomenų kontraktas, kurį turi atitikti transporto priemonių pozicijų duomenys:\n",
    "\n",
    "| Atributas                 | Privalomumas                          | Aprašymas                                                                                                                                                                                                                                         |\n",
    "|---------------------------|---------------------------------------|---------------------------------------------------------------------------------------------------------------------------------------------------------------------------------------------------------------------------------------------------|\n",
    "| **Transportas**           | Privaloma                             | Tansporto priemonės, rūšis, pvz., „Autobusai“, „Troleibusai“.                                                                                                                                                                                     |\n",
    "| **Marsrutas**             | Privaloma                             | Maršruto, kuriuo važiuoja transporto priemonė, numeris, pvz., „85“, „3g“.                                                                                                                                                                         |\n",
    "| **Reisas**                | Privaloma (esant techninei galimybei) | Reiso, kurį vykdo transporto priemonė, identifikatorius, pvz., „2777540926“, „32001“, „3g-05_1020“. Identifikatorius *privalo* atititki GTFS atributą „trip_id“                                                                                   |\n",
    "| **MasinosNumeris**        | Neprivaloma                           | Transporto priemonės identifikacinis (garažo) numeris, pvz., „252“, „771“.                                                                                                                                                                        |\n",
    "| **Ilguma**                | Privaloma                             | Pateikiama transporto priemonės padėties ilguma WGS84 koordinačių sistemoje (DD.DDDDDD formatu), padauginta iš 1000000, pvz., „25285118“ , kas reiškia 25,285118 laipsnius.                                                                       |\n",
    "| **Platuma**               | Privaloma                             | Pateikiama transporto priemonės padėties platuma WGS84 koordinačių sistemoje (DD.DDDDDD formatu), padauginta iš 1000000, pvz., „54671218“, kas reiškia 54,671218 laipsnius.                                                                       |\n",
    "| **Greitis**               | Neprivaloma                           | Transporto priemonės judėjimo greitis (km/h), pvz., „9“, „17“.                                                                                                                                                                                    |\n",
    "| **Azimutas**              | Privaloma (esant techninei galimybei) | Transporto priemonės judėjimo azimutas (laipsniais), pvz., „352“, „87“.                                                                                                                                                                           |\n",
    "| **ReisoPradziaMinutemis** | Neprivaloma                           | Reiso, kurį vykdo transporto priemonė, pradžia minutėmis (skaičiuojant nuo vidurnakčio, tai yra 00:00 laiko), pvz., „696“, kas reiškia laiką „11:36“.                                                                                             |\n",
    "| **NuokrypisSekundemis**   | Privaloma (esant techninei galimybei) | Transporto priemonės vėlavimas (sekundėmis), lyginant su planuotu reiso vykdymu (neigiamos reikšmės reiškia skubėjimą), pvz., „120“ reiškia, kad transporto priemonė vėluoja 2 minutes, „-90“ reiškia, kad transporto priemonė skuba 1,5 minutės. |\n",
    "\n",
    "## Faktiškai teikiami duomenys į VINTRA\n",
    "2022 balandžio 28 d. buvo faktiškai patikrinta, kokia dalis vežėjų teikia transporto priemonių geografinių pozicijų duomenis į VINTRA.\n",
    "\n",
    "### Vietinis reguliarusis susisiekimas\n",
    "| Savivaldybė         | Transporto priemonių pozicijų per parą |\n",
    "|---------------------|----------------------------------------|\n",
    "| Vilniaus m. sav.    | 572 736                                |\n",
    "| Klaipėdos m. sav.   | 134 714                                |\n",
    "| Šiaulių m. sav.     | 60 530                                 |\n",
    "| Alytaus m. sav.     | 24 973                                 |\n",
    "| Kretingos r. sav.   | 8 166                                  |\n",
    "| Druskininkų sav.    | 2 995                                  |\n",
    "| Rokiškio r. sav.    | 2 845                                  |\n",
    "| Ukmergės r. sav.    | 2 152                                  |\n",
    "| Biržų r. sav.       | 1 578                                  |\n",
    "| Širvintų r. sav.    | 915                                    |\n",
    "| Kazlų Rūdos sav.    | 497                                    |\n",
    "| Marijampolės sav.   | 496                                    |\n",
    "| Vilkaviškio r. sav. | 494                                    |\n",
    "\n",
    "```{admonition} Savivaldybių transporto priemonių geografinės pozicijos duomenų trūkumas\n",
    ":class: warning\n",
    "14 Lietuvos savivaldybių yra teikiami transporto priemonių geografinės pozicijos duomenys. Likusių savivaldybių dinaminių duomenų VINTRA nėra.\n",
    "```"
   ]
  },
  {
   "cell_type": "code",
   "execution_count": null,
   "metadata": {
    "pycharm": {
     "name": "#%%\n"
    }
   },
   "outputs": [],
   "source": [
    "dynamic_df = pd.read_csv(os.path.join(working_directory, 'vintra-transporto-pozicijos-savivaldybes.csv'))\n",
    "\n",
    "dynamic_df['Transporto pozicijų kiekis'] = dynamic_df['Įkeltos transporto pozicijos per dieną (balandžio 28)'].fillna('0')\n",
    "\n",
    "\n",
    "fig_dynamic = px.choropleth(\n",
    "    dynamic_df,\n",
    "    geojson=municipalities_geojson,\n",
    "    locations=\"Savivaldybė\",\n",
    "    featureidkey=\"properties.name\",\n",
    "    color='Statusas',\n",
    "    fitbounds='locations',\n",
    "    basemap_visible=False,\n",
    "    projection=\"mercator\",\n",
    "    color_discrete_sequence=['#00CC96', '#FFA15A', '#EF553B'],\n",
    "    category_orders={\"Statusas\": [\"Teikiama\", \"Teikiama, tačiau nesurišta su reisu\", \"Neteikiama\"]},\n",
    "    hover_data=['Transporto pozicijų kiekis']\n",
    "\n",
    ")\n",
    "\n",
    "fig_dynamic.update_layout(\n",
    "    margin={\"r\": 0, \"l\": 0, \"b\": 0},\n",
    "    title_text='Vietinio susisiekimo transporto priemonių geografinės padėties duomenų teikimas (2022-04-28)',\n",
    ")\n",
    "fig_dynamic.show()"
   ]
  },
  {
   "cell_type": "markdown",
   "metadata": {
    "pycharm": {
     "name": "#%% md\n"
    }
   },
   "source": [
    "```{admonition} Transporto priemonių pozicijų duomenys nėra surišti su reisais\n",
    ":class: warning\n",
    "9 Lietuvos savivaldybių teikiami vietinio susisiekimo transporto priemonių geografinės pozicijos duomenys nėra surišti su reisais. Tai reiškia, kad tokie duomenys teikia mažiau naudos, nes nėra  galimybės nustatyti kiek laiko vėluoja transporto priemonė ar atlikti detalesnės duomenų analizės.\n",
    "```"
   ]
  },
  {
   "cell_type": "markdown",
   "metadata": {
    "pycharm": {
     "name": "#%% md\n"
    }
   },
   "source": [
    "### Tolimasis susisiekimas\n",
    "Tolimajame susisiekime tik viena bendrovė teikia transporto priemonių geografinių pozizijų duomenys į VINTRA (iš viso per parą 57 198 transporto priemonių geografinės padėties pozicijų).\n",
    "\n",
    "Visi kiti vežėjai transporto priemonių geografinės padėties pozicijų duomenų į VINTRA neteikia.\n",
    "\n",
    "```{admonition} Tolimojo susisiekimo vežėjų duomenų trūkumas\n",
    ":class: warning\n",
    "Nors pagal LTSA pasirašomas sutartis{cite}`ltsa_vezeju_prievole_teikti` ir viešojo transporto kelionių duomenų kaupimo tvarkos aprašą{cite}`sumin_vintra_duomenu_kaupimo_tvarka` tolimojo susisiekimo vežėjai privalo teikti transporto priemonių geografinės pozicijos duomenis į VINTRA, tačiau tą daro tik 1 iš 37 vežėjų.\n",
    "```"
   ]
  },
  {
   "cell_type": "markdown",
   "metadata": {
    "pycharm": {
     "name": "#%% md\n"
    }
   },
   "source": [
    "## Stops.lt duomenys\n",
    "Dalis Lietuvos savivaldybių naudoja Stops.lt sistemą iš kurios transporto priemonių geografinės padėties duomenys patenka į VINTRA. Duomenys yra teikiami VINTRA pritaikytu formatu. Toliau pateikiama lentelė su savivaldybėmis naudojančiomis Stops.lt sistema ir dinaminių duomenų šaltiniais.\n",
    "\n",
    "### Prieš atnaujinimą\n",
    "\n",
    "| Savivaldybė                                        | Duomenų nuoroda (iki 2022 balandžio 19 d.)                                               |\n",
    "|----------------------------------------------------|------------------------------------------------------------------------------------------|\n",
    "| [Vilniaus m. sav.](https://stops.lt/vilnius/)      | [https://www.stops.lt/vilnius/gps_full.txt](https://www.stops.lt/vilnius/gps_full.txt)   |\n",
    "| [Kauno m. sav.](https://stops.lt/kaunas/)          | [https://www.stops.lt/kaunas/gps_full.txt](https://www.stops.lt/kaunas/gps_full.txt)     |\n",
    "| [Klaipėdos m. sav.](https://stops.lt/klaipeda/)    | [https://www.stops.lt/klaipeda/gps_full.txt](https://www.stops.lt/klaipeda/gps_full.txt) |\n",
    "| [Panevėžio m. sav](https://stops.lt/panevezys/)    | [https://www.stops.lt/panevezys/gps.txt](https://www.stops.lt/panevezys/gps.txt)         |\n",
    "| [Alytaus m. sav.](https://stops.lt/alytus/)        | [https://www.stops.lt/alytus/gps.txt](https://www.stops.lt/alytus/gps.txt)               |\n",
    "| [Druskininkų sav.](https://stops.lt/druskininkai/) | [https://www.stops.lt/druskininkai/gps.txt](https://www.stops.lt/druskininkai/gps.txt)   |\n",
    "\n",
    "#### Integravimo į VINTRA problemos\n",
    "\n",
    "```{admonition} Integralumo su statiniais duomenimis nebuvimas\n",
    ":class: error\n",
    "Pateikiamas reisas nesiriša su statiniais duomenimis ir pažeidžia VINTRA specifikaciją. Toks integralumo nebuvimas neleidžia sužinoti kokį reisą atitinka transporto priemonių geografinė pozicija. Problemai ištaisyti duomenų naudotojai turėdavo taikyti sudėtingus metodus pvz., trajektorijos analizę.\n",
    "```\n",
    "\n",
    "```{admonition} Skirtingų duomenų formatų pateikimas\n",
    ":class: warning\n",
    "Pateikiami miestų duomenys skiriasi savo formatu ir pateikia skirtinga informaciją (pvz., Vilniaus m. sav. pateikiamas `reisoID`, Kauno m. sav. ne, Panevėžio m. sav. duomenys grįžta be antraštės) dėl to yra pažeidžiama VINTRA specifikacija, o įmonėms norinčioms naudoti duomenis reikia skirtingai apdoroti kiekvienos savivaldybės duomenis.\n",
    "```\n",
    "#### Integravimo į kelionių planavimo programas problemos\n",
    "Jei šie duomenys būtų integruojami tiesiogiai į kelionių planavimo programas tuomet būtų susiduriama su tokiomis problemomis.\n",
    "\n",
    "```{admonition} Formato problemos\n",
    ":class: warning\n",
    "Realaus laiko transporto priemonių geografinės padėties duomenys pateikiami ne SIRI (pagal ITS direktyvą{cite}`directive_multimodal_travel_information_services_main`) ar GTFS Realtime (pasaulinis standartas) formatais.  Dėl šios priežasties nėra galimybės šių duomenų integruoti į jau egzistuojančias kelionių planavimo priemones pvz., Google Maps, Apple Maps ir kt.\n",
    "```\n",
    "\n",
    "```{admonition} Duomenų licenzijos nepateikimas\n",
    ":class: warning\n",
    "Nepateikiama duomenų naudojimo licenzija dėl šios priežasties nėra aišku, ką duomenų naudotojai gali ir ko negali daryti su duomenimis.\n",
    "```\n",
    "\n",
    "```{admonition} Nepateikiami metaduomenys\n",
    ":class: warning\n",
    "Nepateikiami metaduomenys dėl to duomenų naudotojas priverstas spėlioti kokia yra duomenų struktūra, kokios yra atribūtų reikšmės ir kokiais atvejais duomenų gali trūkti.\n",
    "```\n",
    "\n",
    "\n",
    "\n",
    "### Po atnaujinimo\n",
    "Susisiekus su Stops.lt kūrėjais UAB „Merakas“ dėl integralumo su statiniais duomenimis nebuvimo (sąryšio per `Reisas`) problema buvo 2022 balandžio 19 d. buvo pašalinta bei buvo atnaujintos duomenų nuorodos. Taip pat buvo ištaisyta problema dėl skirtingų formatų naudojimo miestuose. Toliau pateikiama lentelė su atnaujintais duomenų šaltiniais.\n",
    "\n",
    "| Savivaldybė                                        | Atnaujinta duomenų nuoroda                                                                             |\n",
    "|----------------------------------------------------|--------------------------------------------------------------------------------------------------------|\n",
    "| [Vilniaus m. sav.](https://stops.lt/vilnius/)      | [https://www.stops.lt/vilnius/gps_full_v2.txt](https://www.stops.lt/vilnius/gps_full_v2.txt)           |\n",
    "| [Kauno m. sav.](https://stops.lt/kaunas/)          | [https://www.stops.lt/kaunas/gps_full_v2.txt](https://www.stops.lt/kaunas/gps_full_v2.txt)             |\n",
    "| [Klaipėdos m. sav.](https://stops.lt/klaipeda/)    | [https://www.stops.lt/klaipeda/gps_full_v2.txt](https://www.stops.lt/klaipeda/gps_full_v2.txt)         |\n",
    "| [Panevėžio m. sav](https://stops.lt/panevezys/)    | [https://www.stops.lt/panevezys/gps_full_v2.txt](https://www.stops.lt/panevezys/gps_full_v2.txt)       |\n",
    "| [Alytaus m. sav.](https://stops.lt/alytus/)        | [https://www.stops.lt/alytus/gps_full_v2.txt](https://www.stops.lt/alytus/gps_full_v2.txt)             |\n",
    "| [Druskininkų sav.](https://stops.lt/druskininkai/) | [https://www.stops.lt/druskininkai/gps_full_v2.txt](https://www.stops.lt/druskininkai/gps_full_v2.txt) |\n",
    "\n",
    "Visgi, buvo pakeistas atributo pavadinimas iš `Reisas` į `ReisoID` dėl to atsirado papildomas VINTRA kontrakto neatitikimas.\n"
   ]
  },
  {
   "cell_type": "markdown",
   "metadata": {
    "pycharm": {
     "name": "#%% md\n"
    }
   },
   "source": [
    "## Apibendrinimas\n",
    "\n",
    "Toliau pateikiama į VINTRA teikiamų duomenų suvestinė.\n",
    "\n",
    "| Teikėjai                         | Transporto priemonių geografinės pozicijos |\n",
    "|----------------------------------|--------------------------------------------|\n",
    "| Savivaldybės                     | 14 savivaldybių                            |\n",
    "| Tolimojo susisiekimo vežėjai     | 1 iš 37 vežėjų                             |\n",
    "| Tarptautinio susisiekimo vežėjai | Neteikia                                   |\n",
    "| Lietuvos geležinkeliai           | Neteikia                                   |\n",
    "\n",
    "```{admonition} Tarptautinio susisiekimo vežėjų duomenų trūkumas\n",
    ":class: warning\n",
    "Nors pagal viešojo transporto kelionių duomenų kaupimo tvarkos aprašą{cite}`sumin_vintra_duomenu_kaupimo_tvarka` tarptautinio susisiekimo vežėjai turi teikti transporto priemonių geografinės pozicijos duomenis į VINTRA, tačiau to nedaro nė vienas vežėjas.\n",
    "```\n",
    "\n",
    "```{admonition} Lietuvos geležinkelių duomenų trūkumas\n",
    ":class: warning\n",
    "Nors pagal viešojo transporto kelionių duomenų kaupimo tvarkos aprašą{cite}`sumin_vintra_duomenu_kaupimo_tvarka` geležinkeliai turi teikti transporto priemonių geografinės pozicijos duomenis į VINTRA, tačiau duomenys nėra teikiami.\n",
    "```"
   ]
  }
 ],
 "metadata": {
  "kernelspec": {
   "display_name": "Python 3",
   "language": "python",
   "name": "python3"
  },
  "language_info": {
   "codemirror_mode": {
    "name": "ipython",
    "version": 2
   },
   "file_extension": ".py",
   "mimetype": "text/x-python",
   "name": "python",
   "nbconvert_exporter": "python",
   "pygments_lexer": "ipython2",
   "version": "2.7.6"
  }
 },
 "nbformat": 4,
 "nbformat_minor": 0
}
