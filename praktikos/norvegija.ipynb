{
 "cells": [
  {
   "cell_type": "markdown",
   "metadata": {
    "pycharm": {
     "name": "#%% md\n"
    }
   },
   "source": [
    "# Norvegija\n",
    "\n",
    "Nacionalinis Novergijos viešojo transporto duomenų registras ([ENTUR](https://developer.entur.org/pages-intro-overview)) susideda iš daugiau nei 60 transporto operatorių, beveik 60 000 stotelių ir informacijos apie daugiau nei 3 tūkst. maršrutų su daugiau nei 21 tūkst. kasdienių išvykimų{cite}`entur_about`. Šis registras yra valdomas „Entur AS“ bendrovės, kuri yra įkurta 2016 m. Norvegijos transporto ir ryšių ministerijos. ENTUR ne tik atsakinga už viešojo transporto duomenis, tačiau ir valdo traukinių bilietų pardavimo sistemą bei kuria skaitmeninius produktus lengvesniam kelionių planavimui.\n",
    "\n",
    "\n",
    "## Duomenų prieinamumas\n",
    "\n",
    "Visi duomenys yra prieinami visiškai nemokamai pagal [Norvegijos atvirosios vyriausybės duomenų licenciją](https://data.norge.no/nlod/en/2.0/) (angl. Norwegian Licence for Open Government Data).\n",
    "\n",
    "## Novergijos stotelių registras\n",
    "ENTUR taip pat valdo [nacionalinį stotelių registrą](https://stoppested.entur.org), kuriame yra apibrėžiama pagrindinė su stotele susijusi informacija, o duomenų teikėjai naudoja nacionaliniame stotelių registre esančius identifikatorius duomenų integralumui užtikrinti.\n",
    "\n",
    "```{figure} ../images/gerosios-praktikos/norvegija/entur-stop-registry.png\n",
    ":name: entur-stop-registry\n",
    "\n",
    "Novergijos nacionalinis stotelių registras\n",
    "```\n",
    "\n",
    "## Statiniai duomenys\n",
    "Statiniai duomenys yra prieinami tiek NeTEx, tiek GTFS formatais. GTFS formatas turi du tipus: „pilną“ (angl. *extended*) ir pagrindinį (angl. *basic*). Visi duomenų teikėjai privalo teikti statinius duomenis NeTEx formatu pagal [Norvegišką NeTEX profilį](https://enturas.atlassian.net/wiki/spaces/PUBLIC/pages/728891481/Nordic+NeTEx+Profile).\n",
    "\n",
    "[ENTUR](https://developer.entur.org/stops-and-timetable-data) yra prieinami tiek atskirų duomenų teikėjų, tiek visos šalies viešojo transporto statiniai duomenų rinkinio failai.\n",
    "\n",
    "```{figure} ../images/gerosios-praktikos/norvegija/entur-static-files.png\n",
    ":name: entur-static-data-files\n",
    "\n",
    "ENTUR statiniai viešojo transporto duomenų rinkiniai\n",
    "```"
   ]
  }
 ],
 "metadata": {
  "kernelspec": {
   "display_name": "Python 3",
   "language": "python",
   "name": "python3"
  },
  "language_info": {
   "codemirror_mode": {
    "name": "ipython",
    "version": 2
   },
   "file_extension": ".py",
   "mimetype": "text/x-python",
   "name": "python",
   "nbconvert_exporter": "python",
   "pygments_lexer": "ipython2",
   "version": "2.7.6"
  }
 },
 "nbformat": 4,
 "nbformat_minor": 0
}
