{
 "cells": [
  {
   "cell_type": "markdown",
   "metadata": {
    "pycharm": {
     "name": "#%% md\n"
    }
   },
   "source": [
    "# Architektūra\n"
   ]
  },
  {
   "cell_type": "code",
   "execution_count": null,
   "metadata": {
    "pycharm": {
     "name": "#%%\n"
    }
   },
   "outputs": [],
   "source": [
    "from diagrams import Cluster\n",
    "from diagrams import Diagram\n",
    "from diagrams.aws.iot import IotCore\n",
    "from diagrams.generic.place import Datacenter\n",
    "from diagrams.generic.storage import Storage\n",
    "\n",
    "with Diagram(\"\", show=False) as d:\n",
    "    open_data_portal = Datacenter(\"Atvirų duomenų portalas\")\n",
    "    with Cluster(\"Realaus laiko duomenų šaltiniai (GTFS-Protobuf formatu)\"):\n",
    "        data_sources = [\n",
    "            IotCore(\"Vežėjo sistema\"),\n",
    "            IotCore(\"Savivaldybės sistema\"),\n",
    "            IotCore(\"Stops.lt sistema\")\n",
    "        ]\n",
    "\n",
    "        data_sources >> open_data_portal\n",
    "\n",
    "\n",
    "\n",
    "d"
   ]
  },
  {
   "cell_type": "code",
   "execution_count": null,
   "metadata": {
    "pycharm": {
     "name": "#%%\n"
    }
   },
   "outputs": [],
   "source": []
  },
  {
   "cell_type": "code",
   "execution_count": null,
   "metadata": {
    "pycharm": {
     "name": "#%%\n"
    }
   },
   "outputs": [],
   "source": []
  }
 ],
 "metadata": {
  "kernelspec": {
   "display_name": "Python 3",
   "language": "python",
   "name": "python3"
  },
  "language_info": {
   "codemirror_mode": {
    "name": "ipython",
    "version": 2
   },
   "file_extension": ".py",
   "mimetype": "text/x-python",
   "name": "python",
   "nbconvert_exporter": "python",
   "pygments_lexer": "ipython2",
   "version": "2.7.6"
  }
 },
 "nbformat": 4,
 "nbformat_minor": 0
}
