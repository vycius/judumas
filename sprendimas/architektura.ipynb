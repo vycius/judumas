{
 "cells": [
  {
   "cell_type": "markdown",
   "metadata": {
    "pycharm": {
     "name": "#%% md\n"
    }
   },
   "source": [
    "# Architektūra\n"
   ]
  },
  {
   "cell_type": "code",
   "execution_count": null,
   "metadata": {
    "pycharm": {
     "name": "#%%\n"
    }
   },
   "outputs": [],
   "source": [
    "\n",
    "from diagrams import Cluster\n",
    "from diagrams import Diagram\n",
    "from diagrams.aws.compute import LocalZones\n",
    "from diagrams.aws.database import RDS\n",
    "from diagrams.aws.iot import IotCore\n",
    "\n",
    "graph_attr = {\n",
    "    \"fontsize\": \"45\",\n",
    "    \"bgcolor\": \"transparent\"\n",
    "}\n",
    "\n",
    "with Diagram(\"VINTRA standartizuotų viešojo transporto realaus laiko duomenų atvėrimas\", show=False, graph_attr=graph_attr) as d:\n",
    "    with Cluster(\"Esamas viešojo transporto kelionių duomenų informacinės sistemos (VINTRA) funkcionalumas\"):\n",
    "        with Cluster(\"Duomenų apdorojimas ir saugojimas 24 val.\"):\n",
    "            vintra = IotCore(\"VINTRA\")\n",
    "\n",
    "        with Cluster(\"Realaus laiko duomenų šaltiniai\"):\n",
    "            data_cluster = [\n",
    "                LocalZones(\"Transporto priemonių\\ngeografinė padėtis\"),\n",
    "            ]\n",
    "\n",
    "    with Cluster(\"Planuojama: realaus laiko duomenų atvėrimas\"):\n",
    "        with Cluster(\"Standartizuoti realaus laiko\\nduomenų formatai\"):\n",
    "            formats = [\n",
    "                RDS(\"SIRI\"),\n",
    "                RDS(\"GTFS Realtime\"),\n",
    "            ]\n",
    "\n",
    "    # noinspection PyStatementEffect\n",
    "    data_cluster >> vintra >> formats\n",
    "\n",
    "d"
   ]
  },
  {
   "cell_type": "code",
   "execution_count": null,
   "metadata": {
    "pycharm": {
     "name": "#%%\n"
    }
   },
   "outputs": [],
   "source": [
    "from diagrams.aws.database import Aurora\n",
    "\n",
    "with Diagram(\"VINTRA istorinių realaus laiko duomenų saugojimas ir atvėrimas\", show=False) as d:\n",
    "    with Cluster(\"Esamas viešojo transporto kelionių duomenų informacinės sistemos (VINTRA) funkcionalumas\"):\n",
    "        with Cluster(\"Duomenų apdorojimas ir saugojimas 24 val.\"):\n",
    "            vintra = IotCore(\"VINTRA\")\n",
    "\n",
    "        with Cluster(\"Realaus laiko duomenų šaltiniai\"):\n",
    "            data_cluster = [\n",
    "                LocalZones(\"Transporto priemonių\\ngeografinė padėtis\"),\n",
    "            ]\n",
    "\n",
    "    with Cluster(\"Planuojama: realaus laiko duomenų atvėrimas\"):\n",
    "        with Cluster(\"Standartizuoti realaus laiko\\nduomenų formatai\"):\n",
    "            formats = [\n",
    "                RDS(\"SIRI\"),\n",
    "                RDS(\"GTFS Realtime\"),\n",
    "            ]\n",
    "\n",
    "    with Cluster(\"Planuojama: istorinių realaus laiko duomenų saugojimas ir atvėrimas\"):\n",
    "        real_time_storage = Aurora(\"Istorinių\\nduomenų saugykla\")\n",
    "        real_time_data_trafer = RDS(\"Atviri duomenys\")\n",
    "\n",
    "    # noinspection PyStatementEffect\n",
    "    data_cluster >> vintra >> formats\n",
    "\n",
    "    vintra >> real_time_storage >> real_time_data_trafer\n",
    "\n",
    "d"
   ]
  },
  {
   "cell_type": "code",
   "execution_count": null,
   "metadata": {
    "pycharm": {
     "name": "#%%\n"
    }
   },
   "outputs": [],
   "source": [
    "from diagrams.aws.compute import Lambda\n",
    "from diagrams.aws.database import Aurora\n",
    "\n",
    "with Diagram(\"VINTRA istorinių realaus laiko duomenų saugojimas ir atvėrimas\", show=False, direction='LR') as d:\n",
    "    with Cluster(\"Realaus laiko duomenų šaltiniai\"):\n",
    "        with Cluster(\"Esamas funkcionalumas\"):\n",
    "            data_cluster = [\n",
    "                LocalZones(\"Transporto priemonių\\ngeografinė padėtis\"),\n",
    "            ]\n",
    "\n",
    "    with Cluster(\"VINTRA\", direction='TB'):\n",
    "        with Cluster(\"Planuojama: informacinai pranešimai\"):\n",
    "            disruptions = Lambda(\"Pranešimų vartotojo sąsaja\")\n",
    "\n",
    "        with Cluster(\"Esamas funkcionalumas\"):\n",
    "            vintra_db = IotCore(\"Duomenų bazė\")\n",
    "\n",
    "    disruptions >> vintra_db\n",
    "\n",
    "    with Cluster(\"Planuojama: realaus laiko duomenų atvėrimas\"):\n",
    "        with Cluster(\"Standartizuoti realaus laiko\\nduomenų formatai\"):\n",
    "            formats = [\n",
    "                RDS(\"SIRI\"),\n",
    "                RDS(\"GTFS Realtime\"),\n",
    "            ]\n",
    "\n",
    "    with Cluster(\"Planuojama: istorinių realaus laiko duomenų saugojimas ir atvėrimas\"):\n",
    "        real_time_storage = Aurora(\"Istorinių\\nduomenų saugykla\")\n",
    "        real_time_data_trafer = RDS(\"Atviri duomenys\")\n",
    "\n",
    "    # noinspection PyStatementEffect\n",
    "    data_cluster >> vintra_db >> formats\n",
    "\n",
    "    vintra_db >> real_time_storage >> real_time_data_trafer\n",
    "\n",
    "d"
   ]
  },
  {
   "cell_type": "code",
   "execution_count": null,
   "metadata": {
    "pycharm": {
     "name": "#%%\n"
    }
   },
   "outputs": [],
   "source": [
    "from diagrams.aws.compute import Lambda\n",
    "from diagrams.aws.database import Aurora\n",
    "\n",
    "with Diagram(\"VINTRA istorinių realaus laiko duomenų saugojimas ir atvėrimas\", show=False, graph_attr=graph_attr) as d:\n",
    "    with Cluster(\"Realaus laiko duomenų šaltiniai\"):\n",
    "        gps = LocalZones(\"Transporto priemonių\\ngeografinė padėtis\")\n",
    "        with Cluster(\"Planuojama:\\nkiti duomenų šaltiniai\"):\n",
    "            occupancy = LocalZones(\"Transporto priemonės\\nužpildymas\")\n",
    "            congestion = LocalZones(\"Kamščių lygis\")\n",
    "\n",
    "\n",
    "    with Cluster(\"VINTRA\"):\n",
    "        with Cluster(\"Planuojama: informacinai pranešimai\"):\n",
    "            disruptions = Lambda(\"Pranešimų vartotojo sąsaja\")\n",
    "\n",
    "        vintra_db = IotCore(\"Duomenų bazė\")\n",
    "\n",
    "        occupancy >> vintra_db\n",
    "        congestion >> vintra_db\n",
    "        gps >> vintra_db\n",
    "\n",
    "\n",
    "\n",
    "    with Cluster(\"Planuojama: realaus laiko duomenų atvėrimas\"):\n",
    "        with Cluster(\"Standartizuoti realaus laiko\\nduomenų formatai\"):\n",
    "            formats = [\n",
    "                RDS(\"SIRI\"),\n",
    "                RDS(\"GTFS Realtime\"),\n",
    "            ]\n",
    "\n",
    "    with Cluster(\"Planuojama: istorinių realaus laiko duomenų saugojimas ir atvėrimas\"):\n",
    "        real_time_storage = Aurora(\"Istorinių\\nduomenų saugykla\")\n",
    "        real_time_data_trafer = RDS(\"Atviri duomenys\")\n",
    "\n",
    "    # noinspection PyStatementEffect\n",
    "    data_cluster >> vintra_db >> formats\n",
    "    disruptions >> vintra_db\n",
    "    vintra_db >> real_time_storage >> real_time_data_trafer\n",
    "\n",
    "d"
   ]
  },
  {
   "cell_type": "code",
   "execution_count": null,
   "metadata": {
    "pycharm": {
     "name": "#%%\n"
    }
   },
   "outputs": [],
   "source": []
  }
 ],
 "metadata": {
  "kernelspec": {
   "display_name": "Python 3",
   "language": "python",
   "name": "python3"
  },
  "language_info": {
   "codemirror_mode": {
    "name": "ipython",
    "version": 2
   },
   "file_extension": ".py",
   "mimetype": "text/x-python",
   "name": "python",
   "nbconvert_exporter": "python",
   "pygments_lexer": "ipython2",
   "version": "2.7.6"
  }
 },
 "nbformat": 4,
 "nbformat_minor": 0
}
