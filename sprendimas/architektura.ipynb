{
 "cells": [
  {
   "cell_type": "markdown",
   "metadata": {
    "pycharm": {
     "name": "#%% md\n"
    }
   },
   "source": [
    "# Architektūra\n"
   ]
  },
  {
   "cell_type": "code",
   "execution_count": null,
   "metadata": {
    "pycharm": {
     "name": "#%%\n"
    }
   },
   "outputs": [],
   "source": [
    "import pandas as pd\n",
    "from diagrams import Cluster\n",
    "from diagrams import Diagram\n",
    "from diagrams.gcp.ml import AIHub\n",
    "from diagrams.gcp.operations import Monitoring\n",
    "from diagrams.gcp.api import Endpoints\n",
    "from diagrams.gcp.database import BigTable, SQL, Memorystore\n",
    "from diagrams.gcp.iot import IotCore\n",
    "\n",
    "graph_attr = {\n",
    "    # \"bgcolor\": \"transparent\"\n",
    "}"
   ]
  },
  {
   "cell_type": "code",
   "execution_count": null,
   "metadata": {
    "pycharm": {
     "name": "#%%\n"
    }
   },
   "outputs": [],
   "source": [
    "with Diagram(\"VINTRA esama realaus laiko duomenų situacija\", show=False, graph_attr=graph_attr) as d:\n",
    "    vintra_satic_db = SQL(\"VINTRA: statiniai duomenys\")\n",
    "    with Cluster(\"Realaus laiko duomenų šaltiniai\"):\n",
    "        gps = IotCore(\"Transporto priemonių\\ngeografinė padėtis\")\n",
    "\n",
    "    vintra_realtime_db = Memorystore(\"VINTRA:\\nrealaus laiko\\nduomenys\")\n",
    "\n",
    "    # noinspection PyStatementEffect\n",
    "    [\n",
    "        gps,\n",
    "        vintra_satic_db,\n",
    "    ] >> vintra_realtime_db\n",
    "\n",
    "d"
   ]
  },
  {
   "cell_type": "code",
   "execution_count": null,
   "metadata": {
    "pycharm": {
     "name": "#%%\n"
    }
   },
   "outputs": [],
   "source": [
    "with Diagram(\"VINTRA standartizuotų viešojo transporto realaus laiko duomenų atvėrimas\",  show=False,\n",
    "             graph_attr=graph_attr) as d:\n",
    "    vintra_satic_db = SQL(\"VINTRA: statiniai duomenys\")\n",
    "    with Cluster(\"Realaus laiko duomenų šaltiniai\"):\n",
    "        gps = IotCore(\"Transporto priemonių\\ngeografinė padėtis\")\n",
    "\n",
    "    vintra_realtime_db = Memorystore(\"VINTRA:\\nrealaus laiko\\nduomenys\")\n",
    "\n",
    "    with Cluster(\"Planuojama: realaus laiko duomenų atvėrimas\"):\n",
    "        with Cluster(\"Standartizuoti realaus laiko\\nduomenų formatai\"):\n",
    "            formats = [\n",
    "                AIHub(\"SIRI\"),\n",
    "                AIHub(\"GTFS Realtime\"),\n",
    "            ]\n",
    "\n",
    "    # noinspection PyStatementEffect\n",
    "    [\n",
    "        gps,\n",
    "        vintra_satic_db,\n",
    "    ] >> vintra_realtime_db\n",
    "\n",
    "    vintra_realtime_db >> formats\n",
    "\n",
    "d"
   ]
  },
  {
   "cell_type": "code",
   "execution_count": null,
   "metadata": {
    "pycharm": {
     "name": "#%%\n"
    }
   },
   "outputs": [],
   "source": [
    "with Diagram(\"VINTRA istorinių realaus laiko duomenų saugojimas ir atvėrimas\", show=False,\n",
    "             graph_attr=graph_attr) as d:\n",
    "    vintra_satic_db = SQL(\"VINTRA: statiniai duomenys\")\n",
    "    with Cluster(\"Realaus laiko duomenų šaltiniai\"):\n",
    "        gps = IotCore(\"Transporto priemonių\\ngeografinė padėtis\")\n",
    "\n",
    "    vintra_realtime_db = Memorystore(\"VINTRA:\\nrealaus laiko\\nduomenys\")\n",
    "\n",
    "    with Cluster(\"Planuojama: realaus laiko duomenų atvėrimas\"):\n",
    "        with Cluster(\"Standartizuoti realaus laiko\\nduomenų formatai\"):\n",
    "            formats = [\n",
    "                AIHub(\"SIRI\"),\n",
    "                AIHub(\"GTFS Realtime\"),\n",
    "            ]\n",
    "\n",
    "    with Cluster(\"Planuojama: istorinių realaus laiko duomenų saugojimas ir atvėrimas\"):\n",
    "        real_time_storage = BigTable(\"Istorinių\\nduomenų saugykla\")\n",
    "        real_time_data_transfer = Endpoints(\"Atviri istoriniai duomenys\")\n",
    "\n",
    "    # noinspection PyStatementEffect\n",
    "    [\n",
    "        gps,\n",
    "        vintra_satic_db,\n",
    "    ] >> vintra_realtime_db\n",
    "\n",
    "    vintra_realtime_db >> formats\n",
    "    vintra_realtime_db >> real_time_storage >> real_time_data_transfer\n",
    "\n",
    "d"
   ]
  },
  {
   "cell_type": "code",
   "execution_count": null,
   "metadata": {
    "pycharm": {
     "name": "#%%\n"
    }
   },
   "outputs": [],
   "source": [
    "with Diagram(\"VINTRA informacinių pranešimų įgalinimas\", show=False,  graph_attr=graph_attr) as d:\n",
    "    vintra_satic_db = SQL(\"VINTRA: statiniai duomenys\")\n",
    "    with Cluster(\"Realaus laiko duomenų šaltiniai\"):\n",
    "        gps = IotCore(\"Transporto priemonių\\ngeografinė padėtis\")\n",
    "        with Cluster(\"Planuojama: informacinai pranešimai\"):\n",
    "            disruptions = Monitoring(\"VINTRA:\\npranešimų vartotojo sąsaja\")\n",
    "\n",
    "    vintra_realtime_db = Memorystore(\"VINTRA:\\nrealaus laiko\\nduomenys\")\n",
    "\n",
    "    with Cluster(\"Planuojama: realaus laiko duomenų atvėrimas\"):\n",
    "        with Cluster(\"Standartizuoti realaus laiko\\nduomenų formatai\"):\n",
    "            formats = [\n",
    "                AIHub(\"SIRI\"),\n",
    "                AIHub(\"GTFS Realtime\"),\n",
    "            ]\n",
    "\n",
    "    with Cluster(\"Planuojama: istorinių realaus laiko duomenų saugojimas ir atvėrimas\"):\n",
    "        real_time_storage = BigTable(\"Istorinių\\nduomenų saugykla\")\n",
    "        real_time_data_transfer = Endpoints(\"Atviri istoriniai duomenys\")\n",
    "\n",
    "    # noinspection PyStatementEffect\n",
    "    [\n",
    "        disruptions,\n",
    "        gps,\n",
    "        vintra_satic_db,\n",
    "    ] >> vintra_realtime_db\n",
    "\n",
    "    vintra_realtime_db >> formats\n",
    "    vintra_realtime_db >> real_time_storage >> real_time_data_transfer\n",
    "\n",
    "d"
   ]
  },
  {
   "cell_type": "code",
   "execution_count": null,
   "metadata": {
    "pycharm": {
     "name": "#%%\n"
    }
   },
   "outputs": [],
   "source": [
    "with Diagram(\"VINTRA papildomų duomenų šaltinių įgalinimas\", show=False,  graph_attr=graph_attr) as d:\n",
    "    vintra_satic_db = SQL(\"VINTRA: statiniai duomenys\")\n",
    "    with Cluster(\"Realaus laiko duomenų šaltiniai\"):\n",
    "        gps = IotCore(\"Transporto priemonių\\ngeografinė padėtis\")\n",
    "        with Cluster(\"Planuojama:\\nkiti duomenų šaltiniai\"):\n",
    "            occupancy = IotCore(\"Transporto priemonės\\nužpildymas\")\n",
    "            congestion = IotCore(\"Kamščių lygis\")\n",
    "\n",
    "        with Cluster(\"Planuojama: informacinai pranešimai\"):\n",
    "            disruptions = Monitoring(\"VINTRA:\\npranešimų vartotojo sąsaja\")\n",
    "\n",
    "    vintra_realtime_db = Memorystore(\"VINTRA:\\nrealaus laiko\\nduomenys\")\n",
    "\n",
    "    with Cluster(\"Planuojama: realaus laiko duomenų atvėrimas\"):\n",
    "        with Cluster(\"Standartizuoti realaus laiko\\nduomenų formatai\"):\n",
    "            formats = [\n",
    "                AIHub(\"SIRI\"),\n",
    "                AIHub(\"GTFS Realtime\"),\n",
    "            ]\n",
    "\n",
    "    with Cluster(\"Planuojama: istorinių realaus laiko duomenų saugojimas ir atvėrimas\"):\n",
    "        real_time_storage = BigTable(\"Istorinių\\nduomenų saugykla\")\n",
    "        real_time_data_transfer = Endpoints(\"Atviri istoriniai duomenys\")\n",
    "\n",
    "    # noinspection PyStatementEffect\n",
    "    [\n",
    "        disruptions,\n",
    "        gps,\n",
    "        occupancy,\n",
    "        congestion,\n",
    "        vintra_satic_db,\n",
    "    ] >> vintra_realtime_db\n",
    "\n",
    "    vintra_realtime_db >> formats\n",
    "    vintra_realtime_db >> real_time_storage >> real_time_data_transfer\n",
    "\n",
    "d"
   ]
  },
  {
   "cell_type": "code",
   "execution_count": null,
   "metadata": {
    "pycharm": {
     "name": "#%%\n"
    }
   },
   "outputs": [],
   "source": [
    "with Diagram(\"VINTRA istorinių realaus laiko duomenų saugojimas ir atvėrimas kartu su IVPK\", show=False,\n",
    "             graph_attr=graph_attr) as d:\n",
    "    vintra_satic_db = SQL(\"VINTRA: statiniai duomenys\")\n",
    "    with Cluster(\"Dinaminių duomenų šaltiniai\"):\n",
    "        gps = IotCore(\"Realaus laiko\\ntransporto priemonių\\ngeografinė padėtis\")\n",
    "\n",
    "    vintra_realtime_db = Memorystore(\"VINTRA:\\nrealaus laiko\\nduomenys\")\n",
    "\n",
    "    with Cluster(\"Planuojama: dinaminių duomenų atvėrimas\"):\n",
    "        with Cluster(\"Standartizuoti dinaminių\\nduomenų formatai\"):\n",
    "            formats = [\n",
    "                AIHub(\"SIRI\"),\n",
    "                AIHub(\"GTFS Realtime\"),\n",
    "            ]\n",
    "\n",
    "    with Cluster(\"Planuojama: istorinių dinaminių duomenų saugojimas ir atvėrimas\"):\n",
    "        with Cluster(\"Informacinės visuomenės plėtros komitetas\"):\n",
    "            real_time_storage = BigTable(\"Istorinių\\nduomenų saugykla\")\n",
    "            real_time_data_transfer = Endpoints(\"Atviri istoriniai\\nduomenys\")\n",
    "\n",
    "    # noinspection PyStatementEffect\n",
    "    [\n",
    "        gps,\n",
    "        vintra_satic_db,\n",
    "    ] >> vintra_realtime_db\n",
    "\n",
    "    vintra_realtime_db >> formats\n",
    "    vintra_realtime_db >> real_time_storage >> real_time_data_transfer\n",
    "\n",
    "d"
   ]
  }
 ],
 "metadata": {
  "kernelspec": {
   "display_name": "Python 3",
   "language": "python",
   "name": "python3"
  },
  "language_info": {
   "codemirror_mode": {
    "name": "ipython",
    "version": 2
   },
   "file_extension": ".py",
   "mimetype": "text/x-python",
   "name": "python",
   "nbconvert_exporter": "python",
   "pygments_lexer": "ipython2",
   "version": "2.7.6"
  }
 },
 "nbformat": 4,
 "nbformat_minor": 0
}
