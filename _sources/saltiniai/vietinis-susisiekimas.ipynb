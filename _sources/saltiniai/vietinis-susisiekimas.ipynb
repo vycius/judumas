{
 "cells": [
  {
   "cell_type": "markdown",
   "metadata": {
    "pycharm": {
     "name": "#%% md\n"
    }
   },
   "source": [
    "# Vietinis reguliarusis susiekimas\n",
    "\n",
    "## Duomenų failai pagal savivaldybes\n",
    "```{admonition} 8 savivaldyvbių duomenys nėra pateikiami NeTEx formatu\n",
    ":class: warning\n",
    "\n",
    "NeTEx formatu nepateikiami 8 savivaldybių viešojo transporto kelionių duomenys (Alytaus, Biržų, Jurbarko, Kėdainių, Kelmės, Kupiškio, Mažeikių, Rokiškio, Vilniaus rajono savivaldybių). Dėl šios priežasties nėra galimybės naudoti šių savivaldybių viešojo transporto duomenų NeTEx formatu.\n",
    "```\n",
    "\n",
    "```{admonition} 3 savivaldyvbių duomenys nėra pateikiami GTFS formatu\n",
    ":class: warning\n",
    "\n",
    "GTFS formatu nepateikiami 3 savivaldybių viešojo transporto kelionių duomenys (Šakių, Širvintų, Telšių rajono savivaldybių). Dėl šios priežasties nėra galimybės naudoti šių savivaldybių viešojo transporto duomenų GTFS formatu.\n",
    "```\n",
    "\n",
    "| Savivaldybė                    | GTFS                                                                   | NeTEx                                                                         |\n",
    "|--------------------------------|------------------------------------------------------------------------|-------------------------------------------------------------------------------|\n",
    "| Akmenės rajono savivaldybė     | [akmene.zip](https://www.visimarsrutai.lt/gtfs/akmene.zip)             | [Akmenesraj.zip](https://www.visimarsrutai.lt/netex/Akmenesraj.zip)           |\n",
    "| Alytaus miesto savivaldybė     | [AlytausM.zip](https://www.visimarsrutai.lt/gtfs/AlytausM.zip)         | [Alytausm.zip](https://www.visimarsrutai.lt/netex/Alytausm.zip)               |\n",
    "| Alytaus rajono savivaldybė     | [AlytausR.zip](https://www.visimarsrutai.lt/gtfs/AlytausR.zip)         | ❌                                                                             |\n",
    "| Anykščių rajono savivaldybė    | [AnyksciuR.zip](https://www.visimarsrutai.lt/gtfs/AnyksciuR.zip)       | [Anyksciuraj.zip](https://www.visimarsrutai.lt/netex/Anyksciuraj.zip)         |\n",
    "| Birštono savivaldybė           | [Birstono.zip](https://www.visimarsrutai.lt/gtfs/Birstono.zip)         | [Birstonoraj.zip](https://www.visimarsrutai.lt/netex/Birstonoraj.zip)         |\n",
    "| Biržų rajono savivaldybė       | [BirzuR.zip](https://www.visimarsrutai.lt/gtfs/BirzuR.zip)             | ❌                                                                             |\n",
    "| Druskininkų savivaldybė        | [Druskininku.zip](https://www.visimarsrutai.lt/gtfs/Druskininku.zip)   | [Druskininkuraj.zip](https://www.visimarsrutai.lt/netex/Druskininkuraj.zip)   |\n",
    "| Elektrėnų savivaldybė          | [Elektrenu.zip](https://www.visimarsrutai.lt/gtfs/Elektrenu.zip)       | [Elektrenusav.zip](https://www.visimarsrutai.lt/netex/Elektrenusav.zip)       |\n",
    "| Ignalinos rajono savivaldybė   | [IgnalinosR.zip](https://www.visimarsrutai.lt/gtfs/IgnalinosR.zip)     | [Ignalinosraj.zip](https://www.visimarsrutai.lt/netex/Ignalinosraj.zip)       |\n",
    "| Jonavos rajono savivaldybė     | [JonavosR.zip](https://www.visimarsrutai.lt/gtfs/JonavosR.zip)         | [Jonavosraj.zip](https://www.visimarsrutai.lt/netex/Jonavosraj.zip)           |\n",
    "| Joniškio rajono savivaldybė    | [JoniskioR.zip](https://www.visimarsrutai.lt/gtfs/JoniskioR.zip)       | [Joniskioraj.zip](https://www.visimarsrutai.lt/netex/Joniskioraj.zip)         |\n",
    "| Jurbarko rajono savivaldybė    | [JurbarkoR.zip](https://www.visimarsrutai.lt/gtfs/JurbarkoR.zip)       | ❌                                                                             |\n",
    "| Kaišiadorių rajono savivaldybė | [KiasiadoriuR.zip](https://www.visimarsrutai.lt/gtfs/KiasiadoriuR.zip) | [Kaisiadoriuraj.zip](https://www.visimarsrutai.lt/netex/Kaisiadoriuraj.zip)   |\n",
    "| Kalvarijos savivaldybė         | [Kalvarijos.zip](https://www.visimarsrutai.lt/gtfs/Kalvarijos.zip)     | [Kalvarijosraj.zip](https://www.visimarsrutai.lt/netex/Kalvarijosraj.zip)     |\n",
    "| Kauno miesto savivaldybė       | [KaunoM.zip](https://www.visimarsrutai.lt/gtfs/KaunoM.zip)             | [Kaunom.zip](https://www.visimarsrutai.lt/netex/Kaunom.zip)                   |\n",
    "| Kauno rajono savivaldybė       | [KaunoR.zip](https://www.visimarsrutai.lt/gtfs/KaunoR.zip)             | [Kaunoraj.zip](https://www.visimarsrutai.lt/netex/Kaunoraj.zip)               |\n",
    "| Kazlų Rūdos savivaldybė        | [Kazlurudos.zip](https://www.visimarsrutai.lt/gtfs/Kazlurudos.zip)     | [Kazlurudosraj.zip](https://www.visimarsrutai.lt/netex/Kazlurudosraj.zip)     |\n",
    "| Kėdainių rajono savivaldybė    | [KedainiuR.zip](https://www.visimarsrutai.lt/gtfs/KedainiuR.zip)       | ❌                                                                             |\n",
    "| Kelmės rajono savivaldybė      | [KelmesR.zip](https://www.visimarsrutai.lt/gtfs/KelmesR.zip)           | ❌                                                                             |\n",
    "| Klaipėdos miesto savivaldybė   | [KlaipedosM.zip](https://www.visimarsrutai.lt/gtfs/KlaipedosM.zip)     | [Klaipedosm.zip](https://www.visimarsrutai.lt/netex/Klaipedosm.zip)           |\n",
    "| Klaipėdos rajono savivaldybė   | [KlaipedosR.zip](https://www.visimarsrutai.lt/gtfs/KlaipedosR.zip)     | [Klaipedosraj.zip](https://www.visimarsrutai.lt/netex/Klaipedosraj.zip)       |\n",
    "| Kretingos rajono savivaldybė   | [KretingosR.zip](https://www.visimarsrutai.lt/gtfs/KretingosR.zip)     | [Kretingosraj.zip](https://www.visimarsrutai.lt/netex/Kretingosraj.zip)       |\n",
    "| Kupiškio rajono savivaldybė    | [KupiskioR.zip](https://www.visimarsrutai.lt/gtfs/KupiskioR.zip)       | ❌                                                                             |\n",
    "| Lazdijų rajono savivaldybė     | [LazdijuR.zip](https://www.visimarsrutai.lt/gtfs/LazdijuR.zip)         | [Lazdijuraj.zip](https://www.visimarsrutai.lt/netex/Lazdijuraj.zip)           |\n",
    "| Marijampolės savivaldybė       | [Marijampoles.zip](https://www.visimarsrutai.lt/gtfs/Marijampoles.zip) | [Marijampolesraj.zip](https://www.visimarsrutai.lt/netex/Marijampolesraj.zip) |\n",
    "| Mažeikių rajono savivaldybė    | [MazeikiuR.zip](https://www.visimarsrutai.lt/gtfs/MazeikiuR.zip)       | ❌                                                                             |\n",
    "| Molėtų rajono savivaldybė      | [MoletuR.zip](https://www.visimarsrutai.lt/gtfs/MoletuR.zip)           | [Moleturaj.zip](https://www.visimarsrutai.lt/netex/Moleturaj.zip)             |\n",
    "| Neringos savivaldybė           | [neringa.zip](https://www.visimarsrutai.lt/gtfs/neringa.zip)           | [Neringosraj.zip](https://www.visimarsrutai.lt/netex/Neringosraj.zip)         |\n",
    "| Pagėgių savivaldybė            | [PagegiuR.zip](https://www.visimarsrutai.lt/gtfs/PagegiuR.zip)         | [Pagegiuraj.zip](https://www.visimarsrutai.lt/netex/Pagegiuraj.zip)           |\n",
    "| Pakruojo rajono savivaldybė    | [PakruojoR.zip](https://www.visimarsrutai.lt/gtfs/PakruojoR.zip)       | [Pakruojoraj.zip](https://www.visimarsrutai.lt/netex/Pakruojoraj.zip)         |\n",
    "| Palangos miesto savivaldybė    | [PalangosM.zip](https://www.visimarsrutai.lt/gtfs/PalangosM.zip)       | [Palangosm.zip](https://www.visimarsrutai.lt/netex/Palangosm.zip)             |\n",
    "| Panevėžio miesto savivaldybė   | [PanevezioM.zip](https://www.visimarsrutai.lt/gtfs/PanevezioM.zip)     | [Paneveziom.zip](https://www.visimarsrutai.lt/netex/Paneveziom.zip)           |\n",
    "| Panevėžio rajono savivaldybė   | [PanevezioR.zip](https://www.visimarsrutai.lt/gtfs/PanevezioR.zip)     | [Panevezioraj.zip](https://www.visimarsrutai.lt/netex/Panevezioraj.zip)       |\n",
    "| Pasvalio rajono savivaldybė    | [PasvalioR.zip](https://www.visimarsrutai.lt/gtfs/PasvalioR.zip)       | [Pasvalioraj.zip](https://www.visimarsrutai.lt/netex/Pasvalioraj.zip)         |\n",
    "| Plungės rajono savivaldybė     | [PlungesR.zip](https://www.visimarsrutai.lt/gtfs/PlungesR.zip)         | [Plungesraj.zip](https://www.visimarsrutai.lt/netex/Plungesraj.zip)           |\n",
    "| Prienų rajono savivaldybė      | [PrienuR.zip](https://www.visimarsrutai.lt/gtfs/PrienuR.zip)           | [Prienuraj.zip](https://www.visimarsrutai.lt/netex/Prienuraj.zip)             |\n",
    "| Radviliškio rajono savivaldybė | [RadviliskioR.zip](https://www.visimarsrutai.lt/gtfs/RadviliskioR.zip) | [Radviliskioraj.zip](https://www.visimarsrutai.lt/netex/Radviliskioraj.zip)   |\n",
    "| Raseinių rajono savivaldybė    | [RaseiniuR.zip](https://www.visimarsrutai.lt/gtfs/RaseiniuR.zip)       | [Raseiniuraj.zip](https://www.visimarsrutai.lt/netex/Raseiniuraj.zip)         |\n",
    "| Rietavo savivaldybė            | [Rietavo.zip](https://www.visimarsrutai.lt/gtfs/Rietavo.zip)           | [Rietavoraj.zip](https://www.visimarsrutai.lt/netex/Rietavoraj.zip)           |\n",
    "| Rokiškio rajono savivaldybė    | [RokiskioR.zip](https://www.visimarsrutai.lt/gtfs/RokiskioR.zip)       | ❌                                                                             |\n",
    "| Šakių rajono savivaldybė       | ❌                                                                      | [Sakiuraj.zip](https://www.visimarsrutai.lt/netex/Sakiuraj.zip)               |\n",
    "| Šalčininkų rajono savivaldybė  | [SalcininkuR.zip](https://www.visimarsrutai.lt/gtfs/SalcininkuR.zip)   | [Salcininkuraj.zip](https://www.visimarsrutai.lt/netex/Salcininkuraj.zip)     |\n",
    "| Šiaulių miesto savivaldybė     | [SiauliuM.zip](https://www.visimarsrutai.lt/gtfs/SiauliuM.zip)         | [Siaulium.zip](https://www.visimarsrutai.lt/netex/Siaulium.zip)               |\n",
    "| Šiaulių rajono savivaldybė     | [SiauliuR.zip](https://www.visimarsrutai.lt/gtfs/SiauliuR.zip)         | [Siauliuraj.zip](https://www.visimarsrutai.lt/netex/Siauliuraj.zip)           |\n",
    "| Šilalės rajono savivaldybė     | [SilalesR.zip](https://www.visimarsrutai.lt/gtfs/SilalesR.zip)         | [Silalesraj.zip](https://www.visimarsrutai.lt/netex/Silalesraj.zip)           |\n",
    "| Šilutės rajono savivaldybė     | [SilutesR.zip](https://www.visimarsrutai.lt/gtfs/SilutesR.zip)         | [Silutesraj.zip](https://www.visimarsrutai.lt/netex/Silutesraj.zip)           |\n",
    "| Širvintų rajono savivaldybė    | ❌                                                                      | [Sirvinturaj.zip](https://www.visimarsrutai.lt/netex/Sirvinturaj.zip)         |\n",
    "| Skuodo rajono savivaldybė      | [SkuodoR.zip](https://www.visimarsrutai.lt/gtfs/SkuodoR.zip)           | [Skuodoraj.zip](https://www.visimarsrutai.lt/netex/Skuodoraj.zip)             |\n",
    "| Švenčionių rajono savivaldybė  | [SvencioniuR.zip](https://www.visimarsrutai.lt/gtfs/SvencioniuR.zip)   | [Svencioniuraj.zip](https://www.visimarsrutai.lt/netex/Svencioniuraj.zip)     |\n",
    "| Tauragės rajono savivaldybė    | [TauragesR.zip](https://www.visimarsrutai.lt/gtfs/TauragesR.zip)       | [Tauragesraj.zip](https://www.visimarsrutai.lt/netex/Tauragesraj.zip)         |\n",
    "| Telšių rajono savivaldybė      | ❌                                                                      | [Telsiuraj.zip](https://www.visimarsrutai.lt/netex/Telsiuraj.zip)             |\n",
    "| Trakų rajono savivaldybė       | [TrakuR.zip](https://www.visimarsrutai.lt/gtfs/TrakuR.zip)             | [Trakuraj.zip](https://www.visimarsrutai.lt/netex/Trakuraj.zip)               |\n",
    "| Ukmergės rajono savivaldybė    | [UkmergesR.zip](https://www.visimarsrutai.lt/gtfs/UkmergesR.zip)       | [Ukmergesraj.zip](https://www.visimarsrutai.lt/netex/Ukmergesraj.zip)         |\n",
    "| Utenos rajono savivaldybė      | [UtenosR.zip](https://www.visimarsrutai.lt/gtfs/UtenosR.zip)           | [Utenosraj.zip](https://www.visimarsrutai.lt/netex/Utenosraj.zip)             |\n",
    "| Varėnos rajono savivaldybė     | [VarenosR.zip](https://www.visimarsrutai.lt/gtfs/VarenosR.zip)         | [Varenosraj.zip](https://www.visimarsrutai.lt/netex/Varenosraj.zip)           |\n",
    "| Vilkaviškio rajono savivaldybė | [VilkaviskioR.zip](https://www.visimarsrutai.lt/gtfs/VilkaviskioR.zip) | [Vilkaviskioraj.zip](https://www.visimarsrutai.lt/netex/Vilkaviskioraj.zip)   |\n",
    "| Vilniaus miesto savivaldybė    | [VilniausM.zip](https://www.visimarsrutai.lt/gtfs/VilniausM.zip)       | [Vilniausm.zip](https://www.visimarsrutai.lt/netex/Vilniausm.zip)             |\n",
    "| Vilniaus rajono savivaldybė    | [VilniausR.zip](https://www.visimarsrutai.lt/gtfs/VilniausR.zip)       | ❌                                                                             |\n",
    "| Visagino savivaldybė           | [VisaginoM.zip](https://www.visimarsrutai.lt/gtfs/VisaginoM.zip)       | [Visaginoraj.zip](https://www.visimarsrutai.lt/netex/Visaginoraj.zip)         |\n",
    "| Zarasų rajono savivaldybė      | [ZarasuR.zip](https://www.visimarsrutai.lt/gtfs/ZarasuR.zip)           | [Zarasuraj.zip](https://www.visimarsrutai.lt/netex/Zarasuraj.zip)             |"
   ]
  },
  {
   "cell_type": "code",
   "execution_count": null,
   "metadata": {
    "pycharm": {
     "name": "#%%\n"
    }
   },
   "outputs": [],
   "source": [
    "import json\n",
    "import os\n",
    "from zipfile import ZipFile\n",
    "\n",
    "import pandas as pd\n",
    "import plotly.express as px\n",
    "import requests\n",
    "\n",
    "working_directory = f'{os.getcwd()}/../data/saltiniai/vintra/'\n",
    "gtfs_files_directory = os.path.join(working_directory, 'gtfs')\n",
    "netex_directory = os.path.join(working_directory, 'netex')\n",
    "\n",
    "mapbox_access_token = open(\"../.mapbox_token\").read()\n",
    "px.set_mapbox_access_token(mapbox_access_token)\n",
    "\n",
    "lithuania_center = {'lat': 55.169438, 'lon': 23.881275}\n",
    "\n",
    "municipalities_gtfs_file_mapping = pd.read_csv(\n",
    "    os.path.join(working_directory, 'vintra-gtfs-file-mapping.csv'),\n",
    "    na_filter=False)\n",
    "vintra_netex_mapping = pd.read_csv(os.path.join(working_directory, 'vintra-netex-file-mapping.csv'), na_filter=False)\n"
   ]
  },
  {
   "cell_type": "code",
   "execution_count": null,
   "metadata": {
    "pycharm": {
     "name": "#%%\n"
    }
   },
   "outputs": [],
   "source": [
    "# municipalities_files_mapping = pd.merge(municipalities_gtfs_file_mapping, vintra_netex_mapping, on='Savivaldybe',\n",
    "#                                         suffixes=('_gtfs', '_netex'), sort='Savivaldybe')\n",
    "#\n",
    "# municipalities_files_mapping['gtfs'] = municipalities_files_mapping['Failas_gtfs'].apply(\n",
    "#     lambda x: f'[{x}](https://www.visimarsrutai.lt/gtfs/{x})')\n",
    "#\n",
    "# municipalities_files_mapping['netex'] = municipalities_files_mapping['Failas_netex'].apply(\n",
    "#     lambda x: f'[{x}](https://www.visimarsrutai.lt/netex/{x})')\n",
    "#\n",
    "# municipalities_files_mapping.to_excel('data-files.xlsx')\n",
    "# # municipalities_gtfs_file_mapping['gtfs'] = municipalities_gtfs_file_mapping['Failas'].apply(\n",
    "# #     lambda x: f'[{x}](https://www.visimarsrutai.lt/gtfs/{x})')\n",
    "# #\n",
    "# # municipalities_gtfs_file_mapping.sort_values('Savivaldybe').to_excel('gtfs.xlsx')"
   ]
  }
 ],
 "metadata": {
  "kernelspec": {
   "display_name": "Python 3",
   "language": "python",
   "name": "python3"
  },
  "language_info": {
   "codemirror_mode": {
    "name": "ipython",
    "version": 2
   },
   "file_extension": ".py",
   "mimetype": "text/x-python",
   "name": "python",
   "nbconvert_exporter": "python",
   "pygments_lexer": "ipython2",
   "version": "2.7.6"
  }
 },
 "nbformat": 4,
 "nbformat_minor": 0
}
