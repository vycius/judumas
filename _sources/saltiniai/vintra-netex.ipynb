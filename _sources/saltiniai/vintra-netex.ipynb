{
 "cells": [
  {
   "cell_type": "markdown",
   "metadata": {
    "pycharm": {
     "name": "#%% md\n"
    }
   },
   "source": [
    "# NeTEx\n",
    "\n",
    "```{admonition} Ne visų savivaldyvbių duomenys pateikiami NeTEx formatu\n",
    ":class: warning\n",
    "\n",
    "NeTEx formatu pateikiami tik 8 Lietuvos savivaldybių viešojo transporto statiniai duomenys.\n",
    "```"
   ]
  }
 ],
 "metadata": {
  "kernelspec": {
   "display_name": "Python 3",
   "language": "python",
   "name": "python3"
  },
  "language_info": {
   "codemirror_mode": {
    "name": "ipython",
    "version": 2
   },
   "file_extension": ".py",
   "mimetype": "text/x-python",
   "name": "python",
   "nbconvert_exporter": "python",
   "pygments_lexer": "ipython2",
   "version": "2.7.6"
  }
 },
 "nbformat": 4,
 "nbformat_minor": 0
}
