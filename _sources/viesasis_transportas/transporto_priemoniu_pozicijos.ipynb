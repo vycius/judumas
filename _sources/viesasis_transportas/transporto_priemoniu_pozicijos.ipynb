{
 "cells": [
  {
   "cell_type": "markdown",
   "metadata": {
    "collapsed": true,
    "pycharm": {
     "name": "#%% md\n"
    }
   },
   "source": [
    "# Transporto priemonių pozicijos\n",
    "\n",
    "Šiuo metu Lietuvoje informacija apie viešojo transporto priemonių pozicijas atvirų duomenų pavidalu prieinama 4 Lietuvos miestuose.\n",
    "\n",
    "| Miestas      | Realaus laiko duomenų .csv formatu nuoroda |\n",
    "|--------------|--------------------------------------------|\n",
    "| Vilnius      | https://www.stops.lt/vilnius/gps_full.txt  |\n",
    "| Kaunas       | https://www.stops.lt/kaunas/gps_full.txt   |\n",
    "| Klaipėda     | https://www.stops.lt/klaipeda/gps_full.txt |\n",
    "| Šiauliai     | https://kis.busturas.lt:4431               |\n",
    "| Panevėžys    | https://www.stops.lt/panevezys/gps.txt     |\n",
    "| Alytus       | https://www.stops.lt/alytus/gps.txt        |\n",
    "| Druskininkai | https://www.stops.lt/druskininkai/gps.txt  |\n",
    "\n",
    "\n",
    "```{admonition} Nestandartinio formato naudojimas\n",
    ":class: warning\n",
    "Realaus laiko transporto priemonių pozicijų duomenys pateikiami nestandartizuotu formatu dėl šios priežasties nėra galimybės juos integruoti į jau egzistuojančias priemones pvz., Google Maps.\n",
    "```\n",
    "\n",
    "```{admonition} Duomenų licenzijos nepateikimas\n",
    ":class: warning\n",
    "Nepateikiama duomenų naudojimo licenzija dėl šios priežasties nėra aišku, ką duomenų naudotojai gali ir ko negali daryti su duomenimis.\n",
    "```\n",
    "\n",
    "```{admonition} Nepateikiami metaduomenys\n",
    ":class: warning\n",
    "Nepateikiami metaduomenys dėl to duomenų naudotojas priverstas spėlioti kokia yra duomenų struktūra, stulpelių reikmės ir kokiais atvejais duomenų gali trūkti.\n",
    "```\n",
    "\n",
    "```{admonition} Skirtingų duomenų formatų pateikimas\n",
    ":class: warning\n",
    "Pateikiami miestų duomenys skiriasi savo formatu ir pateikia skirtinga informaciją (pvz., Vilniuje pateikiamas reisoID, Kaune ne) dėl to organizacijai norinčiai naudoti duomenis reikia skirtingai apdoroti kiekvieno miesto duomenis.\n",
    "```"
   ]
  },
  {
   "cell_type": "markdown",
   "source": [
    "## Duomenų pavyzdžiai\n",
    "### Vilnius\n",
    "\n",
    "```{admonition} Pateikiamas reiso identifikatorius nesisieja su GTFS duomenimis\n",
    ":class: warning\n",
    "Realaus laiko transporto priemonių pozicijų duomenys pateikiami nestandartizuotu formatu dėl šios priežasties nėra galimybės juos integruoti į jau egzistuojančias priemones pvz., Google Maps.\n",
    "```"
   ],
   "metadata": {
    "collapsed": false
   }
  },
  {
   "cell_type": "code",
   "execution_count": 11,
   "outputs": [
    {
     "data": {
      "text/plain": "    Transportas Marsrutas      ReisoID MasinosNumeris    Ilguma   Platuma  \\\n0     Autobusai         1  17336931635        2-17161  25276578  54650030   \n1     Autobusai        4G  17343831627           8006  25315128  54712690   \n2     Autobusai        24  17337251550           4008  25241360  54739938   \n3     Autobusai        61  17136211625           7018  25303028  54654858   \n4     Autobusai        87  16663191548           4515  25271540  54769358   \n..          ...       ...          ...            ...       ...       ...   \n563   Autobusai         7  17375281605           8008  25274528  54712710   \n564   Autobusai        49  17180991537            729  25266030  54734920   \n565   Autobusai        49  17180991537            729  25266030  54734920   \n566   Autobusai        4G  17343901625        2-26512  25209218  54700090   \n567   Autobusai        89  17375111600           4550  25288308  54694330   \n\n     Greitis  Azimutas  ReisoPradziaMinutemis  NuokrypisSekundemis  \\\n0         14         4                    995                   18   \n1          9       194                    987                   59   \n2          0       146                    950                    0   \n3          0       354                    985                  -52   \n4         42       180                    948                  -27   \n..       ...       ...                    ...                  ...   \n563        0        90                    965                  394   \n564       43       354                    937                    0   \n565       43       354                    937                    0   \n566       36       112                    985                  -76   \n567        2       344                    960                  -92   \n\n     MatavimoLaikas MasinosTipas  Unnamed: 12  \n0             59826          NaN          NaN  \n1             59837         KWNZ          NaN  \n2             59765            Z          NaN  \n3             59650         KWNZ          NaN  \n4             59540         KWNZ          NaN  \n..              ...          ...          ...  \n563           59832         KWNZ          NaN  \n564           59706           KZ          NaN  \n565           59706           KZ          NaN  \n566           59596          NaN          NaN  \n567           59654         KWNZ          NaN  \n\n[568 rows x 13 columns]",
      "text/html": "<div>\n<style scoped>\n    .dataframe tbody tr th:only-of-type {\n        vertical-align: middle;\n    }\n\n    .dataframe tbody tr th {\n        vertical-align: top;\n    }\n\n    .dataframe thead th {\n        text-align: right;\n    }\n</style>\n<table border=\"1\" class=\"dataframe\">\n  <thead>\n    <tr style=\"text-align: right;\">\n      <th></th>\n      <th>Transportas</th>\n      <th>Marsrutas</th>\n      <th>ReisoID</th>\n      <th>MasinosNumeris</th>\n      <th>Ilguma</th>\n      <th>Platuma</th>\n      <th>Greitis</th>\n      <th>Azimutas</th>\n      <th>ReisoPradziaMinutemis</th>\n      <th>NuokrypisSekundemis</th>\n      <th>MatavimoLaikas</th>\n      <th>MasinosTipas</th>\n      <th>Unnamed: 12</th>\n    </tr>\n  </thead>\n  <tbody>\n    <tr>\n      <th>0</th>\n      <td>Autobusai</td>\n      <td>1</td>\n      <td>17336931635</td>\n      <td>2-17161</td>\n      <td>25276578</td>\n      <td>54650030</td>\n      <td>14</td>\n      <td>4</td>\n      <td>995</td>\n      <td>18</td>\n      <td>59826</td>\n      <td>NaN</td>\n      <td>NaN</td>\n    </tr>\n    <tr>\n      <th>1</th>\n      <td>Autobusai</td>\n      <td>4G</td>\n      <td>17343831627</td>\n      <td>8006</td>\n      <td>25315128</td>\n      <td>54712690</td>\n      <td>9</td>\n      <td>194</td>\n      <td>987</td>\n      <td>59</td>\n      <td>59837</td>\n      <td>KWNZ</td>\n      <td>NaN</td>\n    </tr>\n    <tr>\n      <th>2</th>\n      <td>Autobusai</td>\n      <td>24</td>\n      <td>17337251550</td>\n      <td>4008</td>\n      <td>25241360</td>\n      <td>54739938</td>\n      <td>0</td>\n      <td>146</td>\n      <td>950</td>\n      <td>0</td>\n      <td>59765</td>\n      <td>Z</td>\n      <td>NaN</td>\n    </tr>\n    <tr>\n      <th>3</th>\n      <td>Autobusai</td>\n      <td>61</td>\n      <td>17136211625</td>\n      <td>7018</td>\n      <td>25303028</td>\n      <td>54654858</td>\n      <td>0</td>\n      <td>354</td>\n      <td>985</td>\n      <td>-52</td>\n      <td>59650</td>\n      <td>KWNZ</td>\n      <td>NaN</td>\n    </tr>\n    <tr>\n      <th>4</th>\n      <td>Autobusai</td>\n      <td>87</td>\n      <td>16663191548</td>\n      <td>4515</td>\n      <td>25271540</td>\n      <td>54769358</td>\n      <td>42</td>\n      <td>180</td>\n      <td>948</td>\n      <td>-27</td>\n      <td>59540</td>\n      <td>KWNZ</td>\n      <td>NaN</td>\n    </tr>\n    <tr>\n      <th>...</th>\n      <td>...</td>\n      <td>...</td>\n      <td>...</td>\n      <td>...</td>\n      <td>...</td>\n      <td>...</td>\n      <td>...</td>\n      <td>...</td>\n      <td>...</td>\n      <td>...</td>\n      <td>...</td>\n      <td>...</td>\n      <td>...</td>\n    </tr>\n    <tr>\n      <th>563</th>\n      <td>Autobusai</td>\n      <td>7</td>\n      <td>17375281605</td>\n      <td>8008</td>\n      <td>25274528</td>\n      <td>54712710</td>\n      <td>0</td>\n      <td>90</td>\n      <td>965</td>\n      <td>394</td>\n      <td>59832</td>\n      <td>KWNZ</td>\n      <td>NaN</td>\n    </tr>\n    <tr>\n      <th>564</th>\n      <td>Autobusai</td>\n      <td>49</td>\n      <td>17180991537</td>\n      <td>729</td>\n      <td>25266030</td>\n      <td>54734920</td>\n      <td>43</td>\n      <td>354</td>\n      <td>937</td>\n      <td>0</td>\n      <td>59706</td>\n      <td>KZ</td>\n      <td>NaN</td>\n    </tr>\n    <tr>\n      <th>565</th>\n      <td>Autobusai</td>\n      <td>49</td>\n      <td>17180991537</td>\n      <td>729</td>\n      <td>25266030</td>\n      <td>54734920</td>\n      <td>43</td>\n      <td>354</td>\n      <td>937</td>\n      <td>0</td>\n      <td>59706</td>\n      <td>KZ</td>\n      <td>NaN</td>\n    </tr>\n    <tr>\n      <th>566</th>\n      <td>Autobusai</td>\n      <td>4G</td>\n      <td>17343901625</td>\n      <td>2-26512</td>\n      <td>25209218</td>\n      <td>54700090</td>\n      <td>36</td>\n      <td>112</td>\n      <td>985</td>\n      <td>-76</td>\n      <td>59596</td>\n      <td>NaN</td>\n      <td>NaN</td>\n    </tr>\n    <tr>\n      <th>567</th>\n      <td>Autobusai</td>\n      <td>89</td>\n      <td>17375111600</td>\n      <td>4550</td>\n      <td>25288308</td>\n      <td>54694330</td>\n      <td>2</td>\n      <td>344</td>\n      <td>960</td>\n      <td>-92</td>\n      <td>59654</td>\n      <td>KWNZ</td>\n      <td>NaN</td>\n    </tr>\n  </tbody>\n</table>\n<p>568 rows × 13 columns</p>\n</div>"
     },
     "execution_count": 11,
     "metadata": {},
     "output_type": "execute_result"
    }
   ],
   "source": [
    "import pandas as pd\n",
    "\n",
    "vilnius_gps_df = pd.read_csv(\n",
    "    '../data/vehicle_positions/vilnius_gps_full.csv',\n",
    "    dtype={\n",
    "        'Transportas': pd.CategoricalDtype(),\n",
    "        'Marsrutas': pd.StringDtype(),\n",
    "        'ReisoID': pd.StringDtype(),\n",
    "        'MasinosNumeris': pd.StringDtype(),\n",
    "        'Ilguma': pd.Int64Dtype(),\n",
    "        'Platuma': pd.Int64Dtype(),\n",
    "        'Greitis': pd.Int64Dtype(),\n",
    "        'Azimutas': pd.Int64Dtype(),\n",
    "        'ReisoPradziaMinutemis': pd.Int64Dtype(),\n",
    "        'NuokrypisSekundemis': pd.Int64Dtype(),\n",
    "        'MatavimoLaikas': pd.Int64Dtype(),\n",
    "        'MasinosTipas': pd.CategoricalDtype(),\n",
    "    })\n",
    "vilnius_gps_df"
   ],
   "metadata": {
    "collapsed": false,
    "pycharm": {
     "name": "#%%\n"
    }
   }
  },
  {
   "cell_type": "code",
   "execution_count": null,
   "outputs": [],
   "source": [
    "### Kaunas"
   ],
   "metadata": {
    "collapsed": false,
    "pycharm": {
     "name": "#%%\n"
    }
   }
  },
  {
   "cell_type": "code",
   "execution_count": 13,
   "outputs": [
    {
     "data": {
      "text/plain": "     Transportas Marsrutas Grafikas MasinosNumeris    Ilguma   Platuma  \\\n0    Troleibusai        14    14-02            102  23941805  54933682   \n1    Troleibusai        14    14-01            105  23942775  54929157   \n2    Troleibusai        14    14-10            128  23929555  54933907   \n3    Troleibusai        14    14-09             20  23956857  54897992   \n4    Troleibusai        14    14-11              3  23970112  54918830   \n..           ...       ...      ...            ...       ...       ...   \n280    Autobusai       29G   29G-02           2900  23921118  54898742   \n281    Autobusai        32    32-01           2917  23788937  54884380   \n282    Autobusai        31    31-02           2938  23865552  54856858   \n283    Autobusai        31    31-03           2984  23891237  54938383   \n284    Autobusai        31    31-01           2995  23896220  54896233   \n\n     Greitis  Azimutas  ReisoPradziaMinutemis  NuokrypisSekundemis  \\\n0         23       266                   1007                   40   \n1         34       180                    998                   50   \n2         29        96                    968                  -49   \n3          5       252                    978                   -1   \n4         11       204                    988                   20   \n..       ...       ...                    ...                  ...   \n280        0        92                    965                  219   \n281        0        58                   1006                    0   \n282        0        94                    944                    0   \n283        0       112                    935                    0   \n284       14         0                    978                    1   \n\n    SekanciosStotelesNum  AtvykimoLaikasSekundemis  Unnamed: 12  \n0                    121                     60581          NaN  \n1                    508                     60531          NaN  \n2                    812                     60491          NaN  \n3                    373                     60659          NaN  \n4                    452                     60560          NaN  \n..                   ...                       ...          ...  \n280                 1004                     60640          NaN  \n281                  637                     60481          NaN  \n282                  807                     60720          NaN  \n283                  750                     60552          NaN  \n284                  560                     60662          NaN  \n\n[285 rows x 13 columns]",
      "text/html": "<div>\n<style scoped>\n    .dataframe tbody tr th:only-of-type {\n        vertical-align: middle;\n    }\n\n    .dataframe tbody tr th {\n        vertical-align: top;\n    }\n\n    .dataframe thead th {\n        text-align: right;\n    }\n</style>\n<table border=\"1\" class=\"dataframe\">\n  <thead>\n    <tr style=\"text-align: right;\">\n      <th></th>\n      <th>Transportas</th>\n      <th>Marsrutas</th>\n      <th>Grafikas</th>\n      <th>MasinosNumeris</th>\n      <th>Ilguma</th>\n      <th>Platuma</th>\n      <th>Greitis</th>\n      <th>Azimutas</th>\n      <th>ReisoPradziaMinutemis</th>\n      <th>NuokrypisSekundemis</th>\n      <th>SekanciosStotelesNum</th>\n      <th>AtvykimoLaikasSekundemis</th>\n      <th>Unnamed: 12</th>\n    </tr>\n  </thead>\n  <tbody>\n    <tr>\n      <th>0</th>\n      <td>Troleibusai</td>\n      <td>14</td>\n      <td>14-02</td>\n      <td>102</td>\n      <td>23941805</td>\n      <td>54933682</td>\n      <td>23</td>\n      <td>266</td>\n      <td>1007</td>\n      <td>40</td>\n      <td>121</td>\n      <td>60581</td>\n      <td>NaN</td>\n    </tr>\n    <tr>\n      <th>1</th>\n      <td>Troleibusai</td>\n      <td>14</td>\n      <td>14-01</td>\n      <td>105</td>\n      <td>23942775</td>\n      <td>54929157</td>\n      <td>34</td>\n      <td>180</td>\n      <td>998</td>\n      <td>50</td>\n      <td>508</td>\n      <td>60531</td>\n      <td>NaN</td>\n    </tr>\n    <tr>\n      <th>2</th>\n      <td>Troleibusai</td>\n      <td>14</td>\n      <td>14-10</td>\n      <td>128</td>\n      <td>23929555</td>\n      <td>54933907</td>\n      <td>29</td>\n      <td>96</td>\n      <td>968</td>\n      <td>-49</td>\n      <td>812</td>\n      <td>60491</td>\n      <td>NaN</td>\n    </tr>\n    <tr>\n      <th>3</th>\n      <td>Troleibusai</td>\n      <td>14</td>\n      <td>14-09</td>\n      <td>20</td>\n      <td>23956857</td>\n      <td>54897992</td>\n      <td>5</td>\n      <td>252</td>\n      <td>978</td>\n      <td>-1</td>\n      <td>373</td>\n      <td>60659</td>\n      <td>NaN</td>\n    </tr>\n    <tr>\n      <th>4</th>\n      <td>Troleibusai</td>\n      <td>14</td>\n      <td>14-11</td>\n      <td>3</td>\n      <td>23970112</td>\n      <td>54918830</td>\n      <td>11</td>\n      <td>204</td>\n      <td>988</td>\n      <td>20</td>\n      <td>452</td>\n      <td>60560</td>\n      <td>NaN</td>\n    </tr>\n    <tr>\n      <th>...</th>\n      <td>...</td>\n      <td>...</td>\n      <td>...</td>\n      <td>...</td>\n      <td>...</td>\n      <td>...</td>\n      <td>...</td>\n      <td>...</td>\n      <td>...</td>\n      <td>...</td>\n      <td>...</td>\n      <td>...</td>\n      <td>...</td>\n    </tr>\n    <tr>\n      <th>280</th>\n      <td>Autobusai</td>\n      <td>29G</td>\n      <td>29G-02</td>\n      <td>2900</td>\n      <td>23921118</td>\n      <td>54898742</td>\n      <td>0</td>\n      <td>92</td>\n      <td>965</td>\n      <td>219</td>\n      <td>1004</td>\n      <td>60640</td>\n      <td>NaN</td>\n    </tr>\n    <tr>\n      <th>281</th>\n      <td>Autobusai</td>\n      <td>32</td>\n      <td>32-01</td>\n      <td>2917</td>\n      <td>23788937</td>\n      <td>54884380</td>\n      <td>0</td>\n      <td>58</td>\n      <td>1006</td>\n      <td>0</td>\n      <td>637</td>\n      <td>60481</td>\n      <td>NaN</td>\n    </tr>\n    <tr>\n      <th>282</th>\n      <td>Autobusai</td>\n      <td>31</td>\n      <td>31-02</td>\n      <td>2938</td>\n      <td>23865552</td>\n      <td>54856858</td>\n      <td>0</td>\n      <td>94</td>\n      <td>944</td>\n      <td>0</td>\n      <td>807</td>\n      <td>60720</td>\n      <td>NaN</td>\n    </tr>\n    <tr>\n      <th>283</th>\n      <td>Autobusai</td>\n      <td>31</td>\n      <td>31-03</td>\n      <td>2984</td>\n      <td>23891237</td>\n      <td>54938383</td>\n      <td>0</td>\n      <td>112</td>\n      <td>935</td>\n      <td>0</td>\n      <td>750</td>\n      <td>60552</td>\n      <td>NaN</td>\n    </tr>\n    <tr>\n      <th>284</th>\n      <td>Autobusai</td>\n      <td>31</td>\n      <td>31-01</td>\n      <td>2995</td>\n      <td>23896220</td>\n      <td>54896233</td>\n      <td>14</td>\n      <td>0</td>\n      <td>978</td>\n      <td>1</td>\n      <td>560</td>\n      <td>60662</td>\n      <td>NaN</td>\n    </tr>\n  </tbody>\n</table>\n<p>285 rows × 13 columns</p>\n</div>"
     },
     "execution_count": 13,
     "metadata": {},
     "output_type": "execute_result"
    }
   ],
   "source": [
    "kaunas_gps_df = pd.read_csv(\n",
    "    '../data/vehicle_positions/kaunas_gps_full.csv',\n",
    "    dtype={\n",
    "        'Transportas': pd.CategoricalDtype(),\n",
    "        'Marsrutas': pd.StringDtype(),\n",
    "        'ReisoID': pd.StringDtype(),\n",
    "        'MasinosNumeris': pd.StringDtype(),\n",
    "        'Ilguma': pd.Int64Dtype(),\n",
    "        'Platuma': pd.Int64Dtype(),\n",
    "        'Greitis': pd.Int64Dtype(),\n",
    "        'Azimutas': pd.Int64Dtype(),\n",
    "        'AtvykimoLaikasSekundemis': pd.Int64Dtype(),\n",
    "        'ReisoPradziaMinutemis': pd.Int64Dtype(),\n",
    "        'NuokrypisSekundemis': pd.Int64Dtype(),\n",
    "        'MatavimoLaikas': pd.Int64Dtype(),\n",
    "        'MasinosTipas': pd.CategoricalDtype(),\n",
    "    })\n",
    "kaunas_gps_df"
   ],
   "metadata": {
    "collapsed": false,
    "pycharm": {
     "name": "#%%\n"
    }
   }
  },
  {
   "cell_type": "markdown",
   "source": [
    "### Klaipėda"
   ],
   "metadata": {
    "collapsed": false,
    "pycharm": {
     "name": "#%% md\n"
    }
   }
  },
  {
   "cell_type": "markdown",
   "source": [],
   "metadata": {
    "collapsed": false
   }
  },
  {
   "cell_type": "code",
   "execution_count": 15,
   "outputs": [
    {
     "data": {
      "text/plain": "    Transportas Marsrutas     ReisoID MasinosNumeris    Ilguma   Platuma  \\\n0     Autobusai        M5  2963791711       509 kwmt  21182356  55687912   \n1     Autobusai        M5  2963761644       515 kwmt  21194124  55661380   \n2     Autobusai        M5  2963751655       521 kwmt  21126566  55719572   \n3     Autobusai        M5  2963781717       513 kwmt  21132210  55731936   \n4     Autobusai        M5  2963771701       517 kwmt  21164460  55698924   \n..          ...       ...         ...            ...       ...       ...   \n153   Autobusai        29  3927871720        78 kwmt  21174712  55665456   \n154   Autobusai        6A        <NA>     MDS 073 wt  21201450  55720704   \n155   Autobusai        6A  3928261710      HMP 076 t  21131484  55711940   \n156   Autobusai        6A  3928241634      JTE 338 t  21201826  55662112   \n157   Autobusai        6A  3928251650       HJP 264   21136638  55708092   \n\n     Greitis  Azimutas  ReisoPradziaMinutemis  NuokrypisSekundemis  \\\n0         44       338                   1031                   79   \n1          0       162                   1004                    0   \n2         46       340                   1015                   18   \n3         42       182                   1037                   78   \n4         42        54                   1021                   -2   \n..       ...       ...                    ...                  ...   \n153       23       340                   1040                   14   \n154        0        84                   <NA>                 <NA>   \n155       11       162                   1030                  178   \n156        0       340                    994                    0   \n157       13       312                   1010                  173   \n\n     Unnamed: 10  \n0            NaN  \n1            NaN  \n2            NaN  \n3            NaN  \n4            NaN  \n..           ...  \n153          NaN  \n154          NaN  \n155          NaN  \n156          NaN  \n157          NaN  \n\n[158 rows x 11 columns]",
      "text/html": "<div>\n<style scoped>\n    .dataframe tbody tr th:only-of-type {\n        vertical-align: middle;\n    }\n\n    .dataframe tbody tr th {\n        vertical-align: top;\n    }\n\n    .dataframe thead th {\n        text-align: right;\n    }\n</style>\n<table border=\"1\" class=\"dataframe\">\n  <thead>\n    <tr style=\"text-align: right;\">\n      <th></th>\n      <th>Transportas</th>\n      <th>Marsrutas</th>\n      <th>ReisoID</th>\n      <th>MasinosNumeris</th>\n      <th>Ilguma</th>\n      <th>Platuma</th>\n      <th>Greitis</th>\n      <th>Azimutas</th>\n      <th>ReisoPradziaMinutemis</th>\n      <th>NuokrypisSekundemis</th>\n      <th>Unnamed: 10</th>\n    </tr>\n  </thead>\n  <tbody>\n    <tr>\n      <th>0</th>\n      <td>Autobusai</td>\n      <td>M5</td>\n      <td>2963791711</td>\n      <td>509 kwmt</td>\n      <td>21182356</td>\n      <td>55687912</td>\n      <td>44</td>\n      <td>338</td>\n      <td>1031</td>\n      <td>79</td>\n      <td>NaN</td>\n    </tr>\n    <tr>\n      <th>1</th>\n      <td>Autobusai</td>\n      <td>M5</td>\n      <td>2963761644</td>\n      <td>515 kwmt</td>\n      <td>21194124</td>\n      <td>55661380</td>\n      <td>0</td>\n      <td>162</td>\n      <td>1004</td>\n      <td>0</td>\n      <td>NaN</td>\n    </tr>\n    <tr>\n      <th>2</th>\n      <td>Autobusai</td>\n      <td>M5</td>\n      <td>2963751655</td>\n      <td>521 kwmt</td>\n      <td>21126566</td>\n      <td>55719572</td>\n      <td>46</td>\n      <td>340</td>\n      <td>1015</td>\n      <td>18</td>\n      <td>NaN</td>\n    </tr>\n    <tr>\n      <th>3</th>\n      <td>Autobusai</td>\n      <td>M5</td>\n      <td>2963781717</td>\n      <td>513 kwmt</td>\n      <td>21132210</td>\n      <td>55731936</td>\n      <td>42</td>\n      <td>182</td>\n      <td>1037</td>\n      <td>78</td>\n      <td>NaN</td>\n    </tr>\n    <tr>\n      <th>4</th>\n      <td>Autobusai</td>\n      <td>M5</td>\n      <td>2963771701</td>\n      <td>517 kwmt</td>\n      <td>21164460</td>\n      <td>55698924</td>\n      <td>42</td>\n      <td>54</td>\n      <td>1021</td>\n      <td>-2</td>\n      <td>NaN</td>\n    </tr>\n    <tr>\n      <th>...</th>\n      <td>...</td>\n      <td>...</td>\n      <td>...</td>\n      <td>...</td>\n      <td>...</td>\n      <td>...</td>\n      <td>...</td>\n      <td>...</td>\n      <td>...</td>\n      <td>...</td>\n      <td>...</td>\n    </tr>\n    <tr>\n      <th>153</th>\n      <td>Autobusai</td>\n      <td>29</td>\n      <td>3927871720</td>\n      <td>78 kwmt</td>\n      <td>21174712</td>\n      <td>55665456</td>\n      <td>23</td>\n      <td>340</td>\n      <td>1040</td>\n      <td>14</td>\n      <td>NaN</td>\n    </tr>\n    <tr>\n      <th>154</th>\n      <td>Autobusai</td>\n      <td>6A</td>\n      <td>&lt;NA&gt;</td>\n      <td>MDS 073 wt</td>\n      <td>21201450</td>\n      <td>55720704</td>\n      <td>0</td>\n      <td>84</td>\n      <td>&lt;NA&gt;</td>\n      <td>&lt;NA&gt;</td>\n      <td>NaN</td>\n    </tr>\n    <tr>\n      <th>155</th>\n      <td>Autobusai</td>\n      <td>6A</td>\n      <td>3928261710</td>\n      <td>HMP 076 t</td>\n      <td>21131484</td>\n      <td>55711940</td>\n      <td>11</td>\n      <td>162</td>\n      <td>1030</td>\n      <td>178</td>\n      <td>NaN</td>\n    </tr>\n    <tr>\n      <th>156</th>\n      <td>Autobusai</td>\n      <td>6A</td>\n      <td>3928241634</td>\n      <td>JTE 338 t</td>\n      <td>21201826</td>\n      <td>55662112</td>\n      <td>0</td>\n      <td>340</td>\n      <td>994</td>\n      <td>0</td>\n      <td>NaN</td>\n    </tr>\n    <tr>\n      <th>157</th>\n      <td>Autobusai</td>\n      <td>6A</td>\n      <td>3928251650</td>\n      <td>HJP 264</td>\n      <td>21136638</td>\n      <td>55708092</td>\n      <td>13</td>\n      <td>312</td>\n      <td>1010</td>\n      <td>173</td>\n      <td>NaN</td>\n    </tr>\n  </tbody>\n</table>\n<p>158 rows × 11 columns</p>\n</div>"
     },
     "execution_count": 15,
     "metadata": {},
     "output_type": "execute_result"
    }
   ],
   "source": [
    "klaipeda_gps_df = pd.read_csv('../data/vehicle_positions/klaipeda_gps_full.csv', dtype={\n",
    "    'Transportas': pd.CategoricalDtype(),\n",
    "    'Marsrutas': pd.StringDtype(),\n",
    "    'ReisoID': pd.StringDtype(),\n",
    "    'MasinosNumeris': pd.StringDtype(),\n",
    "    'Ilguma': pd.Int64Dtype(),\n",
    "    'Platuma': pd.Int64Dtype(),\n",
    "    'Greitis': pd.Int64Dtype(),\n",
    "    'Azimutas': pd.Int64Dtype(),\n",
    "    'ReisoPradziaMinutemis': pd.Int64Dtype(),\n",
    "    'NuokrypisSekundemis': pd.Int64Dtype(),\n",
    "})\n",
    "klaipeda_gps_df"
   ],
   "metadata": {
    "collapsed": false,
    "pycharm": {
     "name": "#%%\n"
    }
   }
  },
  {
   "cell_type": "markdown",
   "source": [
    "### Panevėžys\n"
   ],
   "metadata": {
    "collapsed": false
   }
  },
  {
   "cell_type": "code",
   "execution_count": 7,
   "outputs": [
    {
     "data": {
      "text/plain": "    0    1         2         3   4    5   6       7   8\n0   2   16  24325073  55722340  32  246 NaN  BHZ628 NaN\n1   2  NaN  24378012  55715382   0    2 NaN  CEJ469 NaN\n2   2  NaN  24377176  55715157   0   32 NaN  DGA468 NaN\n3   2   15  24367407  55728493  35  360 NaN  DOM143 NaN\n4   2   13  24344337  55721416   9  138 NaN  EDO146 NaN\n5   2   6A  24289122  55741882   0  106 NaN  ENV560 NaN\n6   2  10A  24312031  55730343   0  100 NaN  FAO459 NaN\n7   2   16  24340685  55728172   0  100 NaN  FBS690 NaN\n8   2   11  24371071  55718014   4  258 NaN  FBS714 NaN\n9   2   10  24317413  55731647   2  172 NaN  FCJ233 NaN\n10  2   12  24307056  55737698  15  268 NaN  FCK838 NaN\n11  2  NaN  24376678  55715153   0   86 NaN  FDV054 NaN\n12  2   11  24338659  55737465  40  166 NaN  FFF374 NaN\n13  2    6  24356499  55729530   1  162 NaN  FGS413 NaN\n14  2    6  24383429  55728580  24  252 NaN  GCG296 NaN\n15  2   16  24342276  55732254  18  278 NaN  GCG297 NaN\n16  2   11  24393623  55720348   0  140 NaN  GCG298 NaN\n17  2   10  24366482  55725868   7  196 NaN  GCG301 NaN\n18  2   1E  24356569  55737175  28  346 NaN  GHV406 NaN\n19  2    9  24354609  55709656  39  164 NaN  GHV407 NaN\n20  2  NaN  24377403  55715984   0   84 NaN  GUC384 NaN\n21  2    4  24371380  55737251  35  248 NaN  HFH158 NaN\n22  2    8  24344845  55738995   0    0 NaN  HFH291 NaN\n23  2   15  24369806  55739037  30  184 NaN  HFH293 NaN\n24  2   3A  24325346  55728577  21  178 NaN  HFH328 NaN\n25  2   3A  24367277  55729366  30  180 NaN  HFH331 NaN\n26  2   13  24340094  55728298   0  278 NaN  HFH593 NaN\n27  2    3  24366621  55726021   8  352 NaN  HFH594 NaN\n28  2  NaN  24377588  55715157   0   94 NaN  HFH596 NaN\n29  2   16  24378653  55705406   0  328 NaN  JOV157 NaN\n30  2   15  24364931  55774864  35  352 NaN  JOV158 NaN\n31  2    5  24362076  55722111  11    4 NaN  JOV302 NaN\n32  2    3  24357704  55755959  42  274 NaN  JOV305 NaN\n33  2    4  24362120  55721603   8  178 NaN  JOV389 NaN\n34  2   14  24347738  55727669  40  274 NaN  JOV391 NaN\n35  2    7  24362883  55721218  13   72 NaN  JOV469 NaN\n36  2    8  24363537  55749691  30   94 NaN  KDJ271 NaN\n37  2   16  24367325  55728741  33   10 NaN  KDJ273 NaN\n38  2   14  24343233  55727962  24   90 NaN  KDJ274 NaN\n39  2   10  24370192  55741173  13    4 NaN  KDJ275 NaN\n40  2   16  24378912  55705086   0  330 NaN  LHO467 NaN\n41  2    7  24355228  55742256  42  174 NaN  LHO469 NaN\n42  2    5  24366776  55726898   7  210 NaN  LHO470 NaN\n43  2    5  24332598  55735905  29  124 NaN  LHO471 NaN\n44  2    4  24367311  55728706  17  302 NaN  LHO472 NaN\n45  2   10  24342800  55728050  37  278 NaN  LHO473 NaN\n46  2    7  24317839  55750671  45  304 NaN  LHO475 NaN\n47  2    7  24381105  55719555  34   56 NaN  LHO477 NaN\n48  2   14  24362980  55726082   0  280 NaN  LHO478 NaN\n49  2   6A  24401468  55730598  49   74 NaN  LHO479 NaN\n50  2   10  24356607  55726974   4   84 NaN  LZH151 NaN\n51  2    8  24370367  55743080   0   10 NaN  LZH353 NaN\n52  2    3  24324984  55726116  13    0 NaN  LZH354 NaN\n53  2   15  24328993  55731449  22  274 NaN  MDL365 NaN",
      "text/html": "<div>\n<style scoped>\n    .dataframe tbody tr th:only-of-type {\n        vertical-align: middle;\n    }\n\n    .dataframe tbody tr th {\n        vertical-align: top;\n    }\n\n    .dataframe thead th {\n        text-align: right;\n    }\n</style>\n<table border=\"1\" class=\"dataframe\">\n  <thead>\n    <tr style=\"text-align: right;\">\n      <th></th>\n      <th>0</th>\n      <th>1</th>\n      <th>2</th>\n      <th>3</th>\n      <th>4</th>\n      <th>5</th>\n      <th>6</th>\n      <th>7</th>\n      <th>8</th>\n    </tr>\n  </thead>\n  <tbody>\n    <tr>\n      <th>0</th>\n      <td>2</td>\n      <td>16</td>\n      <td>24325073</td>\n      <td>55722340</td>\n      <td>32</td>\n      <td>246</td>\n      <td>NaN</td>\n      <td>BHZ628</td>\n      <td>NaN</td>\n    </tr>\n    <tr>\n      <th>1</th>\n      <td>2</td>\n      <td>NaN</td>\n      <td>24378012</td>\n      <td>55715382</td>\n      <td>0</td>\n      <td>2</td>\n      <td>NaN</td>\n      <td>CEJ469</td>\n      <td>NaN</td>\n    </tr>\n    <tr>\n      <th>2</th>\n      <td>2</td>\n      <td>NaN</td>\n      <td>24377176</td>\n      <td>55715157</td>\n      <td>0</td>\n      <td>32</td>\n      <td>NaN</td>\n      <td>DGA468</td>\n      <td>NaN</td>\n    </tr>\n    <tr>\n      <th>3</th>\n      <td>2</td>\n      <td>15</td>\n      <td>24367407</td>\n      <td>55728493</td>\n      <td>35</td>\n      <td>360</td>\n      <td>NaN</td>\n      <td>DOM143</td>\n      <td>NaN</td>\n    </tr>\n    <tr>\n      <th>4</th>\n      <td>2</td>\n      <td>13</td>\n      <td>24344337</td>\n      <td>55721416</td>\n      <td>9</td>\n      <td>138</td>\n      <td>NaN</td>\n      <td>EDO146</td>\n      <td>NaN</td>\n    </tr>\n    <tr>\n      <th>5</th>\n      <td>2</td>\n      <td>6A</td>\n      <td>24289122</td>\n      <td>55741882</td>\n      <td>0</td>\n      <td>106</td>\n      <td>NaN</td>\n      <td>ENV560</td>\n      <td>NaN</td>\n    </tr>\n    <tr>\n      <th>6</th>\n      <td>2</td>\n      <td>10A</td>\n      <td>24312031</td>\n      <td>55730343</td>\n      <td>0</td>\n      <td>100</td>\n      <td>NaN</td>\n      <td>FAO459</td>\n      <td>NaN</td>\n    </tr>\n    <tr>\n      <th>7</th>\n      <td>2</td>\n      <td>16</td>\n      <td>24340685</td>\n      <td>55728172</td>\n      <td>0</td>\n      <td>100</td>\n      <td>NaN</td>\n      <td>FBS690</td>\n      <td>NaN</td>\n    </tr>\n    <tr>\n      <th>8</th>\n      <td>2</td>\n      <td>11</td>\n      <td>24371071</td>\n      <td>55718014</td>\n      <td>4</td>\n      <td>258</td>\n      <td>NaN</td>\n      <td>FBS714</td>\n      <td>NaN</td>\n    </tr>\n    <tr>\n      <th>9</th>\n      <td>2</td>\n      <td>10</td>\n      <td>24317413</td>\n      <td>55731647</td>\n      <td>2</td>\n      <td>172</td>\n      <td>NaN</td>\n      <td>FCJ233</td>\n      <td>NaN</td>\n    </tr>\n    <tr>\n      <th>10</th>\n      <td>2</td>\n      <td>12</td>\n      <td>24307056</td>\n      <td>55737698</td>\n      <td>15</td>\n      <td>268</td>\n      <td>NaN</td>\n      <td>FCK838</td>\n      <td>NaN</td>\n    </tr>\n    <tr>\n      <th>11</th>\n      <td>2</td>\n      <td>NaN</td>\n      <td>24376678</td>\n      <td>55715153</td>\n      <td>0</td>\n      <td>86</td>\n      <td>NaN</td>\n      <td>FDV054</td>\n      <td>NaN</td>\n    </tr>\n    <tr>\n      <th>12</th>\n      <td>2</td>\n      <td>11</td>\n      <td>24338659</td>\n      <td>55737465</td>\n      <td>40</td>\n      <td>166</td>\n      <td>NaN</td>\n      <td>FFF374</td>\n      <td>NaN</td>\n    </tr>\n    <tr>\n      <th>13</th>\n      <td>2</td>\n      <td>6</td>\n      <td>24356499</td>\n      <td>55729530</td>\n      <td>1</td>\n      <td>162</td>\n      <td>NaN</td>\n      <td>FGS413</td>\n      <td>NaN</td>\n    </tr>\n    <tr>\n      <th>14</th>\n      <td>2</td>\n      <td>6</td>\n      <td>24383429</td>\n      <td>55728580</td>\n      <td>24</td>\n      <td>252</td>\n      <td>NaN</td>\n      <td>GCG296</td>\n      <td>NaN</td>\n    </tr>\n    <tr>\n      <th>15</th>\n      <td>2</td>\n      <td>16</td>\n      <td>24342276</td>\n      <td>55732254</td>\n      <td>18</td>\n      <td>278</td>\n      <td>NaN</td>\n      <td>GCG297</td>\n      <td>NaN</td>\n    </tr>\n    <tr>\n      <th>16</th>\n      <td>2</td>\n      <td>11</td>\n      <td>24393623</td>\n      <td>55720348</td>\n      <td>0</td>\n      <td>140</td>\n      <td>NaN</td>\n      <td>GCG298</td>\n      <td>NaN</td>\n    </tr>\n    <tr>\n      <th>17</th>\n      <td>2</td>\n      <td>10</td>\n      <td>24366482</td>\n      <td>55725868</td>\n      <td>7</td>\n      <td>196</td>\n      <td>NaN</td>\n      <td>GCG301</td>\n      <td>NaN</td>\n    </tr>\n    <tr>\n      <th>18</th>\n      <td>2</td>\n      <td>1E</td>\n      <td>24356569</td>\n      <td>55737175</td>\n      <td>28</td>\n      <td>346</td>\n      <td>NaN</td>\n      <td>GHV406</td>\n      <td>NaN</td>\n    </tr>\n    <tr>\n      <th>19</th>\n      <td>2</td>\n      <td>9</td>\n      <td>24354609</td>\n      <td>55709656</td>\n      <td>39</td>\n      <td>164</td>\n      <td>NaN</td>\n      <td>GHV407</td>\n      <td>NaN</td>\n    </tr>\n    <tr>\n      <th>20</th>\n      <td>2</td>\n      <td>NaN</td>\n      <td>24377403</td>\n      <td>55715984</td>\n      <td>0</td>\n      <td>84</td>\n      <td>NaN</td>\n      <td>GUC384</td>\n      <td>NaN</td>\n    </tr>\n    <tr>\n      <th>21</th>\n      <td>2</td>\n      <td>4</td>\n      <td>24371380</td>\n      <td>55737251</td>\n      <td>35</td>\n      <td>248</td>\n      <td>NaN</td>\n      <td>HFH158</td>\n      <td>NaN</td>\n    </tr>\n    <tr>\n      <th>22</th>\n      <td>2</td>\n      <td>8</td>\n      <td>24344845</td>\n      <td>55738995</td>\n      <td>0</td>\n      <td>0</td>\n      <td>NaN</td>\n      <td>HFH291</td>\n      <td>NaN</td>\n    </tr>\n    <tr>\n      <th>23</th>\n      <td>2</td>\n      <td>15</td>\n      <td>24369806</td>\n      <td>55739037</td>\n      <td>30</td>\n      <td>184</td>\n      <td>NaN</td>\n      <td>HFH293</td>\n      <td>NaN</td>\n    </tr>\n    <tr>\n      <th>24</th>\n      <td>2</td>\n      <td>3A</td>\n      <td>24325346</td>\n      <td>55728577</td>\n      <td>21</td>\n      <td>178</td>\n      <td>NaN</td>\n      <td>HFH328</td>\n      <td>NaN</td>\n    </tr>\n    <tr>\n      <th>25</th>\n      <td>2</td>\n      <td>3A</td>\n      <td>24367277</td>\n      <td>55729366</td>\n      <td>30</td>\n      <td>180</td>\n      <td>NaN</td>\n      <td>HFH331</td>\n      <td>NaN</td>\n    </tr>\n    <tr>\n      <th>26</th>\n      <td>2</td>\n      <td>13</td>\n      <td>24340094</td>\n      <td>55728298</td>\n      <td>0</td>\n      <td>278</td>\n      <td>NaN</td>\n      <td>HFH593</td>\n      <td>NaN</td>\n    </tr>\n    <tr>\n      <th>27</th>\n      <td>2</td>\n      <td>3</td>\n      <td>24366621</td>\n      <td>55726021</td>\n      <td>8</td>\n      <td>352</td>\n      <td>NaN</td>\n      <td>HFH594</td>\n      <td>NaN</td>\n    </tr>\n    <tr>\n      <th>28</th>\n      <td>2</td>\n      <td>NaN</td>\n      <td>24377588</td>\n      <td>55715157</td>\n      <td>0</td>\n      <td>94</td>\n      <td>NaN</td>\n      <td>HFH596</td>\n      <td>NaN</td>\n    </tr>\n    <tr>\n      <th>29</th>\n      <td>2</td>\n      <td>16</td>\n      <td>24378653</td>\n      <td>55705406</td>\n      <td>0</td>\n      <td>328</td>\n      <td>NaN</td>\n      <td>JOV157</td>\n      <td>NaN</td>\n    </tr>\n    <tr>\n      <th>30</th>\n      <td>2</td>\n      <td>15</td>\n      <td>24364931</td>\n      <td>55774864</td>\n      <td>35</td>\n      <td>352</td>\n      <td>NaN</td>\n      <td>JOV158</td>\n      <td>NaN</td>\n    </tr>\n    <tr>\n      <th>31</th>\n      <td>2</td>\n      <td>5</td>\n      <td>24362076</td>\n      <td>55722111</td>\n      <td>11</td>\n      <td>4</td>\n      <td>NaN</td>\n      <td>JOV302</td>\n      <td>NaN</td>\n    </tr>\n    <tr>\n      <th>32</th>\n      <td>2</td>\n      <td>3</td>\n      <td>24357704</td>\n      <td>55755959</td>\n      <td>42</td>\n      <td>274</td>\n      <td>NaN</td>\n      <td>JOV305</td>\n      <td>NaN</td>\n    </tr>\n    <tr>\n      <th>33</th>\n      <td>2</td>\n      <td>4</td>\n      <td>24362120</td>\n      <td>55721603</td>\n      <td>8</td>\n      <td>178</td>\n      <td>NaN</td>\n      <td>JOV389</td>\n      <td>NaN</td>\n    </tr>\n    <tr>\n      <th>34</th>\n      <td>2</td>\n      <td>14</td>\n      <td>24347738</td>\n      <td>55727669</td>\n      <td>40</td>\n      <td>274</td>\n      <td>NaN</td>\n      <td>JOV391</td>\n      <td>NaN</td>\n    </tr>\n    <tr>\n      <th>35</th>\n      <td>2</td>\n      <td>7</td>\n      <td>24362883</td>\n      <td>55721218</td>\n      <td>13</td>\n      <td>72</td>\n      <td>NaN</td>\n      <td>JOV469</td>\n      <td>NaN</td>\n    </tr>\n    <tr>\n      <th>36</th>\n      <td>2</td>\n      <td>8</td>\n      <td>24363537</td>\n      <td>55749691</td>\n      <td>30</td>\n      <td>94</td>\n      <td>NaN</td>\n      <td>KDJ271</td>\n      <td>NaN</td>\n    </tr>\n    <tr>\n      <th>37</th>\n      <td>2</td>\n      <td>16</td>\n      <td>24367325</td>\n      <td>55728741</td>\n      <td>33</td>\n      <td>10</td>\n      <td>NaN</td>\n      <td>KDJ273</td>\n      <td>NaN</td>\n    </tr>\n    <tr>\n      <th>38</th>\n      <td>2</td>\n      <td>14</td>\n      <td>24343233</td>\n      <td>55727962</td>\n      <td>24</td>\n      <td>90</td>\n      <td>NaN</td>\n      <td>KDJ274</td>\n      <td>NaN</td>\n    </tr>\n    <tr>\n      <th>39</th>\n      <td>2</td>\n      <td>10</td>\n      <td>24370192</td>\n      <td>55741173</td>\n      <td>13</td>\n      <td>4</td>\n      <td>NaN</td>\n      <td>KDJ275</td>\n      <td>NaN</td>\n    </tr>\n    <tr>\n      <th>40</th>\n      <td>2</td>\n      <td>16</td>\n      <td>24378912</td>\n      <td>55705086</td>\n      <td>0</td>\n      <td>330</td>\n      <td>NaN</td>\n      <td>LHO467</td>\n      <td>NaN</td>\n    </tr>\n    <tr>\n      <th>41</th>\n      <td>2</td>\n      <td>7</td>\n      <td>24355228</td>\n      <td>55742256</td>\n      <td>42</td>\n      <td>174</td>\n      <td>NaN</td>\n      <td>LHO469</td>\n      <td>NaN</td>\n    </tr>\n    <tr>\n      <th>42</th>\n      <td>2</td>\n      <td>5</td>\n      <td>24366776</td>\n      <td>55726898</td>\n      <td>7</td>\n      <td>210</td>\n      <td>NaN</td>\n      <td>LHO470</td>\n      <td>NaN</td>\n    </tr>\n    <tr>\n      <th>43</th>\n      <td>2</td>\n      <td>5</td>\n      <td>24332598</td>\n      <td>55735905</td>\n      <td>29</td>\n      <td>124</td>\n      <td>NaN</td>\n      <td>LHO471</td>\n      <td>NaN</td>\n    </tr>\n    <tr>\n      <th>44</th>\n      <td>2</td>\n      <td>4</td>\n      <td>24367311</td>\n      <td>55728706</td>\n      <td>17</td>\n      <td>302</td>\n      <td>NaN</td>\n      <td>LHO472</td>\n      <td>NaN</td>\n    </tr>\n    <tr>\n      <th>45</th>\n      <td>2</td>\n      <td>10</td>\n      <td>24342800</td>\n      <td>55728050</td>\n      <td>37</td>\n      <td>278</td>\n      <td>NaN</td>\n      <td>LHO473</td>\n      <td>NaN</td>\n    </tr>\n    <tr>\n      <th>46</th>\n      <td>2</td>\n      <td>7</td>\n      <td>24317839</td>\n      <td>55750671</td>\n      <td>45</td>\n      <td>304</td>\n      <td>NaN</td>\n      <td>LHO475</td>\n      <td>NaN</td>\n    </tr>\n    <tr>\n      <th>47</th>\n      <td>2</td>\n      <td>7</td>\n      <td>24381105</td>\n      <td>55719555</td>\n      <td>34</td>\n      <td>56</td>\n      <td>NaN</td>\n      <td>LHO477</td>\n      <td>NaN</td>\n    </tr>\n    <tr>\n      <th>48</th>\n      <td>2</td>\n      <td>14</td>\n      <td>24362980</td>\n      <td>55726082</td>\n      <td>0</td>\n      <td>280</td>\n      <td>NaN</td>\n      <td>LHO478</td>\n      <td>NaN</td>\n    </tr>\n    <tr>\n      <th>49</th>\n      <td>2</td>\n      <td>6A</td>\n      <td>24401468</td>\n      <td>55730598</td>\n      <td>49</td>\n      <td>74</td>\n      <td>NaN</td>\n      <td>LHO479</td>\n      <td>NaN</td>\n    </tr>\n    <tr>\n      <th>50</th>\n      <td>2</td>\n      <td>10</td>\n      <td>24356607</td>\n      <td>55726974</td>\n      <td>4</td>\n      <td>84</td>\n      <td>NaN</td>\n      <td>LZH151</td>\n      <td>NaN</td>\n    </tr>\n    <tr>\n      <th>51</th>\n      <td>2</td>\n      <td>8</td>\n      <td>24370367</td>\n      <td>55743080</td>\n      <td>0</td>\n      <td>10</td>\n      <td>NaN</td>\n      <td>LZH353</td>\n      <td>NaN</td>\n    </tr>\n    <tr>\n      <th>52</th>\n      <td>2</td>\n      <td>3</td>\n      <td>24324984</td>\n      <td>55726116</td>\n      <td>13</td>\n      <td>0</td>\n      <td>NaN</td>\n      <td>LZH354</td>\n      <td>NaN</td>\n    </tr>\n    <tr>\n      <th>53</th>\n      <td>2</td>\n      <td>15</td>\n      <td>24328993</td>\n      <td>55731449</td>\n      <td>22</td>\n      <td>274</td>\n      <td>NaN</td>\n      <td>MDL365</td>\n      <td>NaN</td>\n    </tr>\n  </tbody>\n</table>\n</div>"
     },
     "execution_count": 7,
     "metadata": {},
     "output_type": "execute_result"
    }
   ],
   "source": [
    "panevezys_gps_df = pd.read_csv('../data/vehicle_positions/panevezys_gps_no_header.csv', header=None)\n",
    "panevezys_gps_df"
   ],
   "metadata": {
    "collapsed": false,
    "pycharm": {
     "name": "#%%\n"
    }
   }
  },
  {
   "cell_type": "code",
   "execution_count": null,
   "outputs": [],
   "source": [],
   "metadata": {
    "collapsed": false,
    "pycharm": {
     "name": "#%%\n"
    }
   }
  }
 ],
 "metadata": {
  "kernelspec": {
   "display_name": "Python 3",
   "language": "python",
   "name": "python3"
  },
  "language_info": {
   "codemirror_mode": {
    "name": "ipython",
    "version": 2
   },
   "file_extension": ".py",
   "mimetype": "text/x-python",
   "name": "python",
   "nbconvert_exporter": "python",
   "pygments_lexer": "ipython2",
   "version": "2.7.6"
  }
 },
 "nbformat": 4,
 "nbformat_minor": 0
}