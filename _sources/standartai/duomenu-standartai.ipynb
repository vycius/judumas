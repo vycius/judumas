{
 "cells": [
  {
   "cell_type": "markdown",
   "metadata": {
    "pycharm": {
     "name": "#%% md\n"
    }
   },
   "source": [
    "# Judumo duomenų standartai\n",
    "\n",
    "Šiuolaikinėje transporto sistemoje dominuoja privačios lengvosios mašinos, kurios 95 procentus laiko nėra naudojamos, kasmet kainuoja daugiau nei 1 trilijoną JAV dolerių ir išmeta daugiau nei 1 gigatoną teršalų{cite}`transit_data_interoperability_study`. Vietoj tokios transporto sistemos galima įsivaizduoti ir alternatyvą: transporto sistemą, kurioje žmonės galėtų keliauti kada nori ir kur nori skirtingomis judumo priemonėmis (pvz., viešuoju transportu, dviračiais, paspirtukais, automobilių dalijimosi, pavežėjimo paslaugomis), o visos jos būtų integruotos tarpusavyje. Būtent tokį konceptą galime pavadinti „judumu, kaip paslauga“ (angl. Mobility as a Service).\n",
    "\n",
    "Kaip sukurti sąlygas apjungti skirtingas daugybės savivaldybių vystomas viešojo transporto sistemas, įmonių plėtojamas dalijomosi paslaugas tarpusavyje? Tam tikslui buvo sukurti duomenų teikimo standartai, kurie leidžia vieningu, standartizuotu formatu skirtingoms sistemoms dalintis duomenimis.\n",
    "\n",
    "Šiame skyriuje bus aptarti populiariausi duomenų teikimo standartai susiję su viešojo transporto statine ir realaus laiko informacija bei dalijimosi paslaugomis."
   ]
  }
 ],
 "metadata": {
  "kernelspec": {
   "display_name": "Python 3",
   "language": "python",
   "name": "python3"
  },
  "language_info": {
   "codemirror_mode": {
    "name": "ipython",
    "version": 2
   },
   "file_extension": ".py",
   "mimetype": "text/x-python",
   "name": "python",
   "nbconvert_exporter": "python",
   "pygments_lexer": "ipython2",
   "version": "2.7.6"
  }
 },
 "nbformat": 4,
 "nbformat_minor": 0
}
