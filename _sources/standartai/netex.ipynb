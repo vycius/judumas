{
 "cells": [
  {
   "cell_type": "markdown",
   "metadata": {
    "pycharm": {
     "name": "#%% md\n"
    }
   },
   "source": [
    "# NeTEx\n",
    "\n",
    "NeTEx (Network Timetable Exchange)\n",
    "\n",
    "> (16) dėl keitimosi statiniais reguliariojo susisiekimo, pvz., viešojo transporto, tolimojo susisiekimo autobusų ir jūrlaivių, įskaitant keltus, duomenimis pasakytina, kad tokiems duomenims nacionaliniuose prieigos punktuose **turėtų būti naudojamas Europos standartizacijos komiteto nustatytas keitimosi duomenimis standartas NeTEx CEN/TS 16614**, grindžiamas koncepciniu transporto pamatinių duomenų modeliu EN 12896:2006 ir paskesnėmis atnaujintomis jo redakcijomis, arba kitoks kompiuterio skaitomas formatas, kurio visiškas suderinamumas būtų užtikrintas iki sutarto termino. [...]\n",
    ">\n",
    "> -- <cite>Europos Parlamento ir Tarybos direktyvos 2010/40/ES nuostatos dėl informacijos apie keliavimą daugiarūšiu transportu paslaugų teikimo{cite}`directive_multimodal_travel_information_services`</cite>"
   ]
  }
 ],
 "metadata": {
  "kernelspec": {
   "display_name": "Python 3",
   "language": "python",
   "name": "python3"
  },
  "language_info": {
   "codemirror_mode": {
    "name": "ipython",
    "version": 2
   },
   "file_extension": ".py",
   "mimetype": "text/x-python",
   "name": "python",
   "nbconvert_exporter": "python",
   "pygments_lexer": "ipython2",
   "version": "2.7.6"
  }
 },
 "nbformat": 4,
 "nbformat_minor": 0
}
