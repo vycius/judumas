{
 "cells": [
  {
   "cell_type": "markdown",
   "metadata": {
    "pycharm": {
     "name": "#%% md\n"
    }
   },
   "source": [
    "# MDS\n",
    "\n",
    "MDS (*Mobility Data Specification*) yra duomenų standartas, padedantis miestams valdyti dalijimosi paslaugas (dažniausiai el. paspirtukus, mopedus) realiu laiku.\n",
    "\n",
    "## Nauda:\n",
    "### Miestui\n",
    "\n",
    "MDS suteikia galimybę miestams sužinoti, kaip gyventojai juda po miestą ir įrankius reikalingus pagerinti tokių kelionių patirtį.\n",
    "\n",
    "- Sumažinami veiklos ir darbuotojų laiko kąštus, nes stebėjimas atliekamas automatiškai;\n",
    "- Realaus laiko ir istoriniai duomenys leidžia geriau planuoti, valdyti gyventojų judumą;\n",
    "- Ribojimų įvedimas siekiant prisitaikyti prie planuojamų renginių, ekstremalių situacijų ar gyventojų saugumo užtikrinimo;\n",
    "- Mažiau konfliktų su operatoriaus nagrinėjant skundus (paspirtukų palikimą neleistinose vietose, važiavimo greitį ir pnš.).\n",
    "\n",
    "Daugiau naudų miestų galima rasti [čia](https://github.com/openmobilityfoundation/governance/wiki/MDS-Use-Cases#extracted-list)\n",
    "\n",
    "### Privatiems transporto operatoriams\n",
    "- Leidžia sutaupyti žmogiškųjų resursų ir laiko (miesto skundų nagrinėjimas, ribojimų valdymas);\n",
    "- Pasitikėjimas, bendradarbiavimas tarp miesto ir operatoriaus (mažiau konfliktų);\n",
    "- Vieningas duomenų teikimo standartas visiems MDS naudojantiems miestams;\n",
    "- Lengva integracija su kelionių planavimo programomis.\n",
    "\n",
    "## Paplitimas\n",
    "MDS standartas naudojamas daugiau nei 130 miestų{cite}`open_mobily_foundation_mds_countries` (žr. žemėlapį)."
   ]
  },
  {
   "cell_type": "code",
   "execution_count": null,
   "metadata": {
    "pycharm": {
     "name": "#%%\n"
    },
    "tags": [
     "hide-input"
    ]
   },
   "outputs": [],
   "source": [
    "import json\n",
    "import pandas as pd\n",
    "import plotly.express as px\n",
    "\n",
    "mapbox_access_token = open(\"../.mapbox_token\").read()\n",
    "px.set_mapbox_access_token(mapbox_access_token)\n",
    "\n",
    "europe_center = {'lat': 55, 'lon': 10}\n",
    "\n",
    "\n",
    "with open('../data/geojson/world.geojson', 'r') as world_geojson_file:\n",
    "    world_geojson = json.load(world_geojson_file)\n",
    "\n",
    "mds_cities_df = pd.read_csv(\"../data/mds/MDS-supported-cities.csv\")\n",
    "\n",
    "\n",
    "fig = px.scatter_mapbox(\n",
    "    data_frame=mds_cities_df,\n",
    "    lat='Latitude',\n",
    "    lon='Longitude',\n",
    "    mapbox_style=\"light\",\n",
    "    zoom=1,\n",
    "    center=europe_center,\n",
    "    title='Mobility Data Specification palaikymas',\n",
    "    hover_name='City',\n",
    ")\n",
    "\n",
    "fig.update_traces(showlegend=False)\n",
    "\n",
    "fig.update_layout(\n",
    "    mapbox_layers=[\n",
    "        {\n",
    "            \"sourceattribution\": '© <a href=\"https://judumas.vycius.lt\" target=\"_blank\">Karolis Vyčius</a> © <a href=\"https://www.openmobilityfoundation.org/mds-users/\" target=\"_blank\">Open Mobility Foundation</a>'\n",
    "        }\n",
    "    ])\n",
    "fig.update_layout(margin={\"r\":0,\"l\":0,\"b\":0})\n",
    "fig.show()"
   ]
  },
  {
   "cell_type": "markdown",
   "metadata": {},
   "source": [
    "Taip pat šis standartas palaikomas tokių judumo paslaugų operatorių, kaip: Bolt, Bird, Lime, WIND ir kt. (žr. [daugiau operatorių](https://github.com/openmobilityfoundation/mobility-data-specification/blob/main/providers.csv)).\n"
   ]
  },
  {
   "cell_type": "markdown",
   "metadata": {
    "pycharm": {
     "name": "#%% md\n"
    }
   },
   "source": [
    "##  Realūs panaudojimo pazydžiai\n",
    "### Čikaga: paspirtukų ribojimai festivalio metu\n",
    "Nepriklausomai ar miestas susiduria su neplanuotomis situacijomis ar kelių uždarymais, šventėmis, protestais MDS suteikia galimybe realiu laiku keisti zonas, kuriose draudžiama palikti transporto priemones bei įvertinti ar transporto nuomos kompanijos laikosi reguliatoriaus nustatytų taisyklių.\n",
    "\n",
    "Čikagoje 2019 m. vykdant MDS pilotą{cite}`chicago_mds_geofence` paspirtukų kompanijoms buvo duoti nurodymai, kad kiekvienas paspirtukas galėtų sulėtinti greitį ir galiausiai sustoti per ketvirtį mylios už miesto nurodytos bandomosios zonos. Šį sprendimą jie išbandė per du renginius: „Pitchfork“ muzikos festivalį ir „Riot Fest“.\n",
    "\n",
    "{numref}`mds-chicago-pitchfork-festival` matome piloto metu miesto nustatytas zonas paspirtukų kompanijoms per MDS ir paspirtukų palikimo vietas, o {numref}`mds-chicago-after-pitchfork-festival` rodo tą patį jau pasibaigus festivaliui. Galime matyti, kad dalis festivalio dalyvių į renginį atvykdavo su paspirtuku, o didelė paspirtukų koncentracija ties savivaldybės nustatyomis ribomis užtikrino renginio tvarką.\n",
    "\n",
    "```{figure} /images/standartai/mds/use-cases/mds-chicago-pitchfork-festival-weekend.png\n",
    ":name: mds-chicago-pitchfork-festival\n",
    "\n",
    "Čikagos per „Pitchfork“ muzikos festivalį nustatytas ribojimas ir paspirtukų palikimas {cite}`chicago_mds_geofence`\n",
    "```\n",
    "\n",
    "```{figure} /images/standartai/mds/use-cases/mds-chicago-after-pitchfork-festival-weekend.png\n",
    ":name: mds-chicago-after-pitchfork-festival\n",
    "\n",
    "Čikagos po „Pitchfork“ muzikos festivalio paliekami paspirtukai savivaldybei išjungus ribojimą {cite}`chicago_mds_geofence`\n",
    "```\n",
    "\n",
    "Čikaga naudodama MDS per `Policy API` galėjo perduoti ribojimus paspirtukų paslaugų teikėjams. Vietoj to, kad miestas siųstų el. laiškus kiekvienam paslaugų teikėjui, pakako nustatyti ribojimų zoną sistemoje, kuri automatiškai pasiekė kiekvieną paslaugų teikėją ir miestui suteikė monitoringo mechanzimą.\n",
    "\n",
    "### Luisvilis: infrastruktūros planavimas\n",
    "Luisvilyje (Kentukis, JAV) buvo planuojamas naujas kelias. Siekiant sužinoti, kokiai daliai paspirtukų naudotojų šis kelias būtų naudingas buvo [vizualizuotos per MDS gautos paspirtukų kelionės](mds-louisville-major-infrastructure-project-planing) bei vertinama kaip toks kelias įsilietų į jau egzistuojančią miesto infrastruktūrą.\n",
    "\n",
    "```{figure} /images/standartai/mds/use-cases/mds-louisville-major-infrastructure-project-planing.png\n",
    ":name: mds-louisville-major-infrastructure-project-planing\n",
    "\n",
    "\n",
    "Paspirtukų kelionės Luisvilyje, kurios gautų naudą iš naujo kelio{cite}`mds_intro_webinar`\n",
    "```\n",
    "\n",
    "## Naudinga informacija\n",
    "- [Įvadinis video į MDS bei jo panaudojimo galimybes](https://www.youtube.com/watch?v=oUDjXvT06jQ)"
   ]
  }
 ],
 "metadata": {
  "celltoolbar": "Tags",
  "kernelspec": {
   "display_name": "Python 3 (ipykernel)",
   "language": "python",
   "name": "python3"
  },
  "language_info": {
   "codemirror_mode": {
    "name": "ipython",
    "version": 3
   },
   "file_extension": ".py",
   "mimetype": "text/x-python",
   "name": "python",
   "nbconvert_exporter": "python",
   "pygments_lexer": "ipython3",
   "version": "3.9.7"
  }
 },
 "nbformat": 4,
 "nbformat_minor": 1
}
