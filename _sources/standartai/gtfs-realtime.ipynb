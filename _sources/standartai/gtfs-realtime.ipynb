{
 "cells": [
  {
   "cell_type": "markdown",
   "metadata": {
    "pycharm": {
     "name": "#%% md\n"
    }
   },
   "source": [
    "# General Transit Feed Specification Realtime (GTFS Realtime)\n",
    "\n",
    "## Programos naudojančios GTFS realtime duomenis\n",
    "- Google Maps\n",
    "- OpenTripPlanner\n",
    "- OneBusAway\n",
    "- Bing Maps\n",
    "- Transit App\n",
    "- Traze.app\n",
    "- CityMapper\n",
    "\n",
    "Sudaryta pagal {cite}`transitwiki_gtfs_realtime_apps`"
   ]
  },
  {
   "cell_type": "markdown",
   "metadata": {
    "pycharm": {
     "name": "#%% md\n"
    }
   },
   "source": []
  }
 ],
 "metadata": {
  "kernelspec": {
   "display_name": "Python 3",
   "language": "python",
   "name": "python3"
  },
  "language_info": {
   "codemirror_mode": {
    "name": "ipython",
    "version": 2
   },
   "file_extension": ".py",
   "mimetype": "text/x-python",
   "name": "python",
   "nbconvert_exporter": "python",
   "pygments_lexer": "ipython2",
   "version": "2.7.6"
  }
 },
 "nbformat": 4,
 "nbformat_minor": 0
}
