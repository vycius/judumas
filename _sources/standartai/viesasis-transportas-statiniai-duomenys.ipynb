{
 "cells": [
  {
   "cell_type": "markdown",
   "metadata": {
    "pycharm": {
     "name": "#%% md\n"
    }
   },
   "source": [
    "# Statiniai duomenys\n",
    "\n",
    "Šiame skyriuje aprašomi pagrindiniai viešojo transporto statinių atvirų duomenų standartai.\n",
    "\n",
    "```{tableofcontents}\n",
    "```\n",
    "\n",
    "## Užsienio šalių gerosios praktikos\n",
    "### Prancūzija\n",
    "Toliau matomi Prancūzijoje naudojami viešojo transporto transporto statinių duomenų formatai pagal regioną.\n",
    "\n",
    "https://transport.data.gouv.fr/stats\n"
   ]
  },
  {
   "cell_type": "code",
   "execution_count": null,
   "metadata": {
    "pycharm": {
     "name": "#%%\n"
    }
   },
   "outputs": [],
   "source": []
  }
 ],
 "metadata": {
  "kernelspec": {
   "display_name": "Python 3",
   "language": "python",
   "name": "python3"
  },
  "language_info": {
   "codemirror_mode": {
    "name": "ipython",
    "version": 2
   },
   "file_extension": ".py",
   "mimetype": "text/x-python",
   "name": "python",
   "nbconvert_exporter": "python",
   "pygments_lexer": "ipython2",
   "version": "2.7.6"
  }
 },
 "nbformat": 4,
 "nbformat_minor": 0
}
