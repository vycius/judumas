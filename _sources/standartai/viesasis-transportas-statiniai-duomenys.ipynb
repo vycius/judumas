{
 "cells": [
  {
   "cell_type": "markdown",
   "metadata": {
    "pycharm": {
     "name": "#%% md\n"
    }
   },
   "source": [
    "# Statiniai duomenys\n",
    "\n",
    "Statiniai viešojo transporto duomenys suteikia bazinę informaciją, kurių pagalba keleivis sužino kur laukti autobuso, kada jis atvyks į stotelę, kokiu maršrutu autobusas važiuos, kiek kainuos kelionė.\n",
    "\n",
    "Toliau šiame skyriuje aprašomi pagrindiniai viešojo transporto statinių duomenų standartai.\n",
    "\n",
    "## Užsienio šalių gerosios praktikos\n",
    "### Prancūzija\n",
    "Toliau matomi Prancūzijoje naudojami viešojo transporto transporto statinių duomenų formatai pagal regioną.\n",
    "\n",
    "https://transport.data.gouv.fr/stats\n"
   ]
  },
  {
   "cell_type": "code",
   "execution_count": null,
   "metadata": {
    "pycharm": {
     "name": "#%%\n"
    }
   },
   "outputs": [],
   "source": []
  }
 ],
 "metadata": {
  "kernelspec": {
   "display_name": "Python 3",
   "language": "python",
   "name": "python3"
  },
  "language_info": {
   "codemirror_mode": {
    "name": "ipython",
    "version": 2
   },
   "file_extension": ".py",
   "mimetype": "text/x-python",
   "name": "python",
   "nbconvert_exporter": "python",
   "pygments_lexer": "ipython2",
   "version": "2.7.6"
  }
 },
 "nbformat": 4,
 "nbformat_minor": 0
}
