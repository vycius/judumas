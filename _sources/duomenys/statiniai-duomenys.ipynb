{
 "cells": [
  {
   "cell_type": "markdown",
   "metadata": {
    "pycharm": {
     "name": "#%% md\n"
    }
   },
   "source": [
    "# Statiniai duomenys\n",
    "\n",
    "Viešojo keleivinio transporto statiniai duomenys susideda iš informacijos apie:\n",
    "- Stotis, stoteles ir kitus maršrutų punktus;\n",
    "- Maršrutus;\n",
    "- Maršrutų trasos trajektorijas;\n",
    "- Reisus;\n",
    "- Tvarkaraščius\n",
    "\n",
    "Keleivinio transporto statiniai duomenys susideda iš:\n",
    "\n",
    "\n",
    "\n",
    "## Duomenų teikimo pagrindas\n",
    "\n",
    "Pagal transporto veiklos pagrindų įstatymą{cite}`transporto_veiklos_pagrindu_istatymas` ir duomenų kaupimo tvarkos aprašą duomenis į IS „Vintra“ (Viešojo transporto kelionių duomenų informacinė sistema) teikia{cite}`sumin_vintra_duomenu_kaupimo_tvarka`:\n",
    "1. Lietuvos automobilių kelių direkcija prie Susisiekimo ministerijos;\n",
    "2. Lietuvos transporto saugos administracija, valdanti ir organizuojanti keleivių vežimą tolimojo ir tarptautinio reguliariojo susisiekimo maršrutais;\n",
    "3. Savivaldybių institucijos arba jų įgaliotos įstaigos, valdančios ir organizuojančios keleivių vežimą vietinio (miesto ar priemiestinio) reguliariojo susisiekimo maršrutais;\n",
    "4. Oro ir jūrų uostus valdančios įmonės;\n",
    "5. Vežėjai, teikiantys keleivių vežimo viešuoju geležinkelių transportu paslaugas;\n",
    "6. Vežėjai, teikiantys keleivių vežimo viešuoju jūrų ir vidaus vandenų transportu paslaugas;\n",
    "7. Vežėjai, teikiantys keleivių vežimo reguliariojo susisiekimo kelių transporto maršrutais paslaugas ir turintys atitinkamą paslaugų teikimo licenciją arba leidimą.\n",
    "\n",
    "Toliau pateikiama lentelė, kurioje vaizduojama kokie duomenys turi būti teikiami pagal transporto rūšį{cite}`sumin_vintra_duomenu_kaupimo_tvarka`:\n",
    "\n",
    "```{table} Į VINTRA teikiami statiniai duomenys pagal transporto rūšį remiantis duomenų kaupimo tvarkos aprašu\n",
    ":name: vintra-static-transport-types-by-law\n",
    "\n",
    "| Rūšis                                               | Stotys, stotelės ir kiti maršrutų punktai | Maršruto trasos trajektorija | Maršrutai | Reisai | Tvarkaraščiai | Vežėjai | Tarifai ir kainoraščiai |\n",
    "|-----------------------------------------------------|-------------------------------------------|------------------------------|-----------|--------|---------------|---------|-------------------------|\n",
    "| Vietinis reguliarusis susiekimas                    | ✔️                                        | ✔️                           | ✔️        | ✔️     | ✔️            | ✔️      | ✔️                      |\n",
    "| Tolimasis ir tarptautinis reguliarusis susisiekimas | ✔️                                        | ✔️                           | ✔️        | ✔️     | ✔️            | ✔️      | ✔️                      |\n",
    "| Keleiviniai traukiniai                              | ✔️                                        | ✔️                           | ✔️        | ✔️     | ✔️            | ✔️      | ✔️                      |\n",
    "| Vidaus vandenų susisiekimas                         | ✔️                                        | ✔️                           | ✔️        | ✔️     | ✔️            | ✔️      | ✔️                      |\n",
    "| Jūrų transportu susisiekimas                        |                                           |                              | ✔️        | ✔️     | ✔️            | ✔️      |                         |\n",
    "| Lėktuvai                                            |                                           |                              | ✔️        | ✔️     | ✔️            | ✔️      |                         |\n",
    "```\n",
    "\n",
    "## VINTRA\n",
    "VINTRA (Viešojo transporto kelionių duomenų informacinė sistema) yra centrinė vieta į kurią vežėjai ir savivaldybės teikia viešojo transporto kelionių duomenis{cite}`transporto_veiklos_pagrindu_istatymas`. VINTRA yra skirta „centralizuotai kaupti maršrutų, maršrutų punktų ir reisų duomenis ir vykdyti maršrutų skirtingomis viešojo transporto rūšimis planavimą Lietuvos Respublikoje“{cite}`vintra_system`.\n",
    "\n",
    "> 13 straipnis 3 dalis: **Viešojo keleivinio transporto kelionių duomenys kaupiami viešojo transporto kelionių duomenų informacinėje sistemoje**, kurios valdytoją paskiria Vyriausybė ar jos įgaliota institucija. VINTRA yra skkirta centralizuotai kaupti maršrutų, maršrutų punktų ir reisų duomenis ir vykdyti maršrutų skirtingomis viešojo transporto rūšimis\n",
    "planavimą Lietuvos Respublikoje.\n",
    ">\n",
    "> Viešojo transporto kelionių duomenų kaupimo tvarką nustato Vyriausybė ar jos įgaliota institucija. Vežėjai ir savivaldybės teikia viešojo transporto kelionių duomenis, susijusius su tvarkaraščiais ir tarifais, ir informuoja duomenų tvarkytoją apie jų pasikeitimus.\n",
    ">\n",
    "> -- <cite>Lietuvos Respublikos transporto veiklos pagrindų įstatymas{cite}`transporto_veiklos_pagrindu_istatymas`</cite>\n",
    "\n",
    "VINTRA informacinės sistemos sukūrimas kainavo daugiau nei 1 mln. eurų{cite}`vintra_price`, o  palaikymo kaštai apie 24 tūkst. eurų be PVM per metus.\n",
    "\n",
    "\n",
    "\n",
    "Vežėjai ir savivaldybės statinius viešojo transporto kelionių duomenis į VINTRA gali pateikti trimis būdais:\n",
    "- Per VINTRA statinių duomenų redagavimo vartotojo sąsaja;\n",
    "- Per GTFS duomenų rinkinio failą;\n",
    "- Per NeTEx duomenų rinkinio failą.\n",
    "\n",
    "Tuomet visi viešojo transporto kelionių duomenys yra saugomi VINTRA duomenų bazėje. Iš saugomų viešojo transporto kelionių duomenų yra generuojami GTFS ir NeTEx duomenų rinkiniai, kurie atvirų duomenų pavidalu gali pasiekti duomenų naudotojus bei atvaizduojami visimarsrutai.lt svetainėje.\n",
    "\n",
    "\n",
    "\n",
    "\n"
   ]
  },
  {
   "cell_type": "code",
   "execution_count": null,
   "metadata": {
    "pycharm": {
     "name": "#%%\n"
    }
   },
   "outputs": [],
   "source": [
    "# from diagrams import Diagram, Cluster\n",
    "# from diagrams.gcp.compute import AppEngine\n",
    "# from diagrams.gcp.database import SQL\n",
    "# from diagrams.gcp.iot import IotCore\n",
    "# from diagrams.gcp.ml import AIHub\n",
    "# from diagrams.gcp.operations import Monitoring\n",
    "#\n",
    "# with Diagram(\"Statinių duomenų kelionė VINTRA\", filename='vintra-static-data-figure', show=False) as d:\n",
    "#     with Cluster(\"Statinių duomenų šaltiniai\"):\n",
    "#         vintra_interface = Monitoring(\"VINTRA\\nvartotojo sąsaja\")\n",
    "#         gtfs = IotCore(\"Išoriniai GTFS\\nduomenų rinkiniai\")\n",
    "#         netex = IotCore(\"Išoriniai NeTEx\\nduomenų rinkiniai\")\n",
    "#\n",
    "#     with Cluster(\"Atviri statiniai duomenys\"):\n",
    "#         open_data_formats = [\n",
    "#             AIHub(\"GTFS\\nduomenų rinkiniai\"),\n",
    "#             AIHub(\"NeTEx\\nduomenų rinkiniai\"),\n",
    "#         ]\n",
    "#\n",
    "#     visi_marsrutai = AppEngine(\"Svetainė\\nVisiMarsrutai.lt\")\n",
    "#\n",
    "#     vintra_static_db = SQL(\"VINTRA\\nstatiniai duomenys\")\n",
    "#\n",
    "#     # noinspection PyStatementEffect\n",
    "#     [\n",
    "#         vintra_interface,\n",
    "#         gtfs,\n",
    "#         netex,\n",
    "#     ] >> vintra_static_db\n",
    "#\n",
    "#     vintra_static_db >> visi_marsrutai\n",
    "#     vintra_static_db >> open_data_formats\n",
    "#\n",
    "#     display(d)"
   ]
  },
  {
   "cell_type": "markdown",
   "metadata": {
    "pycharm": {
     "name": "#%% md\n"
    }
   },
   "source": [
    "```{figure} ../images/duomenys/vintra-static-data-figure.png\n",
    "\n",
    "Statinių viešojo transporto kelionių duomenų kelionė VINTRA\n",
    "```"
   ]
  },
  {
   "cell_type": "code",
   "execution_count": null,
   "metadata": {
    "pycharm": {
     "name": "#%%\n"
    }
   },
   "outputs": [],
   "source": [
    "import json\n",
    "import os\n",
    "\n",
    "import pandas as pd\n",
    "import plotly.express as px\n",
    "\n",
    "working_directory = f'{os.getcwd()}/../data/saltiniai/vintra/'\n",
    "gtfs_files_directory = os.path.join(working_directory, 'gtfs')\n",
    "\n",
    "mapbox_access_token = open(\"../.mapbox_token\").read()\n",
    "px.set_mapbox_access_token(mapbox_access_token)\n",
    "\n",
    "lithuania_center = {'lat': 55.169438, 'lon': 23.881275}\n",
    "\n",
    "with open('../data/geojson/municipalities.geojson', 'r') as municipalities_geojson_file:\n",
    "    municipalities_geojson = json.load(municipalities_geojson_file)\n",
    "\n",
    "static_df = pd.read_csv(os.path.join(working_directory, 'vintra-statiniai-savivaldybiu-duomenys.csv'))\n",
    "\n",
    "fig = px.choropleth(\n",
    "    static_df,\n",
    "    geojson=municipalities_geojson,\n",
    "    locations=\"Savivaldybė\",\n",
    "    featureidkey=\"properties.name\",\n",
    "    color='Statusas',\n",
    "    color_discrete_sequence=['#00CC96', '#FFA15A', '#EF553B'],\n",
    "    category_orders={\n",
    "        \"Statusas\": [\"Įkeliama automatiškai\", \"Duomenys prieinami\", \"Nėra suvestų duomenų\"]},\n",
    "    fitbounds='locations',\n",
    "    basemap_visible=False,\n",
    "    projection=\"mercator\",\n",
    ")\n",
    "\n",
    "fig.update_layout(\n",
    "    margin={\"r\": 0, \"l\": 0, \"b\": 0},\n",
    "    title_text='Vietinio susisiekimo statinių duomenų situacija VINTRA savivaldybėse',\n",
    ")\n",
    "fig.show()\n",
    "fig.write_image('vietiniai.png')"
   ]
  },
  {
   "cell_type": "markdown",
   "metadata": {
    "pycharm": {
     "name": "#%% md\n"
    }
   },
   "source": [
    "## Kiti duomenų šaltiniai\n",
    "\n",
    "### Atvirų duomenų portalas\n",
    "Lietuvos atvirų duomenų portalas data.gov.lt yra vieningas prieigos taškas prie visų Lietuvoje atvertų duomenų rinkinių, tačiau šiame portale nėra vieno rinkinio susijusio su viešojo transporto kelionių duomenimis.\n",
    "\n",
    "```{admonition} Atvirų duomenų portalas be viešojo transporto kelionių duomenų\n",
    ":class: warning\n",
    "Viešojo transporto kelionių duomenimys nėra prieinami per atvirų duomenų portalą. Dėl šios priežasties potencialiems duomenų naudotojams yra sunkiau atrasti reikalingus duomenis bei viešojo transporto kelionių duomenys neįsijungia į bendrą Lietuvos atvirų duomenų ekosistemą.\n",
    "```\n"
   ]
  },
  {
   "cell_type": "markdown",
   "metadata": {
    "pycharm": {
     "name": "#%% md\n"
    }
   },
   "source": [
    "### Stops.lt\n",
    "\n",
    "| Apimtis                                                    | GTFS                                                            |\n",
    "|------------------------------------------------------------|-----------------------------------------------------------------|\n",
    "| [Vilniaus m. sav.](https://www.stops.lt/vilnius/)          | [GTFS](https://www.stops.lt/vilnius/vilnius/gtfs.zip)           |\n",
    "| [Kauno m. sav.](https://www.stops.lt/kaunas/)              | [GTFS](https://www.stops.lt/kaunas/kaunas/gtfs.zip)             |\n",
    "| [Klaipėdos m. sav.](https://www.stops.lt/klaipeda/)        | [GTFS](https://www.stops.lt/klaipeda/klaipeda/gtfs.zip)         |\n",
    "| [Šiaulių m. sav.](https://www.stops.lt/siauliai/)          | [GTFS](https://www.stops.lt/siauliai/siauliai/gtfs.zip)         |\n",
    "| [Panevėžio m. sav.](https://www.stops.lt/panevezys/)       | [GTFS](https://www.stops.lt/panevezys/panevezys/gtfs.zip)       |\n",
    "| [Alytaus m. sav.](https://www.stops.lt/alytus/)            | [GTFS](https://www.stops.lt/alytus/alytus/gtfs.zip)             |\n",
    "| [Druskininkų sav.](https://www.stops.lt/druskininkai/)     | [GTFS](https://www.stops.lt/druskininkai/druskininkai/gtfs.zip) |\n",
    "| [Tauragės regionas](https://www.stops.lt/taurage/)         | [GTFS](https://www.stops.lt/taurage/taurage/gtfs.zip)           |\n",
    "| [Lietuvos geležinkeliai](https://www.stops.lt/traukiniai/) | [GTFS](https://www.stops.lt/traukiniai/traukiniai/gtfs.zip)     |\n",
    "\n",
    "### Stops.lt naudojamumas"
   ]
  },
  {
   "cell_type": "code",
   "execution_count": null,
   "metadata": {
    "pycharm": {
     "name": "#%%\n"
    }
   },
   "outputs": [],
   "source": [
    "import pandas as pd\n",
    "import plotly.express as px\n",
    "\n",
    "df = pd.read_csv(\"../data/saltiniai/savivaldybiu-naudojamos-sistemos.csv\")\n",
    "\n",
    "fig = px.choropleth(\n",
    "    df,\n",
    "    geojson=municipalities_geojson,\n",
    "    locations=\"Savivaldybe\",\n",
    "    featureidkey=\"properties.name\",\n",
    "    color='Sistema',\n",
    "    center=lithuania_center,\n",
    "    title='Stops.lt naudojamumas Lietuvos savivaldybėse',\n",
    "    fitbounds='locations',\n",
    "    basemap_visible=False,\n",
    "    projection=\"mercator\"\n",
    ")\n",
    "fig.update_layout(margin={\"r\": 0, \"l\": 0, \"b\": 0})\n",
    "fig.show()"
   ]
  }
 ],
 "metadata": {
  "kernelspec": {
   "display_name": "Python 3",
   "language": "python",
   "name": "python3"
  },
  "language_info": {
   "codemirror_mode": {
    "name": "ipython",
    "version": 2
   },
   "file_extension": ".py",
   "mimetype": "text/x-python",
   "name": "python",
   "nbconvert_exporter": "python",
   "pygments_lexer": "ipython2",
   "version": "2.7.6"
  }
 },
 "nbformat": 4,
 "nbformat_minor": 0
}
