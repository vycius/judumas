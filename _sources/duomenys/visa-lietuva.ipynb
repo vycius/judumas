{
 "cells": [
  {
   "cell_type": "code",
   "execution_count": null,
   "metadata": {
    "pycharm": {
     "name": "#%%\n"
    }
   },
   "outputs": [],
   "source": [
    "# Visos Lietuvos duomenys\n",
    "\n",
    "## Stotelės"
   ]
  },
  {
   "cell_type": "code",
   "execution_count": null,
   "metadata": {
    "pycharm": {
     "name": "#%%\n"
    }
   },
   "outputs": [],
   "source": [
    "import json\n",
    "from zipfile import ZipFile\n",
    "import os\n",
    "\n",
    "import plotly.express as px\n",
    "import pandas as pd\n",
    "\n",
    "working_directory = f'{os.getcwd()}/../data/saltiniai/vintra/'\n",
    "gtfs_files_directory = os.path.join(working_directory, 'gtfs')\n",
    "\n",
    "mapbox_access_token = open(\"../.mapbox_token\").read()\n",
    "px.set_mapbox_access_token(mapbox_access_token)\n",
    "\n",
    "lithuania_center = {'lat': 55.169438, 'lon': 23.881275}\n",
    "\n",
    "with open('../data/geojson/municipalities.geojson', 'r') as municipalities_geojson_file:\n",
    "    municipalities_geojson = json.load(municipalities_geojson_file)\n",
    "\n",
    "with ZipFile(os.path.join(gtfs_files_directory, 'gtfs_all.zip')) as gtfs_zip:\n",
    "    stops_df = pd.read_csv(gtfs_zip.open(\"stops.txt\"))\n",
    "    routes_df = pd.read_csv(gtfs_zip.open(\"routes.txt\"))\n",
    "    trips_df = pd.read_csv(gtfs_zip.open(\"trips.txt\"))\n",
    "    calendar_df = pd.read_csv(gtfs_zip.open(\"calendar.txt\"), parse_dates=['start_date', 'end_date'])\n",
    "    agency_df = pd.read_csv(gtfs_zip.open(\"agency.txt\"))\n"
   ]
  },
  {
   "cell_type": "markdown",
   "metadata": {
    "pycharm": {
     "name": "#%% md\n"
    }
   },
   "source": []
  },
  {
   "cell_type": "code",
   "execution_count": null,
   "metadata": {
    "pycharm": {
     "name": "#%%\n"
    }
   },
   "outputs": [],
   "source": [
    "# print(stops_df['wheelchair_boarding'].value_counts())"
   ]
  },
  {
   "cell_type": "markdown",
   "metadata": {
    "pycharm": {
     "name": "#%% md\n"
    }
   },
   "source": [
    "```{admonition} Stotelių prieinamumo asmenims su judėjimo negalia informacijos nepateikimas\n",
    ":class: warning\n",
    "GTFS failuose nepateikiama informacija apie tai ar stotelės prieinamos asmenims su judėjimo negalia (stops.txt failas `wheelchair_boarding` atributas)\n",
    "```"
   ]
  },
  {
   "cell_type": "code",
   "execution_count": null,
   "metadata": {
    "pycharm": {
     "name": "#%%\n"
    }
   },
   "outputs": [],
   "source": [
    "stops_df.duplicated(['stop_lat', 'stop_lon']).value_counts()"
   ]
  }
 ],
 "metadata": {
  "kernelspec": {
   "display_name": "Python 3",
   "language": "python",
   "name": "python3"
  },
  "language_info": {
   "codemirror_mode": {
    "name": "ipython",
    "version": 2
   },
   "file_extension": ".py",
   "mimetype": "text/x-python",
   "name": "python",
   "nbconvert_exporter": "python",
   "pygments_lexer": "ipython2",
   "version": "2.7.6"
  }
 },
 "nbformat": 4,
 "nbformat_minor": 0
}
