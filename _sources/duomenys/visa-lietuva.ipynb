{
 "cells": [
  {
   "cell_type": "code",
   "execution_count": null,
   "metadata": {
    "pycharm": {
     "name": "#%%\n"
    }
   },
   "outputs": [],
   "source": [
    "# Visos Lietuvos duomenys\n",
    "\n",
    "## Stotelės"
   ]
  },
  {
   "cell_type": "code",
   "execution_count": null,
   "metadata": {
    "pycharm": {
     "name": "#%%\n"
    }
   },
   "outputs": [],
   "source": [
    "from io import BytesIO\n",
    "import requests\n",
    "import json\n",
    "from zipfile import ZipFile\n",
    "import os\n",
    "\n",
    "import plotly.express as px\n",
    "import pandas as pd\n",
    "import datetime\n",
    "\n",
    "working_directory = f'{os.getcwd()}/../data/saltiniai/vintra/'\n",
    "gtfs_files_directory = os.path.join(working_directory, 'gtfs')\n",
    "\n",
    "mapbox_access_token = open(\"../.mapbox_token\").read()\n",
    "px.set_mapbox_access_token(mapbox_access_token)\n",
    "\n",
    "lithuania_center = {'lat': 55.169438, 'lon': 23.881275}\n",
    "\n",
    "with open('../data/geojson/municipalities.geojson', 'r') as municipalities_geojson_file:\n",
    "    municipalities_geojson = json.load(municipalities_geojson_file)\n",
    "\n",
    "\n",
    "with ZipFile(os.path.join(gtfs_files_directory, 'gtfs_all.zip')) as gtfs_zip:\n",
    "    stops_df = pd.read_csv(gtfs_zip.open(\"stops.txt\"))\n",
    "    routes_df = pd.read_csv(gtfs_zip.open(\"routes.txt\"))\n",
    "    trips_df = pd.read_csv(gtfs_zip.open(\"trips.txt\"))\n",
    "    calendar_df = pd.read_csv(gtfs_zip.open(\"calendar.txt\"), parse_dates=['start_date', 'end_date'])\n",
    "    agency_df = pd.read_csv(gtfs_zip.open(\"agency.txt\"))\n",
    "\n",
    "    combined_df = trips_df.merge(calendar_df, on='service_id').merge(routes_df, on='route_id').merge(agency_df,\n",
    "                                                                                                     on='agency_id')\n",
    "\n",
    "total_routes_and_trips = combined_df.groupby('agency_name').agg(\n",
    "    {\n",
    "        'route_id': 'nunique',\n",
    "        'trip_id': 'nunique',\n",
    "        'end_date': ['min', 'mean', 'max'],\n",
    "    }\n",
    ")\n",
    "\n",
    "valid_routes_and_trips = combined_df[combined_df['end_date'] > '2022-06-06'].groupby('agency_name').agg(\n",
    "    {'route_id': 'nunique', 'trip_id': 'nunique'}).rename(\n",
    "    columns={'route_id': 'valid_routes', 'trip_id': 'valid_trips'})\n",
    "\n",
    "sorted_agencies = agency_df.iloc[agency_df['agency_name'].str.normalize('NFKD').argsort()]\n",
    "\n",
    "combined_stats = sorted_agencies[['agency_name']].merge(\n",
    "    total_routes_and_trips.merge(valid_routes_and_trips, left_index=True, right_index=True), how='left',\n",
    "    left_on='agency_name', right_index=True)\n",
    "\n",
    "combined_stats.columns = ['agency_name', 'total_routes', 'total_trips', 'min_trip_date', 'mean_trip_date',\n",
    "                          'max_trip_date', 'valid_routes', 'valid_trips', ]\n",
    "\n",
    "\n",
    "combined_stats['date'] = datetime.date(2022, 5, 18)\n",
    "combined_stats['mean_trip_date'] = combined_stats['mean_trip_date'].dt.date\n",
    "combined_stats[['total_routes', 'total_trips', 'valid_routes', 'valid_trips']] = combined_stats[\n",
    "    ['total_routes', 'total_trips', 'valid_routes', 'valid_trips']].fillna(0).astype(int)\n",
    "\n",
    "combined_stats.to_csv('lithuania-gtfs-stats.csv', )"
   ]
  },
  {
   "cell_type": "markdown",
   "metadata": {
    "pycharm": {
     "name": "#%% md\n"
    }
   },
   "source": []
  },
  {
   "cell_type": "code",
   "execution_count": null,
   "metadata": {
    "pycharm": {
     "name": "#%%\n"
    }
   },
   "outputs": [],
   "source": [
    "# print(stops_df['wheelchair_boarding'].value_counts())"
   ]
  },
  {
   "cell_type": "markdown",
   "metadata": {
    "pycharm": {
     "name": "#%% md\n"
    }
   },
   "source": [
    "```{admonition} Stotelių prieinamumo asmenims su judėjimo negalia informacijos nepateikimas\n",
    ":class: warning\n",
    "GTFS failuose nepateikiama informacija apie tai ar stotelės prieinamos asmenims su judėjimo negalia (stops.txt failas `wheelchair_boarding` atributas)\n",
    "```"
   ]
  },
  {
   "cell_type": "code",
   "execution_count": null,
   "metadata": {
    "pycharm": {
     "name": "#%%\n"
    }
   },
   "outputs": [],
   "source": [
    "stops_df.duplicated(['stop_lat', 'stop_lon']).value_counts()"
   ]
  }
 ],
 "metadata": {
  "kernelspec": {
   "display_name": "Python 3",
   "language": "python",
   "name": "python3"
  },
  "language_info": {
   "codemirror_mode": {
    "name": "ipython",
    "version": 2
   },
   "file_extension": ".py",
   "mimetype": "text/x-python",
   "name": "python",
   "nbconvert_exporter": "python",
   "pygments_lexer": "ipython2",
   "version": "2.7.6"
  }
 },
 "nbformat": 4,
 "nbformat_minor": 0
}
