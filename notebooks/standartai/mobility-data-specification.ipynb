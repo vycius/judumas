{
 "cells": [
  {
   "cell_type": "markdown",
   "metadata": {
    "collapsed": true,
    "pycharm": {
     "name": "#%% md\n"
    }
   },
   "source": [
    "# Mobility Data Specification\n",
    "\n",
    "Mobility Data Specification (MDS) yra vienas iš standartų paspirtukų kompanijų kontrolei yra. Šis standartas naudojamas daugiau nei 130 miestų {cite}`open_mobily_foundation_mds_countries` ir jau dabar palaikomas Bolt, Lime, Lyft ir kt.\n",
    "\n",
    "\n",
    "MDS suteikia galimybę kontroliuojančiai institucijai iš kompanijų gauti duomenis, kurie gali padėti:\n",
    "- Nagrinėjant skundus (paspirtukų palikimą neleistinose vietose, važiavimo greitį ir pnš.);\n",
    "- Incidentų tyrimui: eismo įvykio priežasčių nustatymas, traumos ir pnš;\n",
    "- Drausti palikti paspirtukus konkrečiose vietose;\n",
    "- Planuoti infrastruktūrą atsižvelgdami į naudojimą ir paklausą, paspirtukų pasiėmimą ir palikimą bei nuvažiuotas keliones;\n",
    "\n",
    "Pilnesnis galimų naudų sąrašas https://github.com/openmobilityfoundation/governance/wiki/MDS-Use-Cases#extracted-list"
   ]
  }
 ],
 "metadata": {
  "kernelspec": {
   "display_name": "Python 3",
   "language": "python",
   "name": "python3"
  },
  "language_info": {
   "codemirror_mode": {
    "name": "ipython",
    "version": 2
   },
   "file_extension": ".py",
   "mimetype": "text/x-python",
   "name": "python",
   "nbconvert_exporter": "python",
   "pygments_lexer": "ipython2",
   "version": "2.7.6"
  }
 },
 "nbformat": 4,
 "nbformat_minor": 0
}