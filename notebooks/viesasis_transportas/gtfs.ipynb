{
 "cells": [
  {
   "cell_type": "markdown",
   "metadata": {
    "collapsed": true,
    "pycharm": {
     "name": "#%% md\n"
    }
   },
   "source": [
    "# GTFS\n",
    "\n",
    "## Agentūros informacija (agency.txt)\n",
    "### GTFS Vilnius VINTRA"
   ]
  },
  {
   "cell_type": "code",
   "execution_count": 7,
   "outputs": [
    {
     "data": {
      "text/plain": "   agency_id       agency_name                      agency_url  \\\n0         59  Vilniaus m. sav.  http://www.vilniustransport.lt   \n\n  agency_timezone agency_lang  agency_phone  agency_fare_url  \n0  Europe/Vilnius          lt     852709339              NaN  ",
      "text/html": "<div>\n<style scoped>\n    .dataframe tbody tr th:only-of-type {\n        vertical-align: middle;\n    }\n\n    .dataframe tbody tr th {\n        vertical-align: top;\n    }\n\n    .dataframe thead th {\n        text-align: right;\n    }\n</style>\n<table border=\"1\" class=\"dataframe\">\n  <thead>\n    <tr style=\"text-align: right;\">\n      <th></th>\n      <th>agency_id</th>\n      <th>agency_name</th>\n      <th>agency_url</th>\n      <th>agency_timezone</th>\n      <th>agency_lang</th>\n      <th>agency_phone</th>\n      <th>agency_fare_url</th>\n    </tr>\n  </thead>\n  <tbody>\n    <tr>\n      <th>0</th>\n      <td>59</td>\n      <td>Vilniaus m. sav.</td>\n      <td>http://www.vilniustransport.lt</td>\n      <td>Europe/Vilnius</td>\n      <td>lt</td>\n      <td>852709339</td>\n      <td>NaN</td>\n    </tr>\n  </tbody>\n</table>\n</div>"
     },
     "execution_count": 7,
     "metadata": {},
     "output_type": "execute_result"
    }
   ],
   "source": [
    "from ipywidgets import HTML\n",
    "\n",
    "import pandas as pd\n",
    "\n",
    "vintra_agency_df = pd.read_csv('../../data/gtfs/vilnius/vintra/agency.txt')\n",
    "vintra_agency_df.style.set_table_attributes(\"style='display:inline'\").set_caption('Caption table')\n",
    "\n",
    "vintra_agency_df"
   ],
   "metadata": {
    "collapsed": false,
    "pycharm": {
     "name": "#%%\n"
    }
   }
  },
  {
   "cell_type": "code",
   "execution_count": 8,
   "outputs": [
    {
     "data": {
      "text/plain": "  agency_id                 agency_name                      agency_url  \\\n0   vilnius  SĮ \"Susisiekimo paslaugos\"  http://www.vilniustransport.lt   \n\n  agency_timezone   agency_phone agency_lang  \n0  Europe/Vilnius  370 5 2107050          lt  ",
      "text/html": "<div>\n<style scoped>\n    .dataframe tbody tr th:only-of-type {\n        vertical-align: middle;\n    }\n\n    .dataframe tbody tr th {\n        vertical-align: top;\n    }\n\n    .dataframe thead th {\n        text-align: right;\n    }\n</style>\n<table border=\"1\" class=\"dataframe\">\n  <thead>\n    <tr style=\"text-align: right;\">\n      <th></th>\n      <th>agency_id</th>\n      <th>agency_name</th>\n      <th>agency_url</th>\n      <th>agency_timezone</th>\n      <th>agency_phone</th>\n      <th>agency_lang</th>\n    </tr>\n  </thead>\n  <tbody>\n    <tr>\n      <th>0</th>\n      <td>vilnius</td>\n      <td>SĮ \"Susisiekimo paslaugos\"</td>\n      <td>http://www.vilniustransport.lt</td>\n      <td>Europe/Vilnius</td>\n      <td>370 5 2107050</td>\n      <td>lt</td>\n    </tr>\n  </tbody>\n</table>\n</div>"
     },
     "execution_count": 8,
     "metadata": {},
     "output_type": "execute_result"
    }
   ],
   "source": [],
   "metadata": {
    "collapsed": false,
    "pycharm": {
     "name": "#%%\n"
    }
   }
  },
  {
   "cell_type": "code",
   "execution_count": null,
   "outputs": [],
   "source": [],
   "metadata": {
    "collapsed": false,
    "pycharm": {
     "name": "#%%\n"
    }
   }
  }
 ],
 "metadata": {
  "kernelspec": {
   "display_name": "Python 3",
   "language": "python",
   "name": "python3"
  },
  "language_info": {
   "codemirror_mode": {
    "name": "ipython",
    "version": 2
   },
   "file_extension": ".py",
   "mimetype": "text/x-python",
   "name": "python",
   "nbconvert_exporter": "python",
   "pygments_lexer": "ipython2",
   "version": "2.7.6"
  }
 },
 "nbformat": 4,
 "nbformat_minor": 0
}