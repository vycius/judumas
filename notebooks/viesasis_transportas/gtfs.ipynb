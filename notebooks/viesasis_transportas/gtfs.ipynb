{
 "cells": [
  {
   "cell_type": "markdown",
   "metadata": {
    "collapsed": true,
    "pycharm": {
     "name": "#%% md\n"
    }
   },
   "source": [
    "# GTFS\n",
    "\n",
    "## Agentūros informacija (agency.txt)\n",
    "### GTFS VINTRA"
   ]
  },
  {
   "cell_type": "code",
   "execution_count": 99,
   "metadata": {
    "pycharm": {
     "name": "#%%\n"
    },
    "tags": [
     "hide-input"
    ]
   },
   "outputs": [
    {
     "data": {
      "application/javascript": [
       "if (typeof require !== 'undefined')\n",
       "    require.config({\n",
       "        paths: {\n",
       "            jquery: 'https://code.jquery.com/jquery-3.5.1.min',\n",
       "            datatables: 'https://cdn.datatables.net/1.11.3/js/jquery.dataTables.min',\n",
       "        }\n",
       "    });\n"
      ],
      "text/plain": [
       "<IPython.core.display.Javascript object>"
      ]
     },
     "metadata": {},
     "output_type": "display_data"
    }
   ],
   "source": [
    "import pandas as pd\n",
    "from itables import init_notebook_mode\n",
    "import os\n",
    "import subprocess\n",
    "\n",
    "init_notebook_mode(all_interactive=True)\n"
   ]
  },
  {
   "cell_type": "code",
   "execution_count": 100,
   "metadata": {
    "pycharm": {
     "name": "#%%\n"
    },
    "tags": [
     "hide-input"
    ]
   },
   "outputs": [
    {
     "data": {
      "text/html": [
       "<table id=\"e384fd38-5078-4f48-8039-d5d8bae2d83e\" class=\"display\"style=\"max-width:100%\"><thead><th></th><th>agency.txt</th><th>calendar.txt</th><th>calendar_dates.txt</th><th>routes.txt</th><th>shapes.txt</th><th>stop_times.txt</th><th>stops.txt</th><th>trips.txt</th><th>fare_attributes.txt</th><th>fare_rules.txt</th><th>attributions.txt</th><th>feed_info.txt</th><th>frequencies.txt</th><th>levels.txt</th><th>pathways.txt</th><th>transfers.txt</th><th>translations.txt</th></thead><tbody><tr><td>Loading... (need <a href=https://mwouts.github.io/itables/troubleshooting.html>help</a>?)</td></tr></tbody></table>\n",
       "<link rel=\"stylesheet\" type=\"text/css\" href=\"https://cdn.datatables.net/1.11.3/css/jquery.dataTables.min.css\">\n",
       "<style> table td {\n",
       "    text-overflow: ellipsis;\n",
       "    overflow: hidden;\n",
       "} </style>\n",
       "<style> table th {\n",
       "    text-overflow: ellipsis;\n",
       "    overflow: hidden;\n",
       "} </style>\n",
       "<script type=\"module\">\n",
       "    // Define the table data\n",
       "    const data = [[\"AlytausM\", \"1\", \"36\", \"109\", \"16\", \"10780\", \"5744\", \"190\", \"297\", \"\\u274c\", \"\\u274c\", \"\\u26a0\\ufe0f\", \"\\u26a0\\ufe0f\", \"\\u26a0\\ufe0f\", \"\\u26a0\\ufe0f\", \"\\u26a0\\ufe0f\", \"\\u26a0\\ufe0f\", \"\\u26a0\\ufe0f\"], [\"AlytausR\", \"1\", \"7\", \"77\", \"25\", \"61971\", \"2885\", \"434\", \"171\", \"\\u274c\", \"\\u274c\", \"\\u26a0\\ufe0f\", \"\\u26a0\\ufe0f\", \"\\u26a0\\ufe0f\", \"\\u26a0\\ufe0f\", \"\\u26a0\\ufe0f\", \"\\u26a0\\ufe0f\", \"\\u26a0\\ufe0f\"], [\"AnyksciuR\", \"1\", \"33\", \"\\u274c\", \"32\", \"54145\", \"2627\", \"365\", \"188\", \"\\u274c\", \"\\u274c\", \"\\u26a0\\ufe0f\", \"\\u26a0\\ufe0f\", \"\\u26a0\\ufe0f\", \"\\u26a0\\ufe0f\", \"\\u26a0\\ufe0f\", \"\\u26a0\\ufe0f\", \"\\u26a0\\ufe0f\"], [\"Birstono\", \"\\u274c\", \"\\u274c\", \"\\u274c\", \"\\u274c\", \"\\u274c\", \"\\u274c\", \"\\u274c\", \"\\u274c\", \"\\u274c\", \"\\u274c\", \"\\u26a0\\ufe0f\", \"\\u26a0\\ufe0f\", \"\\u26a0\\ufe0f\", \"\\u26a0\\ufe0f\", \"\\u26a0\\ufe0f\", \"\\u26a0\\ufe0f\", \"\\u26a0\\ufe0f\"], [\"BirzuR\", \"1\", \"40\", \"3826\", \"\\u274c\", \"\\u274c\", \"\\u274c\", \"\\u274c\", \"\\u274c\", \"\\u274c\", \"\\u274c\", \"\\u26a0\\ufe0f\", \"\\u26a0\\ufe0f\", \"\\u26a0\\ufe0f\", \"\\u26a0\\ufe0f\", \"\\u26a0\\ufe0f\", \"\\u26a0\\ufe0f\", \"\\u26a0\\ufe0f\"], [\"Druskininku\", \"1\", \"19\", \"216\", \"\\u274c\", \"\\u274c\", \"\\u274c\", \"\\u274c\", \"\\u274c\", \"\\u274c\", \"\\u274c\", \"\\u26a0\\ufe0f\", \"\\u26a0\\ufe0f\", \"\\u26a0\\ufe0f\", \"\\u26a0\\ufe0f\", \"\\u26a0\\ufe0f\", \"\\u26a0\\ufe0f\", \"\\u26a0\\ufe0f\"], [\"Elektrenu\", \"1\", \"18\", \"1004\", \"4\", \"7359\", \"434\", \"101\", \"25\", \"\\u274c\", \"\\u274c\", \"\\u26a0\\ufe0f\", \"\\u26a0\\ufe0f\", \"\\u26a0\\ufe0f\", \"\\u26a0\\ufe0f\", \"\\u26a0\\ufe0f\", \"\\u26a0\\ufe0f\", \"\\u26a0\\ufe0f\"], [\"IgnalinosR\", \"1\", \"50\", \"2376\", \"35\", \"70088\", \"1608\", \"346\", \"100\", \"\\u274c\", \"\\u274c\", \"\\u26a0\\ufe0f\", \"\\u26a0\\ufe0f\", \"\\u26a0\\ufe0f\", \"\\u26a0\\ufe0f\", \"\\u26a0\\ufe0f\", \"\\u26a0\\ufe0f\", \"\\u26a0\\ufe0f\"], [\"JonavosR\", \"1\", \"19\", \"488\", \"24\", \"28129\", \"6866\", \"292\", \"463\", \"\\u274c\", \"\\u274c\", \"\\u26a0\\ufe0f\", \"\\u26a0\\ufe0f\", \"\\u26a0\\ufe0f\", \"\\u26a0\\ufe0f\", \"\\u26a0\\ufe0f\", \"\\u26a0\\ufe0f\", \"\\u26a0\\ufe0f\"], [\"JoniskioR\", \"1\", \"10\", \"1158\", \"16\", \"24567\", \"880\", \"185\", \"52\", \"\\u274c\", \"\\u274c\", \"\\u26a0\\ufe0f\", \"\\u26a0\\ufe0f\", \"\\u26a0\\ufe0f\", \"\\u26a0\\ufe0f\", \"\\u26a0\\ufe0f\", \"\\u26a0\\ufe0f\", \"\\u26a0\\ufe0f\"], [\"JurbarkoR\", \"1\", \"12\", \"\\u274c\", \"15\", \"34360\", \"941\", \"269\", \"64\", \"\\u274c\", \"\\u274c\", \"\\u26a0\\ufe0f\", \"\\u26a0\\ufe0f\", \"\\u26a0\\ufe0f\", \"\\u26a0\\ufe0f\", \"\\u26a0\\ufe0f\", \"\\u26a0\\ufe0f\", \"\\u26a0\\ufe0f\"], [\"Kalvarijos\", \"1\", \"7\", \"\\u274c\", \"\\u274c\", \"\\u274c\", \"\\u274c\", \"\\u274c\", \"\\u274c\", \"\\u274c\", \"\\u274c\", \"\\u26a0\\ufe0f\", \"\\u26a0\\ufe0f\", \"\\u26a0\\ufe0f\", \"\\u26a0\\ufe0f\", \"\\u26a0\\ufe0f\", \"\\u26a0\\ufe0f\", \"\\u26a0\\ufe0f\"], [\"KaunoM\", \"1\", \"387\", \"1140\", \"\\u274c\", \"\\u274c\", \"\\u274c\", \"\\u274c\", \"\\u274c\", \"\\u274c\", \"\\u274c\", \"\\u26a0\\ufe0f\", \"\\u26a0\\ufe0f\", \"\\u26a0\\ufe0f\", \"\\u26a0\\ufe0f\", \"\\u26a0\\ufe0f\", \"\\u26a0\\ufe0f\", \"\\u26a0\\ufe0f\"], [\"KaunoR\", \"1\", \"91\", \"737\", \"23\", \"20259\", \"13005\", \"677\", \"548\", \"\\u274c\", \"\\u274c\", \"\\u26a0\\ufe0f\", \"\\u26a0\\ufe0f\", \"\\u26a0\\ufe0f\", \"\\u26a0\\ufe0f\", \"\\u26a0\\ufe0f\", \"\\u26a0\\ufe0f\", \"\\u26a0\\ufe0f\"], [\"Kazlurudos\", \"1\", \"\\u274c\", \"\\u274c\", \"\\u274c\", \"\\u274c\", \"\\u274c\", \"\\u274c\", \"\\u274c\", \"\\u274c\", \"\\u274c\", \"\\u26a0\\ufe0f\", \"\\u26a0\\ufe0f\", \"\\u26a0\\ufe0f\", \"\\u26a0\\ufe0f\", \"\\u26a0\\ufe0f\", \"\\u26a0\\ufe0f\", \"\\u26a0\\ufe0f\"], [\"KedainiuR\", \"1\", \"16\", \"\\u274c\", \"34\", \"41789\", \"4685\", \"302\", \"328\", \"\\u274c\", \"\\u274c\", \"\\u26a0\\ufe0f\", \"\\u26a0\\ufe0f\", \"\\u26a0\\ufe0f\", \"\\u26a0\\ufe0f\", \"\\u26a0\\ufe0f\", \"\\u26a0\\ufe0f\", \"\\u26a0\\ufe0f\"], [\"KelmesR\", \"1\", \"80\", \"1918\", \"321\", \"2193524\", \"19387\", \"2744\", \"934\", \"\\u274c\", \"\\u274c\", \"\\u26a0\\ufe0f\", \"\\u26a0\\ufe0f\", \"\\u26a0\\ufe0f\", \"\\u26a0\\ufe0f\", \"\\u26a0\\ufe0f\", \"\\u26a0\\ufe0f\", \"\\u26a0\\ufe0f\"], [\"KiasiadoriuR\", \"1\", \"9\", \"\\u274c\", \"2\", \"3404\", \"46\", \"27\", \"2\", \"\\u274c\", \"\\u274c\", \"\\u26a0\\ufe0f\", \"\\u26a0\\ufe0f\", \"\\u26a0\\ufe0f\", \"\\u26a0\\ufe0f\", \"\\u26a0\\ufe0f\", \"\\u26a0\\ufe0f\", \"\\u26a0\\ufe0f\"], [\"KlaipedosM\", \"1\", \"449\", \"1352\", \"1\", \"331\", \"217\", \"30\", \"14\", \"\\u274c\", \"\\u274c\", \"\\u26a0\\ufe0f\", \"\\u26a0\\ufe0f\", \"\\u26a0\\ufe0f\", \"\\u26a0\\ufe0f\", \"\\u26a0\\ufe0f\", \"\\u26a0\\ufe0f\", \"\\u26a0\\ufe0f\"], [\"KlaipedosR\", \"1\", \"80\", \"1918\", \"321\", \"2193524\", \"19387\", \"2744\", \"934\", \"\\u274c\", \"\\u274c\", \"\\u26a0\\ufe0f\", \"\\u26a0\\ufe0f\", \"\\u26a0\\ufe0f\", \"\\u26a0\\ufe0f\", \"\\u26a0\\ufe0f\", \"\\u26a0\\ufe0f\", \"\\u26a0\\ufe0f\"], [\"KretingosR\", \"1\", \"12\", \"963\", \"67\", \"31888\", \"2748\", \"242\", \"199\", \"\\u274c\", \"\\u274c\", \"\\u26a0\\ufe0f\", \"\\u26a0\\ufe0f\", \"\\u26a0\\ufe0f\", \"\\u26a0\\ufe0f\", \"\\u26a0\\ufe0f\", \"\\u26a0\\ufe0f\", \"\\u26a0\\ufe0f\"], [\"KupiskioR\", \"1\", \"\\u274c\", \"\\u274c\", \"\\u274c\", \"\\u274c\", \"\\u274c\", \"\\u274c\", \"\\u274c\", \"\\u274c\", \"\\u274c\", \"\\u26a0\\ufe0f\", \"\\u26a0\\ufe0f\", \"\\u26a0\\ufe0f\", \"\\u26a0\\ufe0f\", \"\\u26a0\\ufe0f\", \"\\u26a0\\ufe0f\", \"\\u26a0\\ufe0f\"], [\"LTSAR\", \"1\", \"105\", \"2922\", \"273\", \"1860906\", \"16101\", \"2377\", \"804\", \"\\u274c\", \"\\u274c\", \"\\u26a0\\ufe0f\", \"\\u26a0\\ufe0f\", \"\\u26a0\\ufe0f\", \"\\u26a0\\ufe0f\", \"\\u26a0\\ufe0f\", \"\\u26a0\\ufe0f\", \"\\u26a0\\ufe0f\"], [\"LazdijuR\", \"1\", \"1\", \"\\u274c\", \"\\u274c\", \"\\u274c\", \"\\u274c\", \"\\u274c\", \"\\u274c\", \"\\u274c\", \"\\u274c\", \"\\u26a0\\ufe0f\", \"\\u26a0\\ufe0f\", \"\\u26a0\\ufe0f\", \"\\u26a0\\ufe0f\", \"\\u26a0\\ufe0f\", \"\\u26a0\\ufe0f\", \"\\u26a0\\ufe0f\"], [\"Marijampoles\", \"1\", \"10\", \"\\u274c\", \"13\", \"13588\", \"3996\", \"216\", \"249\", \"\\u274c\", \"\\u274c\", \"\\u26a0\\ufe0f\", \"\\u26a0\\ufe0f\", \"\\u26a0\\ufe0f\", \"\\u26a0\\ufe0f\", \"\\u26a0\\ufe0f\", \"\\u26a0\\ufe0f\", \"\\u26a0\\ufe0f\"], [\"MazeikiuR\", \"1\", \"6\", \"\\u274c\", \"26\", \"30848\", \"1909\", \"274\", \"157\", \"\\u274c\", \"\\u274c\", \"\\u26a0\\ufe0f\", \"\\u26a0\\ufe0f\", \"\\u26a0\\ufe0f\", \"\\u26a0\\ufe0f\", \"\\u26a0\\ufe0f\", \"\\u26a0\\ufe0f\", \"\\u26a0\\ufe0f\"], [\"MoletuR\", \"1\", \"38\", \"\\u274c\", \"36\", \"42024\", \"919\", \"254\", \"64\", \"\\u274c\", \"\\u274c\", \"\\u26a0\\ufe0f\", \"\\u26a0\\ufe0f\", \"\\u26a0\\ufe0f\", \"\\u26a0\\ufe0f\", \"\\u26a0\\ufe0f\", \"\\u26a0\\ufe0f\", \"\\u26a0\\ufe0f\"], [\"PagegiuR\", \"1\", \"2\", \"24\", \"2\", \"4509\", \"94\", \"79\", \"4\", \"\\u274c\", \"\\u274c\", \"\\u26a0\\ufe0f\", \"\\u26a0\\ufe0f\", \"\\u26a0\\ufe0f\", \"\\u26a0\\ufe0f\", \"\\u26a0\\ufe0f\", \"\\u26a0\\ufe0f\", \"\\u26a0\\ufe0f\"], [\"PakruojoR\", \"1\", \"33\", \"1505\", \"\\u274c\", \"\\u274c\", \"\\u274c\", \"\\u274c\", \"\\u274c\", \"\\u274c\", \"\\u274c\", \"\\u26a0\\ufe0f\", \"\\u26a0\\ufe0f\", \"\\u26a0\\ufe0f\", \"\\u26a0\\ufe0f\", \"\\u26a0\\ufe0f\", \"\\u26a0\\ufe0f\", \"\\u26a0\\ufe0f\"], [\"PalangosM\", \"1\", \"1\", \"92\", \"1\", \"1708\", \"160\", \"27\", \"10\", \"\\u274c\", \"\\u274c\", \"\\u26a0\\ufe0f\", \"\\u26a0\\ufe0f\", \"\\u26a0\\ufe0f\", \"\\u26a0\\ufe0f\", \"\\u26a0\\ufe0f\", \"\\u26a0\\ufe0f\", \"\\u26a0\\ufe0f\"], [\"PanevezioM\", \"1\", \"99\", \"108\", \"\\u274c\", \"\\u274c\", \"\\u274c\", \"\\u274c\", \"\\u274c\", \"\\u274c\", \"\\u274c\", \"\\u26a0\\ufe0f\", \"\\u26a0\\ufe0f\", \"\\u26a0\\ufe0f\", \"\\u26a0\\ufe0f\", \"\\u26a0\\ufe0f\", \"\\u26a0\\ufe0f\", \"\\u26a0\\ufe0f\"], [\"PanevezioR\", \"1\", \"\\u274c\", \"\\u274c\", \"\\u274c\", \"\\u274c\", \"\\u274c\", \"\\u274c\", \"\\u274c\", \"\\u274c\", \"\\u274c\", \"\\u26a0\\ufe0f\", \"\\u26a0\\ufe0f\", \"\\u26a0\\ufe0f\", \"\\u26a0\\ufe0f\", \"\\u26a0\\ufe0f\", \"\\u26a0\\ufe0f\", \"\\u26a0\\ufe0f\"], [\"PasvalioR\", \"1\", \"95\", \"2073\", \"321\", \"2201594\", \"19531\", \"2725\", \"942\", \"\\u274c\", \"\\u274c\", \"\\u26a0\\ufe0f\", \"\\u26a0\\ufe0f\", \"\\u26a0\\ufe0f\", \"\\u26a0\\ufe0f\", \"\\u26a0\\ufe0f\", \"\\u26a0\\ufe0f\", \"\\u26a0\\ufe0f\"], [\"PlungesR\", \"1\", \"21\", \"\\u274c\", \"25\", \"29144\", \"2687\", \"244\", \"281\", \"\\u274c\", \"\\u274c\", \"\\u26a0\\ufe0f\", \"\\u26a0\\ufe0f\", \"\\u26a0\\ufe0f\", \"\\u26a0\\ufe0f\", \"\\u26a0\\ufe0f\", \"\\u26a0\\ufe0f\", \"\\u26a0\\ufe0f\"], [\"PrienuR\", \"1\", \"\\u274c\", \"\\u274c\", \"\\u274c\", \"\\u274c\", \"\\u274c\", \"\\u274c\", \"\\u274c\", \"\\u274c\", \"\\u274c\", \"\\u26a0\\ufe0f\", \"\\u26a0\\ufe0f\", \"\\u26a0\\ufe0f\", \"\\u26a0\\ufe0f\", \"\\u26a0\\ufe0f\", \"\\u26a0\\ufe0f\", \"\\u26a0\\ufe0f\"], [\"RadviliskioR\", \"1\", \"80\", \"3944\", \"54\", \"58635\", \"4077\", \"468\", \"302\", \"\\u274c\", \"\\u274c\", \"\\u26a0\\ufe0f\", \"\\u26a0\\ufe0f\", \"\\u26a0\\ufe0f\", \"\\u26a0\\ufe0f\", \"\\u26a0\\ufe0f\", \"\\u26a0\\ufe0f\", \"\\u26a0\\ufe0f\"], [\"RaseiniuR\", \"1\", \"34\", \"1911\", \"21\", \"18570\", \"787\", \"211\", \"61\", \"\\u274c\", \"\\u274c\", \"\\u26a0\\ufe0f\", \"\\u26a0\\ufe0f\", \"\\u26a0\\ufe0f\", \"\\u26a0\\ufe0f\", \"\\u26a0\\ufe0f\", \"\\u26a0\\ufe0f\", \"\\u26a0\\ufe0f\"], [\"Rietavo\", \"1\", \"1\", \"\\u274c\", \"2\", \"903\", \"24\", \"10\", \"4\", \"\\u274c\", \"\\u274c\", \"\\u26a0\\ufe0f\", \"\\u26a0\\ufe0f\", \"\\u26a0\\ufe0f\", \"\\u26a0\\ufe0f\", \"\\u26a0\\ufe0f\", \"\\u26a0\\ufe0f\", \"\\u26a0\\ufe0f\"], [\"RokiskioR\", \"1\", \"32\", \"174\", \"23\", \"53801\", \"2685\", \"362\", \"159\", \"\\u274c\", \"\\u274c\", \"\\u26a0\\ufe0f\", \"\\u26a0\\ufe0f\", \"\\u26a0\\ufe0f\", \"\\u26a0\\ufe0f\", \"\\u26a0\\ufe0f\", \"\\u26a0\\ufe0f\", \"\\u26a0\\ufe0f\"], [\"SalcininkuR\", \"1\", \"8\", \"36\", \"2\", \"4813\", \"1027\", \"50\", \"41\", \"\\u274c\", \"\\u274c\", \"\\u26a0\\ufe0f\", \"\\u26a0\\ufe0f\", \"\\u26a0\\ufe0f\", \"\\u26a0\\ufe0f\", \"\\u26a0\\ufe0f\", \"\\u26a0\\ufe0f\", \"\\u26a0\\ufe0f\"], [\"SiauliuM\", \"1\", \"9\", \"5\", \"2\", \"236\", \"256\", \"22\", \"32\", \"\\u274c\", \"\\u274c\", \"\\u26a0\\ufe0f\", \"\\u26a0\\ufe0f\", \"\\u26a0\\ufe0f\", \"\\u26a0\\ufe0f\", \"\\u26a0\\ufe0f\", \"\\u26a0\\ufe0f\", \"\\u26a0\\ufe0f\"], [\"SiauliuR\", \"1\", \"63\", \"1117\", \"25\", \"33828\", \"2257\", \"291\", \"160\", \"\\u274c\", \"\\u274c\", \"\\u26a0\\ufe0f\", \"\\u26a0\\ufe0f\", \"\\u26a0\\ufe0f\", \"\\u26a0\\ufe0f\", \"\\u26a0\\ufe0f\", \"\\u26a0\\ufe0f\", \"\\u26a0\\ufe0f\"], [\"SilalesR\", \"1\", \"2\", \"\\u274c\", \"22\", \"17549\", \"367\", \"141\", \"43\", \"\\u274c\", \"\\u274c\", \"\\u26a0\\ufe0f\", \"\\u26a0\\ufe0f\", \"\\u26a0\\ufe0f\", \"\\u26a0\\ufe0f\", \"\\u26a0\\ufe0f\", \"\\u26a0\\ufe0f\", \"\\u26a0\\ufe0f\"], [\"SilutesR\", \"1\", \"23\", \"\\u274c\", \"18\", \"34021\", \"1240\", \"259\", \"93\", \"\\u274c\", \"\\u274c\", \"\\u26a0\\ufe0f\", \"\\u26a0\\ufe0f\", \"\\u26a0\\ufe0f\", \"\\u26a0\\ufe0f\", \"\\u26a0\\ufe0f\", \"\\u26a0\\ufe0f\", \"\\u26a0\\ufe0f\"], [\"SkuodoR\", \"1\", \"26\", \"\\u274c\", \"36\", \"36752\", \"978\", \"176\", \"118\", \"\\u274c\", \"\\u274c\", \"\\u26a0\\ufe0f\", \"\\u26a0\\ufe0f\", \"\\u26a0\\ufe0f\", \"\\u26a0\\ufe0f\", \"\\u26a0\\ufe0f\", \"\\u26a0\\ufe0f\", \"\\u26a0\\ufe0f\"], [\"SvencioniuR\", \"1\", \"28\", \"\\u274c\", \"12\", \"21860\", \"1962\", \"288\", \"138\", \"\\u274c\", \"\\u274c\", \"\\u26a0\\ufe0f\", \"\\u26a0\\ufe0f\", \"\\u26a0\\ufe0f\", \"\\u26a0\\ufe0f\", \"\\u26a0\\ufe0f\", \"\\u26a0\\ufe0f\", \"\\u26a0\\ufe0f\"], [\"TauragesR\", \"1\", \"22\", \"3259\", \"45\", \"49812\", \"2082\", \"331\", \"185\", \"\\u274c\", \"\\u274c\", \"\\u26a0\\ufe0f\", \"\\u26a0\\ufe0f\", \"\\u26a0\\ufe0f\", \"\\u26a0\\ufe0f\", \"\\u26a0\\ufe0f\", \"\\u26a0\\ufe0f\", \"\\u26a0\\ufe0f\"], [\"Taurages_R\", \"1\", \"22\", \"3259\", \"45\", \"49812\", \"2082\", \"331\", \"185\", \"\\u274c\", \"\\u274c\", \"\\u26a0\\ufe0f\", \"\\u26a0\\ufe0f\", \"\\u26a0\\ufe0f\", \"\\u26a0\\ufe0f\", \"\\u26a0\\ufe0f\", \"\\u26a0\\ufe0f\", \"\\u26a0\\ufe0f\"], [\"TrakuR\", \"1\", \"8\", \"78\", \"33\", \"35050\", \"2436\", \"283\", \"207\", \"\\u274c\", \"\\u274c\", \"\\u26a0\\ufe0f\", \"\\u26a0\\ufe0f\", \"\\u26a0\\ufe0f\", \"\\u26a0\\ufe0f\", \"\\u26a0\\ufe0f\", \"\\u26a0\\ufe0f\", \"\\u26a0\\ufe0f\"], [\"UkmergesR\", \"1\", \"87\", \"234\", \"26\", \"65622\", \"4968\", \"338\", \"409\", \"\\u274c\", \"\\u274c\", \"\\u26a0\\ufe0f\", \"\\u26a0\\ufe0f\", \"\\u26a0\\ufe0f\", \"\\u26a0\\ufe0f\", \"\\u26a0\\ufe0f\", \"\\u26a0\\ufe0f\", \"\\u26a0\\ufe0f\"], [\"UtenosR\", \"1\", \"110\", \"6100\", \"53\", \"60421\", \"3900\", \"453\", \"276\", \"\\u274c\", \"\\u274c\", \"\\u26a0\\ufe0f\", \"\\u26a0\\ufe0f\", \"\\u26a0\\ufe0f\", \"\\u26a0\\ufe0f\", \"\\u26a0\\ufe0f\", \"\\u26a0\\ufe0f\", \"\\u26a0\\ufe0f\"], [\"VarenosR\", \"1\", \"24\", \"2593\", \"15\", \"81197\", \"1967\", \"305\", \"104\", \"\\u274c\", \"\\u274c\", \"\\u26a0\\ufe0f\", \"\\u26a0\\ufe0f\", \"\\u26a0\\ufe0f\", \"\\u26a0\\ufe0f\", \"\\u26a0\\ufe0f\", \"\\u26a0\\ufe0f\", \"\\u26a0\\ufe0f\"], [\"VilkaviskioR\", \"1\", \"11\", \"\\u274c\", \"38\", \"32095\", \"1400\", \"181\", \"145\", \"\\u274c\", \"\\u274c\", \"\\u26a0\\ufe0f\", \"\\u26a0\\ufe0f\", \"\\u26a0\\ufe0f\", \"\\u26a0\\ufe0f\", \"\\u26a0\\ufe0f\", \"\\u26a0\\ufe0f\", \"\\u26a0\\ufe0f\"], [\"VilniausM\", \"1\", \"1521\", \"2690\", \"96\", \"106209\", \"477375\", \"1394\", \"24010\", \"\\u274c\", \"\\u274c\", \"\\u26a0\\ufe0f\", \"\\u26a0\\ufe0f\", \"\\u26a0\\ufe0f\", \"\\u26a0\\ufe0f\", \"\\u26a0\\ufe0f\", \"\\u26a0\\ufe0f\", \"\\u26a0\\ufe0f\"], [\"VilniausR\", \"1\", \"23\", \"\\u274c\", \"3\", \"3109\", \"870\", \"52\", \"117\", \"\\u274c\", \"\\u274c\", \"\\u26a0\\ufe0f\", \"\\u26a0\\ufe0f\", \"\\u26a0\\ufe0f\", \"\\u26a0\\ufe0f\", \"\\u26a0\\ufe0f\", \"\\u26a0\\ufe0f\", \"\\u26a0\\ufe0f\"], [\"VisaginoM\", \"1\", \"1\", \"\\u274c\", \"1\", \"638\", \"116\", \"16\", \"4\", \"\\u274c\", \"\\u274c\", \"\\u26a0\\ufe0f\", \"\\u26a0\\ufe0f\", \"\\u26a0\\ufe0f\", \"\\u26a0\\ufe0f\", \"\\u26a0\\ufe0f\", \"\\u26a0\\ufe0f\", \"\\u26a0\\ufe0f\"], [\"ZarasuR\", \"1\", \"25\", \"414\", \"16\", \"45821\", \"1332\", \"328\", \"88\", \"\\u274c\", \"\\u274c\", \"\\u26a0\\ufe0f\", \"\\u26a0\\ufe0f\", \"\\u26a0\\ufe0f\", \"\\u26a0\\ufe0f\", \"\\u26a0\\ufe0f\", \"\\u26a0\\ufe0f\", \"\\u26a0\\ufe0f\"], [\"akmene\", \"1\", \"22\", \"909\", \"47\", \"80820\", \"1322\", \"199\", \"108\", \"\\u274c\", \"\\u274c\", \"\\u26a0\\ufe0f\", \"\\u26a0\\ufe0f\", \"\\u26a0\\ufe0f\", \"\\u26a0\\ufe0f\", \"\\u26a0\\ufe0f\", \"\\u26a0\\ufe0f\", \"\\u26a0\\ufe0f\"], [\"birstono-gtfs\", \"\\u274c\", \"\\u274c\", \"\\u274c\", \"\\u274c\", \"\\u274c\", \"\\u274c\", \"\\u274c\", \"\\u274c\", \"\\u274c\", \"\\u274c\", \"\\u26a0\\ufe0f\", \"\\u26a0\\ufe0f\", \"\\u26a0\\ufe0f\", \"\\u26a0\\ufe0f\", \"\\u26a0\\ufe0f\", \"\\u26a0\\ufe0f\", \"\\u26a0\\ufe0f\"], [\"google_transit\", \"5\", \"176\", \"2856\", \"51\", \"115909\", \"2940\", \"664\", \"188\", \"\\u274c\", \"\\u274c\", \"\\u26a0\\ufe0f\", \"\\u26a0\\ufe0f\", \"\\u26a0\\ufe0f\", \"\\u26a0\\ufe0f\", \"\\u26a0\\ufe0f\", \"\\u26a0\\ufe0f\", \"\\u26a0\\ufe0f\"], [\"gtfs_all\", \"68\", \"4125\", \"33078\", \"1923\", \"2393862\", \"61318\", \"5959\", \"3902\", \"283321\", \"283321\", \"\\u26a0\\ufe0f\", \"\\u26a0\\ufe0f\", \"\\u26a0\\ufe0f\", \"\\u26a0\\ufe0f\", \"\\u26a0\\ufe0f\", \"\\u26a0\\ufe0f\", \"\\u26a0\\ufe0f\"], [\"neringa\", \"1\", \"2\", \"\\u274c\", \"1\", \"8449\", \"329\", \"23\", \"28\", \"\\u274c\", \"\\u274c\", \"\\u26a0\\ufe0f\", \"\\u26a0\\ufe0f\", \"\\u26a0\\ufe0f\", \"\\u26a0\\ufe0f\", \"\\u26a0\\ufe0f\", \"\\u26a0\\ufe0f\", \"\\u26a0\\ufe0f\"]];\n",
       "\n",
       "    if (typeof require === 'undefined') {\n",
       "        // TODO: This should become the default (use a simple import)\n",
       "        // when the ESM version works independently of whether\n",
       "        // require.js is there or not, see\n",
       "        // https://datatables.net/forums/discussion/69066/esm-es6-module-support?\n",
       "        const {default: $} = await import(\"https://esm.sh/jquery@3.5.0\");\n",
       "        const {default: initDataTables} = await import(\"https://esm.sh/datatables.net@1.11.3?deps=jquery@3.5.0\");\n",
       "\n",
       "        initDataTables();\n",
       "\n",
       "        // Define the dt_args\n",
       "        let dt_args = {\"columnDefs\": [{\"width\": \"70px\", \"targets\": \"_all\"}]};\n",
       "        dt_args[\"data\"] = data;\n",
       "\n",
       "        // Display the table\n",
       "        $(document).ready(function () {\n",
       "            $('#e384fd38-5078-4f48-8039-d5d8bae2d83e').DataTable(dt_args);\n",
       "        });\n",
       "    } else {\n",
       "        require([\"jquery\", \"datatables\"], ($, datatables) => {\n",
       "                // Define the dt_args\n",
       "                let dt_args = {\"columnDefs\": [{\"width\": \"70px\", \"targets\": \"_all\"}]};\n",
       "                dt_args[\"data\"] = data;\n",
       "\n",
       "                // Display the table\n",
       "                $(document).ready(function () {\n",
       "                    $('#e384fd38-5078-4f48-8039-d5d8bae2d83e').DataTable(dt_args);\n",
       "                });\n",
       "            }\n",
       "        )\n",
       "    }\n",
       "</script>\n"
      ],
      "text/plain": [
       "               agency.txt calendar.txt calendar_dates.txt routes.txt  \\\n",
       "failas                                                                 \n",
       "AlytausM                1           36                109         16   \n",
       "AlytausR                1            7                 77         25   \n",
       "AnyksciuR               1           33                  ❌         32   \n",
       "Birstono                ❌            ❌                  ❌          ❌   \n",
       "BirzuR                  1           40               3826          ❌   \n",
       "...                   ...          ...                ...        ...   \n",
       "akmene                  1           22                909         47   \n",
       "birstono-gtfs           ❌            ❌                  ❌          ❌   \n",
       "google_transit          5          176               2856         51   \n",
       "gtfs_all               68         4125              33078       1923   \n",
       "neringa                 1            2                  ❌          1   \n",
       "\n",
       "               shapes.txt stop_times.txt stops.txt trips.txt  \\\n",
       "failas                                                         \n",
       "AlytausM            10780           5744       190       297   \n",
       "AlytausR            61971           2885       434       171   \n",
       "AnyksciuR           54145           2627       365       188   \n",
       "Birstono                ❌              ❌         ❌         ❌   \n",
       "BirzuR                  ❌              ❌         ❌         ❌   \n",
       "...                   ...            ...       ...       ...   \n",
       "akmene              80820           1322       199       108   \n",
       "birstono-gtfs           ❌              ❌         ❌         ❌   \n",
       "google_transit     115909           2940       664       188   \n",
       "gtfs_all          2393862          61318      5959      3902   \n",
       "neringa              8449            329        23        28   \n",
       "\n",
       "               fare_attributes.txt fare_rules.txt attributions.txt  \\\n",
       "failas                                                               \n",
       "AlytausM                         ❌              ❌               ⚠️   \n",
       "AlytausR                         ❌              ❌               ⚠️   \n",
       "AnyksciuR                        ❌              ❌               ⚠️   \n",
       "Birstono                         ❌              ❌               ⚠️   \n",
       "BirzuR                           ❌              ❌               ⚠️   \n",
       "...                            ...            ...              ...   \n",
       "akmene                           ❌              ❌               ⚠️   \n",
       "birstono-gtfs                    ❌              ❌               ⚠️   \n",
       "google_transit                   ❌              ❌               ⚠️   \n",
       "gtfs_all                    283321         283321               ⚠️   \n",
       "neringa                          ❌              ❌               ⚠️   \n",
       "\n",
       "               feed_info.txt frequencies.txt levels.txt pathways.txt  \\\n",
       "failas                                                                 \n",
       "AlytausM                  ⚠️              ⚠️         ⚠️           ⚠️   \n",
       "AlytausR                  ⚠️              ⚠️         ⚠️           ⚠️   \n",
       "AnyksciuR                 ⚠️              ⚠️         ⚠️           ⚠️   \n",
       "Birstono                  ⚠️              ⚠️         ⚠️           ⚠️   \n",
       "BirzuR                    ⚠️              ⚠️         ⚠️           ⚠️   \n",
       "...                      ...             ...        ...          ...   \n",
       "akmene                    ⚠️              ⚠️         ⚠️           ⚠️   \n",
       "birstono-gtfs             ⚠️              ⚠️         ⚠️           ⚠️   \n",
       "google_transit            ⚠️              ⚠️         ⚠️           ⚠️   \n",
       "gtfs_all                  ⚠️              ⚠️         ⚠️           ⚠️   \n",
       "neringa                   ⚠️              ⚠️         ⚠️           ⚠️   \n",
       "\n",
       "               transfers.txt translations.txt  \n",
       "failas                                         \n",
       "AlytausM                  ⚠️               ⚠️  \n",
       "AlytausR                  ⚠️               ⚠️  \n",
       "AnyksciuR                 ⚠️               ⚠️  \n",
       "Birstono                  ⚠️               ⚠️  \n",
       "BirzuR                    ⚠️               ⚠️  \n",
       "...                      ...              ...  \n",
       "akmene                    ⚠️               ⚠️  \n",
       "birstono-gtfs             ⚠️               ⚠️  \n",
       "google_transit            ⚠️               ⚠️  \n",
       "gtfs_all                  ⚠️               ⚠️  \n",
       "neringa                   ⚠️               ⚠️  \n",
       "\n",
       "[62 rows x 17 columns]"
      ]
     },
     "execution_count": 98,
     "metadata": {},
     "output_type": "execute_result"
    },
    {
     "data": {
      "text/plain": "               agency.txt calendar.txt calendar_dates.txt routes.txt  \\\nfailas                                                                 \nAlytausM                1           36                109         16   \nAlytausR                1            7                 77         25   \nAnyksciuR               1           33                  ❌         32   \nBirstono                ❌            ❌                  ❌          ❌   \nBirzuR                  1           40               3826          ❌   \n...                   ...          ...                ...        ...   \nakmene                  1           22                909         47   \nbirstono-gtfs           ❌            ❌                  ❌          ❌   \ngoogle_transit          5          176               2856         51   \ngtfs_all               68         4125              33078       1923   \nneringa                 1            2                  ❌          1   \n\n               shapes.txt stop_times.txt stops.txt trips.txt  \\\nfailas                                                         \nAlytausM            10780           5744       190       297   \nAlytausR            61971           2885       434       171   \nAnyksciuR           54145           2627       365       188   \nBirstono                ❌              ❌         ❌         ❌   \nBirzuR                  ❌              ❌         ❌         ❌   \n...                   ...            ...       ...       ...   \nakmene              80820           1322       199       108   \nbirstono-gtfs           ❌              ❌         ❌         ❌   \ngoogle_transit     115909           2940       664       188   \ngtfs_all          2393862          61318      5959      3902   \nneringa              8449            329        23        28   \n\n               fare_attributes.txt fare_rules.txt attributions.txt  \\\nfailas                                                               \nAlytausM                         ❌              ❌               ⚠️   \nAlytausR                         ❌              ❌               ⚠️   \nAnyksciuR                        ❌              ❌               ⚠️   \nBirstono                         ❌              ❌               ⚠️   \nBirzuR                           ❌              ❌               ⚠️   \n...                            ...            ...              ...   \nakmene                           ❌              ❌               ⚠️   \nbirstono-gtfs                    ❌              ❌               ⚠️   \ngoogle_transit                   ❌              ❌               ⚠️   \ngtfs_all                    283321         283321               ⚠️   \nneringa                          ❌              ❌               ⚠️   \n\n               feed_info.txt frequencies.txt levels.txt pathways.txt  \\\nfailas                                                                 \nAlytausM                  ⚠️              ⚠️         ⚠️           ⚠️   \nAlytausR                  ⚠️              ⚠️         ⚠️           ⚠️   \nAnyksciuR                 ⚠️              ⚠️         ⚠️           ⚠️   \nBirstono                  ⚠️              ⚠️         ⚠️           ⚠️   \nBirzuR                    ⚠️              ⚠️         ⚠️           ⚠️   \n...                      ...             ...        ...          ...   \nakmene                    ⚠️              ⚠️         ⚠️           ⚠️   \nbirstono-gtfs             ⚠️              ⚠️         ⚠️           ⚠️   \ngoogle_transit            ⚠️              ⚠️         ⚠️           ⚠️   \ngtfs_all                  ⚠️              ⚠️         ⚠️           ⚠️   \nneringa                   ⚠️              ⚠️         ⚠️           ⚠️   \n\n               transfers.txt translations.txt  \nfailas                                         \nAlytausM                  ⚠️               ⚠️  \nAlytausR                  ⚠️               ⚠️  \nAnyksciuR                 ⚠️               ⚠️  \nBirstono                  ⚠️               ⚠️  \nBirzuR                    ⚠️               ⚠️  \n...                      ...              ...  \nakmene                    ⚠️               ⚠️  \nbirstono-gtfs             ⚠️               ⚠️  \ngoogle_transit            ⚠️               ⚠️  \ngtfs_all                  ⚠️               ⚠️  \nneringa                   ⚠️               ⚠️  \n\n[62 rows x 17 columns]",
      "text/html": "<table id=\"6af496e1-795d-4e74-b77e-458ebe9f490d\" class=\"display\"style=\"max-width:100%\"><thead><th></th><th>agency.txt</th><th>calendar.txt</th><th>calendar_dates.txt</th><th>routes.txt</th><th>shapes.txt</th><th>stop_times.txt</th><th>stops.txt</th><th>trips.txt</th><th>fare_attributes.txt</th><th>fare_rules.txt</th><th>attributions.txt</th><th>feed_info.txt</th><th>frequencies.txt</th><th>levels.txt</th><th>pathways.txt</th><th>transfers.txt</th><th>translations.txt</th></thead><tbody><tr><td>Loading... (need <a href=https://mwouts.github.io/itables/troubleshooting.html>help</a>?)</td></tr></tbody></table>\n<link rel=\"stylesheet\" type=\"text/css\" href=\"https://cdn.datatables.net/1.11.3/css/jquery.dataTables.min.css\">\n<style> table td {\n    text-overflow: ellipsis;\n    overflow: hidden;\n} </style>\n<style> table th {\n    text-overflow: ellipsis;\n    overflow: hidden;\n} </style>\n<script type=\"module\">\n    // Define the table data\n    const data = [[\"AlytausM\", \"1\", \"36\", \"109\", \"16\", \"10780\", \"5744\", \"190\", \"297\", \"\\u274c\", \"\\u274c\", \"\\u26a0\\ufe0f\", \"\\u26a0\\ufe0f\", \"\\u26a0\\ufe0f\", \"\\u26a0\\ufe0f\", \"\\u26a0\\ufe0f\", \"\\u26a0\\ufe0f\", \"\\u26a0\\ufe0f\"], [\"AlytausR\", \"1\", \"7\", \"77\", \"25\", \"61971\", \"2885\", \"434\", \"171\", \"\\u274c\", \"\\u274c\", \"\\u26a0\\ufe0f\", \"\\u26a0\\ufe0f\", \"\\u26a0\\ufe0f\", \"\\u26a0\\ufe0f\", \"\\u26a0\\ufe0f\", \"\\u26a0\\ufe0f\", \"\\u26a0\\ufe0f\"], [\"AnyksciuR\", \"1\", \"33\", \"\\u274c\", \"32\", \"54145\", \"2627\", \"365\", \"188\", \"\\u274c\", \"\\u274c\", \"\\u26a0\\ufe0f\", \"\\u26a0\\ufe0f\", \"\\u26a0\\ufe0f\", \"\\u26a0\\ufe0f\", \"\\u26a0\\ufe0f\", \"\\u26a0\\ufe0f\", \"\\u26a0\\ufe0f\"], [\"Birstono\", \"\\u274c\", \"\\u274c\", \"\\u274c\", \"\\u274c\", \"\\u274c\", \"\\u274c\", \"\\u274c\", \"\\u274c\", \"\\u274c\", \"\\u274c\", \"\\u26a0\\ufe0f\", \"\\u26a0\\ufe0f\", \"\\u26a0\\ufe0f\", \"\\u26a0\\ufe0f\", \"\\u26a0\\ufe0f\", \"\\u26a0\\ufe0f\", \"\\u26a0\\ufe0f\"], [\"BirzuR\", \"1\", \"40\", \"3826\", \"\\u274c\", \"\\u274c\", \"\\u274c\", \"\\u274c\", \"\\u274c\", \"\\u274c\", \"\\u274c\", \"\\u26a0\\ufe0f\", \"\\u26a0\\ufe0f\", \"\\u26a0\\ufe0f\", \"\\u26a0\\ufe0f\", \"\\u26a0\\ufe0f\", \"\\u26a0\\ufe0f\", \"\\u26a0\\ufe0f\"], [\"Druskininku\", \"1\", \"19\", \"216\", \"\\u274c\", \"\\u274c\", \"\\u274c\", \"\\u274c\", \"\\u274c\", \"\\u274c\", \"\\u274c\", \"\\u26a0\\ufe0f\", \"\\u26a0\\ufe0f\", \"\\u26a0\\ufe0f\", \"\\u26a0\\ufe0f\", \"\\u26a0\\ufe0f\", \"\\u26a0\\ufe0f\", \"\\u26a0\\ufe0f\"], [\"Elektrenu\", \"1\", \"18\", \"1004\", \"4\", \"7359\", \"434\", \"101\", \"25\", \"\\u274c\", \"\\u274c\", \"\\u26a0\\ufe0f\", \"\\u26a0\\ufe0f\", \"\\u26a0\\ufe0f\", \"\\u26a0\\ufe0f\", \"\\u26a0\\ufe0f\", \"\\u26a0\\ufe0f\", \"\\u26a0\\ufe0f\"], [\"IgnalinosR\", \"1\", \"50\", \"2376\", \"35\", \"70088\", \"1608\", \"346\", \"100\", \"\\u274c\", \"\\u274c\", \"\\u26a0\\ufe0f\", \"\\u26a0\\ufe0f\", \"\\u26a0\\ufe0f\", \"\\u26a0\\ufe0f\", \"\\u26a0\\ufe0f\", \"\\u26a0\\ufe0f\", \"\\u26a0\\ufe0f\"], [\"JonavosR\", \"1\", \"19\", \"488\", \"24\", \"28129\", \"6866\", \"292\", \"463\", \"\\u274c\", \"\\u274c\", \"\\u26a0\\ufe0f\", \"\\u26a0\\ufe0f\", \"\\u26a0\\ufe0f\", \"\\u26a0\\ufe0f\", \"\\u26a0\\ufe0f\", \"\\u26a0\\ufe0f\", \"\\u26a0\\ufe0f\"], [\"JoniskioR\", \"1\", \"10\", \"1158\", \"16\", \"24567\", \"880\", \"185\", \"52\", \"\\u274c\", \"\\u274c\", \"\\u26a0\\ufe0f\", \"\\u26a0\\ufe0f\", \"\\u26a0\\ufe0f\", \"\\u26a0\\ufe0f\", \"\\u26a0\\ufe0f\", \"\\u26a0\\ufe0f\", \"\\u26a0\\ufe0f\"], [\"JurbarkoR\", \"1\", \"12\", \"\\u274c\", \"15\", \"34360\", \"941\", \"269\", \"64\", \"\\u274c\", \"\\u274c\", \"\\u26a0\\ufe0f\", \"\\u26a0\\ufe0f\", \"\\u26a0\\ufe0f\", \"\\u26a0\\ufe0f\", \"\\u26a0\\ufe0f\", \"\\u26a0\\ufe0f\", \"\\u26a0\\ufe0f\"], [\"Kalvarijos\", \"1\", \"7\", \"\\u274c\", \"\\u274c\", \"\\u274c\", \"\\u274c\", \"\\u274c\", \"\\u274c\", \"\\u274c\", \"\\u274c\", \"\\u26a0\\ufe0f\", \"\\u26a0\\ufe0f\", \"\\u26a0\\ufe0f\", \"\\u26a0\\ufe0f\", \"\\u26a0\\ufe0f\", \"\\u26a0\\ufe0f\", \"\\u26a0\\ufe0f\"], [\"KaunoM\", \"1\", \"387\", \"1140\", \"\\u274c\", \"\\u274c\", \"\\u274c\", \"\\u274c\", \"\\u274c\", \"\\u274c\", \"\\u274c\", \"\\u26a0\\ufe0f\", \"\\u26a0\\ufe0f\", \"\\u26a0\\ufe0f\", \"\\u26a0\\ufe0f\", \"\\u26a0\\ufe0f\", \"\\u26a0\\ufe0f\", \"\\u26a0\\ufe0f\"], [\"KaunoR\", \"1\", \"91\", \"737\", \"23\", \"20259\", \"13005\", \"677\", \"548\", \"\\u274c\", \"\\u274c\", \"\\u26a0\\ufe0f\", \"\\u26a0\\ufe0f\", \"\\u26a0\\ufe0f\", \"\\u26a0\\ufe0f\", \"\\u26a0\\ufe0f\", \"\\u26a0\\ufe0f\", \"\\u26a0\\ufe0f\"], [\"Kazlurudos\", \"1\", \"\\u274c\", \"\\u274c\", \"\\u274c\", \"\\u274c\", \"\\u274c\", \"\\u274c\", \"\\u274c\", \"\\u274c\", \"\\u274c\", \"\\u26a0\\ufe0f\", \"\\u26a0\\ufe0f\", \"\\u26a0\\ufe0f\", \"\\u26a0\\ufe0f\", \"\\u26a0\\ufe0f\", \"\\u26a0\\ufe0f\", \"\\u26a0\\ufe0f\"], [\"KedainiuR\", \"1\", \"16\", \"\\u274c\", \"34\", \"41789\", \"4685\", \"302\", \"328\", \"\\u274c\", \"\\u274c\", \"\\u26a0\\ufe0f\", \"\\u26a0\\ufe0f\", \"\\u26a0\\ufe0f\", \"\\u26a0\\ufe0f\", \"\\u26a0\\ufe0f\", \"\\u26a0\\ufe0f\", \"\\u26a0\\ufe0f\"], [\"KelmesR\", \"1\", \"80\", \"1918\", \"321\", \"2193524\", \"19387\", \"2744\", \"934\", \"\\u274c\", \"\\u274c\", \"\\u26a0\\ufe0f\", \"\\u26a0\\ufe0f\", \"\\u26a0\\ufe0f\", \"\\u26a0\\ufe0f\", \"\\u26a0\\ufe0f\", \"\\u26a0\\ufe0f\", \"\\u26a0\\ufe0f\"], [\"KiasiadoriuR\", \"1\", \"9\", \"\\u274c\", \"2\", \"3404\", \"46\", \"27\", \"2\", \"\\u274c\", \"\\u274c\", \"\\u26a0\\ufe0f\", \"\\u26a0\\ufe0f\", \"\\u26a0\\ufe0f\", \"\\u26a0\\ufe0f\", \"\\u26a0\\ufe0f\", \"\\u26a0\\ufe0f\", \"\\u26a0\\ufe0f\"], [\"KlaipedosM\", \"1\", \"449\", \"1352\", \"1\", \"331\", \"217\", \"30\", \"14\", \"\\u274c\", \"\\u274c\", \"\\u26a0\\ufe0f\", \"\\u26a0\\ufe0f\", \"\\u26a0\\ufe0f\", \"\\u26a0\\ufe0f\", \"\\u26a0\\ufe0f\", \"\\u26a0\\ufe0f\", \"\\u26a0\\ufe0f\"], [\"KlaipedosR\", \"1\", \"80\", \"1918\", \"321\", \"2193524\", \"19387\", \"2744\", \"934\", \"\\u274c\", \"\\u274c\", \"\\u26a0\\ufe0f\", \"\\u26a0\\ufe0f\", \"\\u26a0\\ufe0f\", \"\\u26a0\\ufe0f\", \"\\u26a0\\ufe0f\", \"\\u26a0\\ufe0f\", \"\\u26a0\\ufe0f\"], [\"KretingosR\", \"1\", \"12\", \"963\", \"67\", \"31888\", \"2748\", \"242\", \"199\", \"\\u274c\", \"\\u274c\", \"\\u26a0\\ufe0f\", \"\\u26a0\\ufe0f\", \"\\u26a0\\ufe0f\", \"\\u26a0\\ufe0f\", \"\\u26a0\\ufe0f\", \"\\u26a0\\ufe0f\", \"\\u26a0\\ufe0f\"], [\"KupiskioR\", \"1\", \"\\u274c\", \"\\u274c\", \"\\u274c\", \"\\u274c\", \"\\u274c\", \"\\u274c\", \"\\u274c\", \"\\u274c\", \"\\u274c\", \"\\u26a0\\ufe0f\", \"\\u26a0\\ufe0f\", \"\\u26a0\\ufe0f\", \"\\u26a0\\ufe0f\", \"\\u26a0\\ufe0f\", \"\\u26a0\\ufe0f\", \"\\u26a0\\ufe0f\"], [\"LTSAR\", \"1\", \"105\", \"2922\", \"273\", \"1860906\", \"16101\", \"2377\", \"804\", \"\\u274c\", \"\\u274c\", \"\\u26a0\\ufe0f\", \"\\u26a0\\ufe0f\", \"\\u26a0\\ufe0f\", \"\\u26a0\\ufe0f\", \"\\u26a0\\ufe0f\", \"\\u26a0\\ufe0f\", \"\\u26a0\\ufe0f\"], [\"LazdijuR\", \"1\", \"1\", \"\\u274c\", \"\\u274c\", \"\\u274c\", \"\\u274c\", \"\\u274c\", \"\\u274c\", \"\\u274c\", \"\\u274c\", \"\\u26a0\\ufe0f\", \"\\u26a0\\ufe0f\", \"\\u26a0\\ufe0f\", \"\\u26a0\\ufe0f\", \"\\u26a0\\ufe0f\", \"\\u26a0\\ufe0f\", \"\\u26a0\\ufe0f\"], [\"Marijampoles\", \"1\", \"10\", \"\\u274c\", \"13\", \"13588\", \"3996\", \"216\", \"249\", \"\\u274c\", \"\\u274c\", \"\\u26a0\\ufe0f\", \"\\u26a0\\ufe0f\", \"\\u26a0\\ufe0f\", \"\\u26a0\\ufe0f\", \"\\u26a0\\ufe0f\", \"\\u26a0\\ufe0f\", \"\\u26a0\\ufe0f\"], [\"MazeikiuR\", \"1\", \"6\", \"\\u274c\", \"26\", \"30848\", \"1909\", \"274\", \"157\", \"\\u274c\", \"\\u274c\", \"\\u26a0\\ufe0f\", \"\\u26a0\\ufe0f\", \"\\u26a0\\ufe0f\", \"\\u26a0\\ufe0f\", \"\\u26a0\\ufe0f\", \"\\u26a0\\ufe0f\", \"\\u26a0\\ufe0f\"], [\"MoletuR\", \"1\", \"38\", \"\\u274c\", \"36\", \"42024\", \"919\", \"254\", \"64\", \"\\u274c\", \"\\u274c\", \"\\u26a0\\ufe0f\", \"\\u26a0\\ufe0f\", \"\\u26a0\\ufe0f\", \"\\u26a0\\ufe0f\", \"\\u26a0\\ufe0f\", \"\\u26a0\\ufe0f\", \"\\u26a0\\ufe0f\"], [\"PagegiuR\", \"1\", \"2\", \"24\", \"2\", \"4509\", \"94\", \"79\", \"4\", \"\\u274c\", \"\\u274c\", \"\\u26a0\\ufe0f\", \"\\u26a0\\ufe0f\", \"\\u26a0\\ufe0f\", \"\\u26a0\\ufe0f\", \"\\u26a0\\ufe0f\", \"\\u26a0\\ufe0f\", \"\\u26a0\\ufe0f\"], [\"PakruojoR\", \"1\", \"33\", \"1505\", \"\\u274c\", \"\\u274c\", \"\\u274c\", \"\\u274c\", \"\\u274c\", \"\\u274c\", \"\\u274c\", \"\\u26a0\\ufe0f\", \"\\u26a0\\ufe0f\", \"\\u26a0\\ufe0f\", \"\\u26a0\\ufe0f\", \"\\u26a0\\ufe0f\", \"\\u26a0\\ufe0f\", \"\\u26a0\\ufe0f\"], [\"PalangosM\", \"1\", \"1\", \"92\", \"1\", \"1708\", \"160\", \"27\", \"10\", \"\\u274c\", \"\\u274c\", \"\\u26a0\\ufe0f\", \"\\u26a0\\ufe0f\", \"\\u26a0\\ufe0f\", \"\\u26a0\\ufe0f\", \"\\u26a0\\ufe0f\", \"\\u26a0\\ufe0f\", \"\\u26a0\\ufe0f\"], [\"PanevezioM\", \"1\", \"99\", \"108\", \"\\u274c\", \"\\u274c\", \"\\u274c\", \"\\u274c\", \"\\u274c\", \"\\u274c\", \"\\u274c\", \"\\u26a0\\ufe0f\", \"\\u26a0\\ufe0f\", \"\\u26a0\\ufe0f\", \"\\u26a0\\ufe0f\", \"\\u26a0\\ufe0f\", \"\\u26a0\\ufe0f\", \"\\u26a0\\ufe0f\"], [\"PanevezioR\", \"1\", \"\\u274c\", \"\\u274c\", \"\\u274c\", \"\\u274c\", \"\\u274c\", \"\\u274c\", \"\\u274c\", \"\\u274c\", \"\\u274c\", \"\\u26a0\\ufe0f\", \"\\u26a0\\ufe0f\", \"\\u26a0\\ufe0f\", \"\\u26a0\\ufe0f\", \"\\u26a0\\ufe0f\", \"\\u26a0\\ufe0f\", \"\\u26a0\\ufe0f\"], [\"PasvalioR\", \"1\", \"95\", \"2073\", \"321\", \"2201594\", \"19531\", \"2725\", \"942\", \"\\u274c\", \"\\u274c\", \"\\u26a0\\ufe0f\", \"\\u26a0\\ufe0f\", \"\\u26a0\\ufe0f\", \"\\u26a0\\ufe0f\", \"\\u26a0\\ufe0f\", \"\\u26a0\\ufe0f\", \"\\u26a0\\ufe0f\"], [\"PlungesR\", \"1\", \"21\", \"\\u274c\", \"25\", \"29144\", \"2687\", \"244\", \"281\", \"\\u274c\", \"\\u274c\", \"\\u26a0\\ufe0f\", \"\\u26a0\\ufe0f\", \"\\u26a0\\ufe0f\", \"\\u26a0\\ufe0f\", \"\\u26a0\\ufe0f\", \"\\u26a0\\ufe0f\", \"\\u26a0\\ufe0f\"], [\"PrienuR\", \"1\", \"\\u274c\", \"\\u274c\", \"\\u274c\", \"\\u274c\", \"\\u274c\", \"\\u274c\", \"\\u274c\", \"\\u274c\", \"\\u274c\", \"\\u26a0\\ufe0f\", \"\\u26a0\\ufe0f\", \"\\u26a0\\ufe0f\", \"\\u26a0\\ufe0f\", \"\\u26a0\\ufe0f\", \"\\u26a0\\ufe0f\", \"\\u26a0\\ufe0f\"], [\"RadviliskioR\", \"1\", \"80\", \"3944\", \"54\", \"58635\", \"4077\", \"468\", \"302\", \"\\u274c\", \"\\u274c\", \"\\u26a0\\ufe0f\", \"\\u26a0\\ufe0f\", \"\\u26a0\\ufe0f\", \"\\u26a0\\ufe0f\", \"\\u26a0\\ufe0f\", \"\\u26a0\\ufe0f\", \"\\u26a0\\ufe0f\"], [\"RaseiniuR\", \"1\", \"34\", \"1911\", \"21\", \"18570\", \"787\", \"211\", \"61\", \"\\u274c\", \"\\u274c\", \"\\u26a0\\ufe0f\", \"\\u26a0\\ufe0f\", \"\\u26a0\\ufe0f\", \"\\u26a0\\ufe0f\", \"\\u26a0\\ufe0f\", \"\\u26a0\\ufe0f\", \"\\u26a0\\ufe0f\"], [\"Rietavo\", \"1\", \"1\", \"\\u274c\", \"2\", \"903\", \"24\", \"10\", \"4\", \"\\u274c\", \"\\u274c\", \"\\u26a0\\ufe0f\", \"\\u26a0\\ufe0f\", \"\\u26a0\\ufe0f\", \"\\u26a0\\ufe0f\", \"\\u26a0\\ufe0f\", \"\\u26a0\\ufe0f\", \"\\u26a0\\ufe0f\"], [\"RokiskioR\", \"1\", \"32\", \"174\", \"23\", \"53801\", \"2685\", \"362\", \"159\", \"\\u274c\", \"\\u274c\", \"\\u26a0\\ufe0f\", \"\\u26a0\\ufe0f\", \"\\u26a0\\ufe0f\", \"\\u26a0\\ufe0f\", \"\\u26a0\\ufe0f\", \"\\u26a0\\ufe0f\", \"\\u26a0\\ufe0f\"], [\"SalcininkuR\", \"1\", \"8\", \"36\", \"2\", \"4813\", \"1027\", \"50\", \"41\", \"\\u274c\", \"\\u274c\", \"\\u26a0\\ufe0f\", \"\\u26a0\\ufe0f\", \"\\u26a0\\ufe0f\", \"\\u26a0\\ufe0f\", \"\\u26a0\\ufe0f\", \"\\u26a0\\ufe0f\", \"\\u26a0\\ufe0f\"], [\"SiauliuM\", \"1\", \"9\", \"5\", \"2\", \"236\", \"256\", \"22\", \"32\", \"\\u274c\", \"\\u274c\", \"\\u26a0\\ufe0f\", \"\\u26a0\\ufe0f\", \"\\u26a0\\ufe0f\", \"\\u26a0\\ufe0f\", \"\\u26a0\\ufe0f\", \"\\u26a0\\ufe0f\", \"\\u26a0\\ufe0f\"], [\"SiauliuR\", \"1\", \"63\", \"1117\", \"25\", \"33828\", \"2257\", \"291\", \"160\", \"\\u274c\", \"\\u274c\", \"\\u26a0\\ufe0f\", \"\\u26a0\\ufe0f\", \"\\u26a0\\ufe0f\", \"\\u26a0\\ufe0f\", \"\\u26a0\\ufe0f\", \"\\u26a0\\ufe0f\", \"\\u26a0\\ufe0f\"], [\"SilalesR\", \"1\", \"2\", \"\\u274c\", \"22\", \"17549\", \"367\", \"141\", \"43\", \"\\u274c\", \"\\u274c\", \"\\u26a0\\ufe0f\", \"\\u26a0\\ufe0f\", \"\\u26a0\\ufe0f\", \"\\u26a0\\ufe0f\", \"\\u26a0\\ufe0f\", \"\\u26a0\\ufe0f\", \"\\u26a0\\ufe0f\"], [\"SilutesR\", \"1\", \"23\", \"\\u274c\", \"18\", \"34021\", \"1240\", \"259\", \"93\", \"\\u274c\", \"\\u274c\", \"\\u26a0\\ufe0f\", \"\\u26a0\\ufe0f\", \"\\u26a0\\ufe0f\", \"\\u26a0\\ufe0f\", \"\\u26a0\\ufe0f\", \"\\u26a0\\ufe0f\", \"\\u26a0\\ufe0f\"], [\"SkuodoR\", \"1\", \"26\", \"\\u274c\", \"36\", \"36752\", \"978\", \"176\", \"118\", \"\\u274c\", \"\\u274c\", \"\\u26a0\\ufe0f\", \"\\u26a0\\ufe0f\", \"\\u26a0\\ufe0f\", \"\\u26a0\\ufe0f\", \"\\u26a0\\ufe0f\", \"\\u26a0\\ufe0f\", \"\\u26a0\\ufe0f\"], [\"SvencioniuR\", \"1\", \"28\", \"\\u274c\", \"12\", \"21860\", \"1962\", \"288\", \"138\", \"\\u274c\", \"\\u274c\", \"\\u26a0\\ufe0f\", \"\\u26a0\\ufe0f\", \"\\u26a0\\ufe0f\", \"\\u26a0\\ufe0f\", \"\\u26a0\\ufe0f\", \"\\u26a0\\ufe0f\", \"\\u26a0\\ufe0f\"], [\"TauragesR\", \"1\", \"22\", \"3259\", \"45\", \"49812\", \"2082\", \"331\", \"185\", \"\\u274c\", \"\\u274c\", \"\\u26a0\\ufe0f\", \"\\u26a0\\ufe0f\", \"\\u26a0\\ufe0f\", \"\\u26a0\\ufe0f\", \"\\u26a0\\ufe0f\", \"\\u26a0\\ufe0f\", \"\\u26a0\\ufe0f\"], [\"Taurages_R\", \"1\", \"22\", \"3259\", \"45\", \"49812\", \"2082\", \"331\", \"185\", \"\\u274c\", \"\\u274c\", \"\\u26a0\\ufe0f\", \"\\u26a0\\ufe0f\", \"\\u26a0\\ufe0f\", \"\\u26a0\\ufe0f\", \"\\u26a0\\ufe0f\", \"\\u26a0\\ufe0f\", \"\\u26a0\\ufe0f\"], [\"TrakuR\", \"1\", \"8\", \"78\", \"33\", \"35050\", \"2436\", \"283\", \"207\", \"\\u274c\", \"\\u274c\", \"\\u26a0\\ufe0f\", \"\\u26a0\\ufe0f\", \"\\u26a0\\ufe0f\", \"\\u26a0\\ufe0f\", \"\\u26a0\\ufe0f\", \"\\u26a0\\ufe0f\", \"\\u26a0\\ufe0f\"], [\"UkmergesR\", \"1\", \"87\", \"234\", \"26\", \"65622\", \"4968\", \"338\", \"409\", \"\\u274c\", \"\\u274c\", \"\\u26a0\\ufe0f\", \"\\u26a0\\ufe0f\", \"\\u26a0\\ufe0f\", \"\\u26a0\\ufe0f\", \"\\u26a0\\ufe0f\", \"\\u26a0\\ufe0f\", \"\\u26a0\\ufe0f\"], [\"UtenosR\", \"1\", \"110\", \"6100\", \"53\", \"60421\", \"3900\", \"453\", \"276\", \"\\u274c\", \"\\u274c\", \"\\u26a0\\ufe0f\", \"\\u26a0\\ufe0f\", \"\\u26a0\\ufe0f\", \"\\u26a0\\ufe0f\", \"\\u26a0\\ufe0f\", \"\\u26a0\\ufe0f\", \"\\u26a0\\ufe0f\"], [\"VarenosR\", \"1\", \"24\", \"2593\", \"15\", \"81197\", \"1967\", \"305\", \"104\", \"\\u274c\", \"\\u274c\", \"\\u26a0\\ufe0f\", \"\\u26a0\\ufe0f\", \"\\u26a0\\ufe0f\", \"\\u26a0\\ufe0f\", \"\\u26a0\\ufe0f\", \"\\u26a0\\ufe0f\", \"\\u26a0\\ufe0f\"], [\"VilkaviskioR\", \"1\", \"11\", \"\\u274c\", \"38\", \"32095\", \"1400\", \"181\", \"145\", \"\\u274c\", \"\\u274c\", \"\\u26a0\\ufe0f\", \"\\u26a0\\ufe0f\", \"\\u26a0\\ufe0f\", \"\\u26a0\\ufe0f\", \"\\u26a0\\ufe0f\", \"\\u26a0\\ufe0f\", \"\\u26a0\\ufe0f\"], [\"VilniausM\", \"1\", \"1521\", \"2690\", \"96\", \"106209\", \"477375\", \"1394\", \"24010\", \"\\u274c\", \"\\u274c\", \"\\u26a0\\ufe0f\", \"\\u26a0\\ufe0f\", \"\\u26a0\\ufe0f\", \"\\u26a0\\ufe0f\", \"\\u26a0\\ufe0f\", \"\\u26a0\\ufe0f\", \"\\u26a0\\ufe0f\"], [\"VilniausR\", \"1\", \"23\", \"\\u274c\", \"3\", \"3109\", \"870\", \"52\", \"117\", \"\\u274c\", \"\\u274c\", \"\\u26a0\\ufe0f\", \"\\u26a0\\ufe0f\", \"\\u26a0\\ufe0f\", \"\\u26a0\\ufe0f\", \"\\u26a0\\ufe0f\", \"\\u26a0\\ufe0f\", \"\\u26a0\\ufe0f\"], [\"VisaginoM\", \"1\", \"1\", \"\\u274c\", \"1\", \"638\", \"116\", \"16\", \"4\", \"\\u274c\", \"\\u274c\", \"\\u26a0\\ufe0f\", \"\\u26a0\\ufe0f\", \"\\u26a0\\ufe0f\", \"\\u26a0\\ufe0f\", \"\\u26a0\\ufe0f\", \"\\u26a0\\ufe0f\", \"\\u26a0\\ufe0f\"], [\"ZarasuR\", \"1\", \"25\", \"414\", \"16\", \"45821\", \"1332\", \"328\", \"88\", \"\\u274c\", \"\\u274c\", \"\\u26a0\\ufe0f\", \"\\u26a0\\ufe0f\", \"\\u26a0\\ufe0f\", \"\\u26a0\\ufe0f\", \"\\u26a0\\ufe0f\", \"\\u26a0\\ufe0f\", \"\\u26a0\\ufe0f\"], [\"akmene\", \"1\", \"22\", \"909\", \"47\", \"80820\", \"1322\", \"199\", \"108\", \"\\u274c\", \"\\u274c\", \"\\u26a0\\ufe0f\", \"\\u26a0\\ufe0f\", \"\\u26a0\\ufe0f\", \"\\u26a0\\ufe0f\", \"\\u26a0\\ufe0f\", \"\\u26a0\\ufe0f\", \"\\u26a0\\ufe0f\"], [\"birstono-gtfs\", \"\\u274c\", \"\\u274c\", \"\\u274c\", \"\\u274c\", \"\\u274c\", \"\\u274c\", \"\\u274c\", \"\\u274c\", \"\\u274c\", \"\\u274c\", \"\\u26a0\\ufe0f\", \"\\u26a0\\ufe0f\", \"\\u26a0\\ufe0f\", \"\\u26a0\\ufe0f\", \"\\u26a0\\ufe0f\", \"\\u26a0\\ufe0f\", \"\\u26a0\\ufe0f\"], [\"google_transit\", \"5\", \"176\", \"2856\", \"51\", \"115909\", \"2940\", \"664\", \"188\", \"\\u274c\", \"\\u274c\", \"\\u26a0\\ufe0f\", \"\\u26a0\\ufe0f\", \"\\u26a0\\ufe0f\", \"\\u26a0\\ufe0f\", \"\\u26a0\\ufe0f\", \"\\u26a0\\ufe0f\", \"\\u26a0\\ufe0f\"], [\"gtfs_all\", \"68\", \"4125\", \"33078\", \"1923\", \"2393862\", \"61318\", \"5959\", \"3902\", \"283321\", \"283321\", \"\\u26a0\\ufe0f\", \"\\u26a0\\ufe0f\", \"\\u26a0\\ufe0f\", \"\\u26a0\\ufe0f\", \"\\u26a0\\ufe0f\", \"\\u26a0\\ufe0f\", \"\\u26a0\\ufe0f\"], [\"neringa\", \"1\", \"2\", \"\\u274c\", \"1\", \"8449\", \"329\", \"23\", \"28\", \"\\u274c\", \"\\u274c\", \"\\u26a0\\ufe0f\", \"\\u26a0\\ufe0f\", \"\\u26a0\\ufe0f\", \"\\u26a0\\ufe0f\", \"\\u26a0\\ufe0f\", \"\\u26a0\\ufe0f\", \"\\u26a0\\ufe0f\"]];\n\n    if (typeof require === 'undefined') {\n        // TODO: This should become the default (use a simple import)\n        // when the ESM version works independently of whether\n        // require.js is there or not, see\n        // https://datatables.net/forums/discussion/69066/esm-es6-module-support?\n        const {default: $} = await import(\"https://esm.sh/jquery@3.5.0\");\n        const {default: initDataTables} = await import(\"https://esm.sh/datatables.net@1.11.3?deps=jquery@3.5.0\");\n\n        initDataTables();\n\n        // Define the dt_args\n        let dt_args = {\"columnDefs\": [{\"width\": \"70px\", \"targets\": \"_all\"}]};\n        dt_args[\"data\"] = data;\n\n        // Display the table\n        $(document).ready(function () {\n            $('#6af496e1-795d-4e74-b77e-458ebe9f490d').DataTable(dt_args);\n        });\n    } else {\n        require([\"jquery\", \"datatables\"], ($, datatables) => {\n                // Define the dt_args\n                let dt_args = {\"columnDefs\": [{\"width\": \"70px\", \"targets\": \"_all\"}]};\n                dt_args[\"data\"] = data;\n\n                // Display the table\n                $(document).ready(function () {\n                    $('#6af496e1-795d-4e74-b77e-458ebe9f490d').DataTable(dt_args);\n                });\n            }\n        )\n    }\n</script>\n"
     },
     "execution_count": 100,
     "metadata": {},
     "output_type": "execute_result"
    }
   ],
   "source": [
    "working_directory = f'{os.getcwd()}/../../data/gtfs/vintra/'\n",
    "gtfs_files_directory = f'{working_directory}/gtfs-files/'\n",
    "\n",
    "gtfs_file_stats_df = pd.DataFrame()\n",
    "\n",
    "for file in sorted(os.listdir(gtfs_files_directory)):\n",
    "    if file.endswith('.zip'):\n",
    "        filename, _, _ = file.partition('.zip')\n",
    "\n",
    "        p = subprocess.Popen([\n",
    "            f'java -jar gtfs-validator-301.jar -i gtfs-files/{file} -o reports -v {filename}.json -e {filename}_system_errors.json -n -c lt'],\n",
    "            cwd=working_directory, shell=True, stdout=subprocess.PIPE,\n",
    "            stderr=subprocess.PIPE)\n",
    "        out, err = p.communicate()\n",
    "        errcode = p.returncode\n",
    "\n",
    "        _, _, gtfs_files_txt = out.decode(\"utf-8\").partition('seconds\\n')\n",
    "        gtfs_files = gtfs_files_txt.splitlines()\n",
    "\n",
    "        gtfs_files_dict = {'failas': filename}\n",
    "        for gtfs_file_rep in gtfs_files:\n",
    "            gtfs_file, c = gtfs_file_rep.split('\\t')\n",
    "            gtfs_files_dict[gtfs_file] = c if c != 'MISSING_FILE' else None\n",
    "\n",
    "        gtfs_file_stats_df = gtfs_file_stats_df.append(gtfs_files_dict, ignore_index=True, )\n",
    "\n",
    "gtfs_file_stats_df = gtfs_file_stats_df.reindex(\n",
    "    columns=[\n",
    "        'failas',\n",
    "        'agency.txt',\n",
    "        'calendar.txt',\n",
    "        'calendar_dates.txt',\n",
    "        'routes.txt',\n",
    "        'shapes.txt',\n",
    "        'stop_times.txt',\n",
    "        'stops.txt',\n",
    "        'trips.txt',\n",
    "        'fare_attributes.txt',\n",
    "        'fare_rules.txt',\n",
    "        'attributions.txt',\n",
    "        'feed_info.txt',\n",
    "        'frequencies.txt',\n",
    "        'levels.txt',\n",
    "        'pathways.txt',\n",
    "        'transfers.txt',\n",
    "        'translations.txt'\n",
    "    ]\n",
    ").set_index('failas')\n",
    "\n",
    "\n",
    "gtfs_file_stats_df[\n",
    "    [\n",
    "        'agency.txt',\n",
    "        'calendar.txt',\n",
    "        'calendar_dates.txt',\n",
    "        'routes.txt',\n",
    "        'shapes.txt',\n",
    "        'stop_times.txt',\n",
    "        'stops.txt',\n",
    "        'trips.txt',\n",
    "        'fare_attributes.txt',\n",
    "        'fare_rules.txt',\n",
    "    ]\n",
    "] = gtfs_file_stats_df[\n",
    "    [\n",
    "        'agency.txt',\n",
    "        'calendar.txt',\n",
    "        'calendar_dates.txt',\n",
    "        'routes.txt',\n",
    "        'shapes.txt',\n",
    "        'stop_times.txt',\n",
    "        'stops.txt',\n",
    "        'trips.txt',\n",
    "        'fare_attributes.txt',\n",
    "        'fare_rules.txt',\n",
    "    ]\n",
    "].fillna('❌')\n",
    "\n",
    "gtfs_file_stats_df.fillna('⚠️', inplace=True)\n",
    "gtfs_file_stats_df.style.set_sticky(axis=\"index\")\n",
    "\n",
    "gtfs_file_stats_df"
   ]
  },
  {
   "cell_type": "code",
   "execution_count": 101,
   "metadata": {
    "pycharm": {
     "name": "#%%\n"
    },
    "tags": [
     "hide-input"
    ]
   },
   "outputs": [],
   "source": [
    "from keplergl import KeplerGl\n",
    "import gtfs_kit as gk\n",
    "\n",
    "\n",
    "\n",
    "# map_2 = KeplerGl()\n",
    "#\n",
    "# feed = gk.read_feed(\"https://www.visimarsrutai.lt/gtfs/gtfs_all.zip\", dist_units='km')\n",
    "#\n",
    "# feed.map_routes(feed.routes.route_id, include_stops=True)\n"
   ]
  },
  {
   "cell_type": "code",
   "execution_count": 102,
   "metadata": {
    "pycharm": {
     "name": "#%%\n"
    },
    "tags": [
     "hide-input"
    ]
   },
   "outputs": [],
   "source": [
    "# import gtfs_functions as gtfs\n",
    "# import keplergl as kp\n",
    "#\n",
    "# routes, stops, stop_times, trips, shapes = gtfs.import_gtfs(\"../../data/gtfs/vintra/PanevezioM.zip\", busiest_date=True)\n",
    "#\n",
    "# cutoffs = [0, 6, 9, 15.5, 19, 22, 24]\n",
    "# line_freq = gtfs.lines_freq(stop_times, trips, shapes, routes, cutoffs=cutoffs)\n",
    "# line_freq.head()\n"
   ]
  }
 ],
 "metadata": {
  "celltoolbar": "Tags",
  "kernelspec": {
   "display_name": "Python 3 (ipykernel)",
   "language": "python",
   "name": "python3"
  },
  "language_info": {
   "codemirror_mode": {
    "name": "ipython",
    "version": 3
   },
   "file_extension": ".py",
   "mimetype": "text/x-python",
   "name": "python",
   "nbconvert_exporter": "python",
   "pygments_lexer": "ipython3",
   "version": "3.9.7"
  }
 },
 "nbformat": 4,
 "nbformat_minor": 1
}